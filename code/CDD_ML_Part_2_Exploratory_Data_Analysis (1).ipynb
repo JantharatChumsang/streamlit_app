{
  "cells": [
    {
      "cell_type": "markdown",
      "metadata": {
        "id": "l0Y7_lgN4jzM"
      },
      "source": [
        "# **Exploratory Data Analysis**\n",
        "ส่วนนี้จะทำการ Descriptor Calculation and Exploratory Data Analysis.\n",
        "\n",
        "---"
      ]
    },
    {
      "cell_type": "markdown",
      "metadata": {
        "id": "QmxXXFa4wTNG"
      },
      "source": [
        "## **Load bioactivity data**"
      ]
    },
    {
      "cell_type": "code",
      "execution_count": 1,
      "metadata": {},
      "outputs": [
        {
          "name": "stdout",
          "output_type": "stream",
          "text": [
            "Requirement already satisfied: pandas in c:\\users\\machenike\\appdata\\local\\programs\\python\\python310\\lib\\site-packages (1.4.3)\n",
            "Requirement already satisfied: pytz>=2020.1 in c:\\users\\machenike\\appdata\\local\\programs\\python\\python310\\lib\\site-packages (from pandas) (2022.1)\n",
            "Requirement already satisfied: numpy>=1.21.0 in c:\\users\\machenike\\appdata\\local\\programs\\python\\python310\\lib\\site-packages (from pandas) (1.23.0)\n",
            "Requirement already satisfied: python-dateutil>=2.8.1 in c:\\users\\machenike\\appdata\\local\\programs\\python\\python310\\lib\\site-packages (from pandas) (2.8.2)\n",
            "Requirement already satisfied: six>=1.5 in c:\\users\\machenike\\appdata\\local\\programs\\python\\python310\\lib\\site-packages (from python-dateutil>=2.8.1->pandas) (1.16.0)\n",
            "Note: you may need to restart the kernel to use updated packages.\n"
          ]
        },
        {
          "name": "stderr",
          "output_type": "stream",
          "text": [
            "WARNING: You are using pip version 22.0.4; however, version 22.1.2 is available.\n",
            "You should consider upgrading via the 'c:\\Users\\MACHENIKE\\AppData\\Local\\Programs\\Python\\Python310\\python.exe -m pip install --upgrade pip' command.\n"
          ]
        }
      ],
      "source": [
        "pip install pandas"
      ]
    },
    {
      "cell_type": "code",
      "execution_count": 7,
      "metadata": {},
      "outputs": [],
      "source": [
        "import numpy as np"
      ]
    },
    {
      "cell_type": "code",
      "execution_count": 2,
      "metadata": {
        "id": "Fpu5C7HlwV9s"
      },
      "outputs": [],
      "source": [
        "import pandas as pd"
      ]
    },
    {
      "cell_type": "code",
      "execution_count": 3,
      "metadata": {
        "colab": {
          "base_uri": "https://localhost:8080/",
          "height": 424
        },
        "id": "GCcE8J5XwjtB",
        "outputId": "97536e6c-0a6d-495e-8d9c-a4c8cc8bf44e"
      },
      "outputs": [
        {
          "data": {
            "text/html": [
              "<div>\n",
              "<style scoped>\n",
              "    .dataframe tbody tr th:only-of-type {\n",
              "        vertical-align: middle;\n",
              "    }\n",
              "\n",
              "    .dataframe tbody tr th {\n",
              "        vertical-align: top;\n",
              "    }\n",
              "\n",
              "    .dataframe thead th {\n",
              "        text-align: right;\n",
              "    }\n",
              "</style>\n",
              "<table border=\"1\" class=\"dataframe\">\n",
              "  <thead>\n",
              "    <tr style=\"text-align: right;\">\n",
              "      <th></th>\n",
              "      <th>molecule_chembl_id</th>\n",
              "      <th>canonical_smiles</th>\n",
              "      <th>standard_value</th>\n",
              "      <th>class</th>\n",
              "    </tr>\n",
              "  </thead>\n",
              "  <tbody>\n",
              "    <tr>\n",
              "      <th>0</th>\n",
              "      <td>CHEMBL341591</td>\n",
              "      <td>CC12CCC(O)CC1=CCC1C2CCC2(C)C(CC3CN3)CCC12</td>\n",
              "      <td>7100.00</td>\n",
              "      <td>intermediate</td>\n",
              "    </tr>\n",
              "    <tr>\n",
              "      <th>1</th>\n",
              "      <td>CHEMBL2111947</td>\n",
              "      <td>C[C@]12CC[C@H]3[C@@H](CC=C4C[C@@H](O)CC[C@@]43...</td>\n",
              "      <td>50000.00</td>\n",
              "      <td>inactive</td>\n",
              "    </tr>\n",
              "    <tr>\n",
              "      <th>2</th>\n",
              "      <td>CHEMBL431859</td>\n",
              "      <td>CCn1c(C(c2ccc(F)cc2)n2ccnc2)c(C)c2cc(Br)ccc21</td>\n",
              "      <td>238.00</td>\n",
              "      <td>active</td>\n",
              "    </tr>\n",
              "    <tr>\n",
              "      <th>3</th>\n",
              "      <td>CHEMBL113637</td>\n",
              "      <td>CCn1cc(C(c2ccc(F)cc2)n2ccnc2)c2ccccc21</td>\n",
              "      <td>57.00</td>\n",
              "      <td>active</td>\n",
              "    </tr>\n",
              "    <tr>\n",
              "      <th>4</th>\n",
              "      <td>CHEMBL112021</td>\n",
              "      <td>Clc1ccccc1Cn1cc(Cn2ccnc2)c2ccccc21</td>\n",
              "      <td>54.00</td>\n",
              "      <td>active</td>\n",
              "    </tr>\n",
              "    <tr>\n",
              "      <th>...</th>\n",
              "      <td>...</td>\n",
              "      <td>...</td>\n",
              "      <td>...</td>\n",
              "      <td>...</td>\n",
              "    </tr>\n",
              "    <tr>\n",
              "      <th>2066</th>\n",
              "      <td>CHEMBL4755831</td>\n",
              "      <td>Nc1ccc(C(Cn2ccnc2)=C(c2ccc(O)cc2)c2ccc(O)cc2)cc1</td>\n",
              "      <td>5.24</td>\n",
              "      <td>active</td>\n",
              "    </tr>\n",
              "    <tr>\n",
              "      <th>2067</th>\n",
              "      <td>CHEMBL4750835</td>\n",
              "      <td>Nc1ccc(C(Cn2cncn2)=C(c2ccc(O)cc2)c2ccc(O)cc2)cc1</td>\n",
              "      <td>104.00</td>\n",
              "      <td>active</td>\n",
              "    </tr>\n",
              "    <tr>\n",
              "      <th>2068</th>\n",
              "      <td>CHEMBL4745681</td>\n",
              "      <td>Nc1ccc(C(Cn2cnnc2)=C(c2ccc(O)cc2)c2ccc(O)cc2)cc1</td>\n",
              "      <td>17.70</td>\n",
              "      <td>active</td>\n",
              "    </tr>\n",
              "    <tr>\n",
              "      <th>2069</th>\n",
              "      <td>CHEMBL4778401</td>\n",
              "      <td>Oc1ccc(C(=C(Cn2ccnc2)c2cccc(O)c2)c2ccc(O)cc2)cc1</td>\n",
              "      <td>60.40</td>\n",
              "      <td>active</td>\n",
              "    </tr>\n",
              "    <tr>\n",
              "      <th>2070</th>\n",
              "      <td>CHEMBL4761359</td>\n",
              "      <td>Nc1cccc(C(Cn2ccnc2)=C(c2ccc(O)cc2)c2ccc(O)cc2)c1</td>\n",
              "      <td>439.00</td>\n",
              "      <td>active</td>\n",
              "    </tr>\n",
              "  </tbody>\n",
              "</table>\n",
              "<p>2071 rows × 4 columns</p>\n",
              "</div>"
            ],
            "text/plain": [
              "     molecule_chembl_id                                   canonical_smiles  \\\n",
              "0          CHEMBL341591          CC12CCC(O)CC1=CCC1C2CCC2(C)C(CC3CN3)CCC12   \n",
              "1         CHEMBL2111947  C[C@]12CC[C@H]3[C@@H](CC=C4C[C@@H](O)CC[C@@]43...   \n",
              "2          CHEMBL431859      CCn1c(C(c2ccc(F)cc2)n2ccnc2)c(C)c2cc(Br)ccc21   \n",
              "3          CHEMBL113637             CCn1cc(C(c2ccc(F)cc2)n2ccnc2)c2ccccc21   \n",
              "4          CHEMBL112021                 Clc1ccccc1Cn1cc(Cn2ccnc2)c2ccccc21   \n",
              "...                 ...                                                ...   \n",
              "2066      CHEMBL4755831   Nc1ccc(C(Cn2ccnc2)=C(c2ccc(O)cc2)c2ccc(O)cc2)cc1   \n",
              "2067      CHEMBL4750835   Nc1ccc(C(Cn2cncn2)=C(c2ccc(O)cc2)c2ccc(O)cc2)cc1   \n",
              "2068      CHEMBL4745681   Nc1ccc(C(Cn2cnnc2)=C(c2ccc(O)cc2)c2ccc(O)cc2)cc1   \n",
              "2069      CHEMBL4778401   Oc1ccc(C(=C(Cn2ccnc2)c2cccc(O)c2)c2ccc(O)cc2)cc1   \n",
              "2070      CHEMBL4761359   Nc1cccc(C(Cn2ccnc2)=C(c2ccc(O)cc2)c2ccc(O)cc2)c1   \n",
              "\n",
              "      standard_value         class  \n",
              "0            7100.00  intermediate  \n",
              "1           50000.00      inactive  \n",
              "2             238.00        active  \n",
              "3              57.00        active  \n",
              "4              54.00        active  \n",
              "...              ...           ...  \n",
              "2066            5.24        active  \n",
              "2067          104.00        active  \n",
              "2068           17.70        active  \n",
              "2069           60.40        active  \n",
              "2070          439.00        active  \n",
              "\n",
              "[2071 rows x 4 columns]"
            ]
          },
          "execution_count": 3,
          "metadata": {},
          "output_type": "execute_result"
        }
      ],
      "source": [
        "df = pd.read_csv('aromatase_03_bioactivity_data_preprocessed.csv')\n",
        "df"
      ]
    },
    {
      "cell_type": "code",
      "execution_count": 4,
      "metadata": {
        "id": "7AMm19NW0bJR"
      },
      "outputs": [],
      "source": [
        "df_no_smiles = df.drop(columns='canonical_smiles')"
      ]
    },
    {
      "cell_type": "code",
      "execution_count": 5,
      "metadata": {
        "id": "aymiQsfdr5sY"
      },
      "outputs": [],
      "source": [
        "smiles = []\n",
        "\n",
        "for i in df.canonical_smiles.tolist():\n",
        "  cpd = str(i).split('.')\n",
        "  cpd_longest = max(cpd, key = len)\n",
        "  smiles.append(cpd_longest)\n",
        "\n",
        "smiles = pd.Series(smiles, name = 'canonical_smiles')"
      ]
    },
    {
      "cell_type": "code",
      "execution_count": 10,
      "metadata": {
        "colab": {
          "base_uri": "https://localhost:8080/",
          "height": 424
        },
        "id": "l7a8qW_U85ZK",
        "outputId": "c154ef5a-f1a3-46e9-cd4a-9cbb99d0af7d"
      },
      "outputs": [
        {
          "data": {
            "text/html": [
              "<div>\n",
              "<style scoped>\n",
              "    .dataframe tbody tr th:only-of-type {\n",
              "        vertical-align: middle;\n",
              "    }\n",
              "\n",
              "    .dataframe tbody tr th {\n",
              "        vertical-align: top;\n",
              "    }\n",
              "\n",
              "    .dataframe thead th {\n",
              "        text-align: right;\n",
              "    }\n",
              "</style>\n",
              "<table border=\"1\" class=\"dataframe\">\n",
              "  <thead>\n",
              "    <tr style=\"text-align: right;\">\n",
              "      <th></th>\n",
              "      <th>molecule_chembl_id</th>\n",
              "      <th>standard_value</th>\n",
              "      <th>class</th>\n",
              "      <th>canonical_smiles</th>\n",
              "    </tr>\n",
              "  </thead>\n",
              "  <tbody>\n",
              "    <tr>\n",
              "      <th>0</th>\n",
              "      <td>CHEMBL341591</td>\n",
              "      <td>7100.00</td>\n",
              "      <td>intermediate</td>\n",
              "      <td>CC12CCC(O)CC1=CCC1C2CCC2(C)C(CC3CN3)CCC12</td>\n",
              "    </tr>\n",
              "    <tr>\n",
              "      <th>1</th>\n",
              "      <td>CHEMBL2111947</td>\n",
              "      <td>50000.00</td>\n",
              "      <td>inactive</td>\n",
              "      <td>C[C@]12CC[C@H]3[C@@H](CC=C4C[C@@H](O)CC[C@@]43...</td>\n",
              "    </tr>\n",
              "    <tr>\n",
              "      <th>2</th>\n",
              "      <td>CHEMBL431859</td>\n",
              "      <td>238.00</td>\n",
              "      <td>active</td>\n",
              "      <td>CCn1c(C(c2ccc(F)cc2)n2ccnc2)c(C)c2cc(Br)ccc21</td>\n",
              "    </tr>\n",
              "    <tr>\n",
              "      <th>3</th>\n",
              "      <td>CHEMBL113637</td>\n",
              "      <td>57.00</td>\n",
              "      <td>active</td>\n",
              "      <td>CCn1cc(C(c2ccc(F)cc2)n2ccnc2)c2ccccc21</td>\n",
              "    </tr>\n",
              "    <tr>\n",
              "      <th>4</th>\n",
              "      <td>CHEMBL112021</td>\n",
              "      <td>54.00</td>\n",
              "      <td>active</td>\n",
              "      <td>Clc1ccccc1Cn1cc(Cn2ccnc2)c2ccccc21</td>\n",
              "    </tr>\n",
              "    <tr>\n",
              "      <th>...</th>\n",
              "      <td>...</td>\n",
              "      <td>...</td>\n",
              "      <td>...</td>\n",
              "      <td>...</td>\n",
              "    </tr>\n",
              "    <tr>\n",
              "      <th>2066</th>\n",
              "      <td>CHEMBL4755831</td>\n",
              "      <td>5.24</td>\n",
              "      <td>active</td>\n",
              "      <td>Nc1ccc(C(Cn2ccnc2)=C(c2ccc(O)cc2)c2ccc(O)cc2)cc1</td>\n",
              "    </tr>\n",
              "    <tr>\n",
              "      <th>2067</th>\n",
              "      <td>CHEMBL4750835</td>\n",
              "      <td>104.00</td>\n",
              "      <td>active</td>\n",
              "      <td>Nc1ccc(C(Cn2cncn2)=C(c2ccc(O)cc2)c2ccc(O)cc2)cc1</td>\n",
              "    </tr>\n",
              "    <tr>\n",
              "      <th>2068</th>\n",
              "      <td>CHEMBL4745681</td>\n",
              "      <td>17.70</td>\n",
              "      <td>active</td>\n",
              "      <td>Nc1ccc(C(Cn2cnnc2)=C(c2ccc(O)cc2)c2ccc(O)cc2)cc1</td>\n",
              "    </tr>\n",
              "    <tr>\n",
              "      <th>2069</th>\n",
              "      <td>CHEMBL4778401</td>\n",
              "      <td>60.40</td>\n",
              "      <td>active</td>\n",
              "      <td>Oc1ccc(C(=C(Cn2ccnc2)c2cccc(O)c2)c2ccc(O)cc2)cc1</td>\n",
              "    </tr>\n",
              "    <tr>\n",
              "      <th>2070</th>\n",
              "      <td>CHEMBL4761359</td>\n",
              "      <td>439.00</td>\n",
              "      <td>active</td>\n",
              "      <td>Nc1cccc(C(Cn2ccnc2)=C(c2ccc(O)cc2)c2ccc(O)cc2)c1</td>\n",
              "    </tr>\n",
              "  </tbody>\n",
              "</table>\n",
              "<p>2071 rows × 4 columns</p>\n",
              "</div>"
            ],
            "text/plain": [
              "     molecule_chembl_id  standard_value         class  \\\n",
              "0          CHEMBL341591         7100.00  intermediate   \n",
              "1         CHEMBL2111947        50000.00      inactive   \n",
              "2          CHEMBL431859          238.00        active   \n",
              "3          CHEMBL113637           57.00        active   \n",
              "4          CHEMBL112021           54.00        active   \n",
              "...                 ...             ...           ...   \n",
              "2066      CHEMBL4755831            5.24        active   \n",
              "2067      CHEMBL4750835          104.00        active   \n",
              "2068      CHEMBL4745681           17.70        active   \n",
              "2069      CHEMBL4778401           60.40        active   \n",
              "2070      CHEMBL4761359          439.00        active   \n",
              "\n",
              "                                       canonical_smiles  \n",
              "0             CC12CCC(O)CC1=CCC1C2CCC2(C)C(CC3CN3)CCC12  \n",
              "1     C[C@]12CC[C@H]3[C@@H](CC=C4C[C@@H](O)CC[C@@]43...  \n",
              "2         CCn1c(C(c2ccc(F)cc2)n2ccnc2)c(C)c2cc(Br)ccc21  \n",
              "3                CCn1cc(C(c2ccc(F)cc2)n2ccnc2)c2ccccc21  \n",
              "4                    Clc1ccccc1Cn1cc(Cn2ccnc2)c2ccccc21  \n",
              "...                                                 ...  \n",
              "2066   Nc1ccc(C(Cn2ccnc2)=C(c2ccc(O)cc2)c2ccc(O)cc2)cc1  \n",
              "2067   Nc1ccc(C(Cn2cncn2)=C(c2ccc(O)cc2)c2ccc(O)cc2)cc1  \n",
              "2068   Nc1ccc(C(Cn2cnnc2)=C(c2ccc(O)cc2)c2ccc(O)cc2)cc1  \n",
              "2069   Oc1ccc(C(=C(Cn2ccnc2)c2cccc(O)c2)c2ccc(O)cc2)cc1  \n",
              "2070   Nc1cccc(C(Cn2ccnc2)=C(c2ccc(O)cc2)c2ccc(O)cc2)c1  \n",
              "\n",
              "[2071 rows x 4 columns]"
            ]
          },
          "execution_count": 10,
          "metadata": {},
          "output_type": "execute_result"
        }
      ],
      "source": [
        "df_clean_smiles = pd.concat([df_no_smiles,smiles], axis=1)\n",
        "df_clean_smiles"
      ]
    },
    {
      "cell_type": "markdown",
      "metadata": {
        "id": "YzN_S4Quro5S"
      },
      "source": [
        "## **Calculate Lipinski descriptors**\n",
        "**Rule-of-Five** or **Lipinski's Rule**.\n",
        "\n",
        "The Lipinski's Rule stated the following:\n",
        "* Molecular weight < 500 Dalton\n",
        "* Octanol-water partition coefficient (LogP) < 5\n",
        "* Hydrogen bond donors < 5\n",
        "* Hydrogen bond acceptors < 10 "
      ]
    },
    {
      "cell_type": "markdown",
      "metadata": {
        "id": "9qn_eQcnxY7C"
      },
      "source": [
        "### **Import libraries**"
      ]
    },
    {
      "cell_type": "code",
      "execution_count": 11,
      "metadata": {},
      "outputs": [
        {
          "name": "stdout",
          "output_type": "stream",
          "text": [
            "Note: you may need to restart the kernel to use updated packages.\n"
          ]
        },
        {
          "name": "stderr",
          "output_type": "stream",
          "text": [
            "ERROR: Invalid requirement: '#library'\n",
            "WARNING: You are using pip version 22.0.4; however, version 22.1.2 is available.\n",
            "You should consider upgrading via the 'c:\\Users\\MACHENIKE\\AppData\\Local\\Programs\\Python\\Python310\\python.exe -m pip install --upgrade pip' command.\n"
          ]
        }
      ],
      "source": [
        "pip install rdkit #library run Descriptors and Lipinski"
      ]
    },
    {
      "cell_type": "markdown",
      "metadata": {},
      "source": [
        "## **Install conda and rdkit**"
      ]
    },
    {
      "cell_type": "code",
      "execution_count": 12,
      "metadata": {
        "id": "CgBjIdT-rnRU"
      },
      "outputs": [],
      "source": [
        "from rdkit import Chem\n",
        "from rdkit.Chem import Descriptors\n",
        "from rdkit.Chem import Lipinski"
      ]
    },
    {
      "cell_type": "markdown",
      "metadata": {
        "id": "JsgTV-ByxdMa"
      },
      "source": [
        "### **Calculate descriptors**"
      ]
    },
    {
      "cell_type": "code",
      "execution_count": 13,
      "metadata": {
        "id": "bCXEY7a9ugO_"
      },
      "outputs": [],
      "source": [
        "\n",
        "def lipinski(smiles, verbose=False):\n",
        "\n",
        "    moldata= []\n",
        "    for elem in smiles:\n",
        "        mol=Chem.MolFromSmiles(elem) \n",
        "        moldata.append(mol)\n",
        "       \n",
        "    baseData= np.arange(1,1)\n",
        "    i=0  \n",
        "    for mol in moldata:        \n",
        "       \n",
        "        desc_MolWt = Descriptors.MolWt(mol)\n",
        "        desc_MolLogP = Descriptors.MolLogP(mol)\n",
        "        desc_NumHDonors = Lipinski.NumHDonors(mol)\n",
        "        desc_NumHAcceptors = Lipinski.NumHAcceptors(mol)\n",
        "           \n",
        "        row = np.array([desc_MolWt,\n",
        "                        desc_MolLogP,\n",
        "                        desc_NumHDonors,\n",
        "                        desc_NumHAcceptors])   \n",
        "    \n",
        "        if(i==0):\n",
        "            baseData=row\n",
        "        else:\n",
        "            baseData=np.vstack([baseData, row])\n",
        "        i=i+1      \n",
        "    \n",
        "    columnNames=[\"MW\",\"LogP\",\"NumHDonors\",\"NumHAcceptors\"]   \n",
        "    descriptors = pd.DataFrame(data=baseData,columns=columnNames)\n",
        "    \n",
        "    return descriptors"
      ]
    },
    {
      "cell_type": "code",
      "execution_count": 14,
      "metadata": {
        "colab": {
          "base_uri": "https://localhost:8080/",
          "height": 424
        },
        "id": "ThFIFw8IukMY",
        "outputId": "3f99cf8e-3a4a-4dcb-b834-8f02a38e7a9d"
      },
      "outputs": [
        {
          "data": {
            "text/html": [
              "<div>\n",
              "<style scoped>\n",
              "    .dataframe tbody tr th:only-of-type {\n",
              "        vertical-align: middle;\n",
              "    }\n",
              "\n",
              "    .dataframe tbody tr th {\n",
              "        vertical-align: top;\n",
              "    }\n",
              "\n",
              "    .dataframe thead th {\n",
              "        text-align: right;\n",
              "    }\n",
              "</style>\n",
              "<table border=\"1\" class=\"dataframe\">\n",
              "  <thead>\n",
              "    <tr style=\"text-align: right;\">\n",
              "      <th></th>\n",
              "      <th>MW</th>\n",
              "      <th>LogP</th>\n",
              "      <th>NumHDonors</th>\n",
              "      <th>NumHAcceptors</th>\n",
              "    </tr>\n",
              "  </thead>\n",
              "  <tbody>\n",
              "    <tr>\n",
              "      <th>0</th>\n",
              "      <td>329.528</td>\n",
              "      <td>4.28820</td>\n",
              "      <td>2.0</td>\n",
              "      <td>2.0</td>\n",
              "    </tr>\n",
              "    <tr>\n",
              "      <th>1</th>\n",
              "      <td>315.501</td>\n",
              "      <td>3.89810</td>\n",
              "      <td>2.0</td>\n",
              "      <td>2.0</td>\n",
              "    </tr>\n",
              "    <tr>\n",
              "      <th>2</th>\n",
              "      <td>412.306</td>\n",
              "      <td>5.70542</td>\n",
              "      <td>0.0</td>\n",
              "      <td>3.0</td>\n",
              "    </tr>\n",
              "    <tr>\n",
              "      <th>3</th>\n",
              "      <td>319.383</td>\n",
              "      <td>4.63450</td>\n",
              "      <td>0.0</td>\n",
              "      <td>3.0</td>\n",
              "    </tr>\n",
              "    <tr>\n",
              "      <th>4</th>\n",
              "      <td>321.811</td>\n",
              "      <td>4.58780</td>\n",
              "      <td>0.0</td>\n",
              "      <td>3.0</td>\n",
              "    </tr>\n",
              "    <tr>\n",
              "      <th>...</th>\n",
              "      <td>...</td>\n",
              "      <td>...</td>\n",
              "      <td>...</td>\n",
              "      <td>...</td>\n",
              "    </tr>\n",
              "    <tr>\n",
              "      <th>2066</th>\n",
              "      <td>383.451</td>\n",
              "      <td>4.53580</td>\n",
              "      <td>3.0</td>\n",
              "      <td>5.0</td>\n",
              "    </tr>\n",
              "    <tr>\n",
              "      <th>2067</th>\n",
              "      <td>384.439</td>\n",
              "      <td>3.93080</td>\n",
              "      <td>3.0</td>\n",
              "      <td>6.0</td>\n",
              "    </tr>\n",
              "    <tr>\n",
              "      <th>2068</th>\n",
              "      <td>384.439</td>\n",
              "      <td>3.93080</td>\n",
              "      <td>3.0</td>\n",
              "      <td>6.0</td>\n",
              "    </tr>\n",
              "    <tr>\n",
              "      <th>2069</th>\n",
              "      <td>384.435</td>\n",
              "      <td>4.65920</td>\n",
              "      <td>3.0</td>\n",
              "      <td>5.0</td>\n",
              "    </tr>\n",
              "    <tr>\n",
              "      <th>2070</th>\n",
              "      <td>383.451</td>\n",
              "      <td>4.53580</td>\n",
              "      <td>3.0</td>\n",
              "      <td>5.0</td>\n",
              "    </tr>\n",
              "  </tbody>\n",
              "</table>\n",
              "<p>2071 rows × 4 columns</p>\n",
              "</div>"
            ],
            "text/plain": [
              "           MW     LogP  NumHDonors  NumHAcceptors\n",
              "0     329.528  4.28820         2.0            2.0\n",
              "1     315.501  3.89810         2.0            2.0\n",
              "2     412.306  5.70542         0.0            3.0\n",
              "3     319.383  4.63450         0.0            3.0\n",
              "4     321.811  4.58780         0.0            3.0\n",
              "...       ...      ...         ...            ...\n",
              "2066  383.451  4.53580         3.0            5.0\n",
              "2067  384.439  3.93080         3.0            6.0\n",
              "2068  384.439  3.93080         3.0            6.0\n",
              "2069  384.435  4.65920         3.0            5.0\n",
              "2070  383.451  4.53580         3.0            5.0\n",
              "\n",
              "[2071 rows x 4 columns]"
            ]
          },
          "execution_count": 14,
          "metadata": {},
          "output_type": "execute_result"
        }
      ],
      "source": [
        "df_lipinski = lipinski(df_clean_smiles.canonical_smiles)\n",
        "df_lipinski"
      ]
    },
    {
      "cell_type": "code",
      "execution_count": 15,
      "metadata": {
        "colab": {
          "base_uri": "https://localhost:8080/"
        },
        "id": "EOJT3yuI6H5o",
        "outputId": "badba21d-39e0-4a63-b449-223efe3afa61"
      },
      "outputs": [],
      "source": [
        "tg = input(\"target of interest : \")"
      ]
    },
    {
      "cell_type": "markdown",
      "metadata": {
        "id": "gUMlPfFrxicj"
      },
      "source": [
        "### **Combine DataFrames**\n",
        "combined 2 DataFrames."
      ]
    },
    {
      "cell_type": "code",
      "execution_count": 16,
      "metadata": {
        "id": "DaezyM5vwp9n"
      },
      "outputs": [
        {
          "data": {
            "text/html": [
              "<div>\n",
              "<style scoped>\n",
              "    .dataframe tbody tr th:only-of-type {\n",
              "        vertical-align: middle;\n",
              "    }\n",
              "\n",
              "    .dataframe tbody tr th {\n",
              "        vertical-align: top;\n",
              "    }\n",
              "\n",
              "    .dataframe thead th {\n",
              "        text-align: right;\n",
              "    }\n",
              "</style>\n",
              "<table border=\"1\" class=\"dataframe\">\n",
              "  <thead>\n",
              "    <tr style=\"text-align: right;\">\n",
              "      <th></th>\n",
              "      <th>MW</th>\n",
              "      <th>LogP</th>\n",
              "      <th>NumHDonors</th>\n",
              "      <th>NumHAcceptors</th>\n",
              "    </tr>\n",
              "  </thead>\n",
              "  <tbody>\n",
              "    <tr>\n",
              "      <th>0</th>\n",
              "      <td>329.528</td>\n",
              "      <td>4.28820</td>\n",
              "      <td>2.0</td>\n",
              "      <td>2.0</td>\n",
              "    </tr>\n",
              "    <tr>\n",
              "      <th>1</th>\n",
              "      <td>315.501</td>\n",
              "      <td>3.89810</td>\n",
              "      <td>2.0</td>\n",
              "      <td>2.0</td>\n",
              "    </tr>\n",
              "    <tr>\n",
              "      <th>2</th>\n",
              "      <td>412.306</td>\n",
              "      <td>5.70542</td>\n",
              "      <td>0.0</td>\n",
              "      <td>3.0</td>\n",
              "    </tr>\n",
              "    <tr>\n",
              "      <th>3</th>\n",
              "      <td>319.383</td>\n",
              "      <td>4.63450</td>\n",
              "      <td>0.0</td>\n",
              "      <td>3.0</td>\n",
              "    </tr>\n",
              "    <tr>\n",
              "      <th>4</th>\n",
              "      <td>321.811</td>\n",
              "      <td>4.58780</td>\n",
              "      <td>0.0</td>\n",
              "      <td>3.0</td>\n",
              "    </tr>\n",
              "    <tr>\n",
              "      <th>...</th>\n",
              "      <td>...</td>\n",
              "      <td>...</td>\n",
              "      <td>...</td>\n",
              "      <td>...</td>\n",
              "    </tr>\n",
              "    <tr>\n",
              "      <th>2066</th>\n",
              "      <td>383.451</td>\n",
              "      <td>4.53580</td>\n",
              "      <td>3.0</td>\n",
              "      <td>5.0</td>\n",
              "    </tr>\n",
              "    <tr>\n",
              "      <th>2067</th>\n",
              "      <td>384.439</td>\n",
              "      <td>3.93080</td>\n",
              "      <td>3.0</td>\n",
              "      <td>6.0</td>\n",
              "    </tr>\n",
              "    <tr>\n",
              "      <th>2068</th>\n",
              "      <td>384.439</td>\n",
              "      <td>3.93080</td>\n",
              "      <td>3.0</td>\n",
              "      <td>6.0</td>\n",
              "    </tr>\n",
              "    <tr>\n",
              "      <th>2069</th>\n",
              "      <td>384.435</td>\n",
              "      <td>4.65920</td>\n",
              "      <td>3.0</td>\n",
              "      <td>5.0</td>\n",
              "    </tr>\n",
              "    <tr>\n",
              "      <th>2070</th>\n",
              "      <td>383.451</td>\n",
              "      <td>4.53580</td>\n",
              "      <td>3.0</td>\n",
              "      <td>5.0</td>\n",
              "    </tr>\n",
              "  </tbody>\n",
              "</table>\n",
              "<p>2071 rows × 4 columns</p>\n",
              "</div>"
            ],
            "text/plain": [
              "           MW     LogP  NumHDonors  NumHAcceptors\n",
              "0     329.528  4.28820         2.0            2.0\n",
              "1     315.501  3.89810         2.0            2.0\n",
              "2     412.306  5.70542         0.0            3.0\n",
              "3     319.383  4.63450         0.0            3.0\n",
              "4     321.811  4.58780         0.0            3.0\n",
              "...       ...      ...         ...            ...\n",
              "2066  383.451  4.53580         3.0            5.0\n",
              "2067  384.439  3.93080         3.0            6.0\n",
              "2068  384.439  3.93080         3.0            6.0\n",
              "2069  384.435  4.65920         3.0            5.0\n",
              "2070  383.451  4.53580         3.0            5.0\n",
              "\n",
              "[2071 rows x 4 columns]"
            ]
          },
          "execution_count": 16,
          "metadata": {},
          "output_type": "execute_result"
        }
      ],
      "source": [
        "df_lipinski"
      ]
    },
    {
      "cell_type": "code",
      "execution_count": 17,
      "metadata": {
        "id": "9-ChzM8_wuq_"
      },
      "outputs": [
        {
          "data": {
            "text/html": [
              "<div>\n",
              "<style scoped>\n",
              "    .dataframe tbody tr th:only-of-type {\n",
              "        vertical-align: middle;\n",
              "    }\n",
              "\n",
              "    .dataframe tbody tr th {\n",
              "        vertical-align: top;\n",
              "    }\n",
              "\n",
              "    .dataframe thead th {\n",
              "        text-align: right;\n",
              "    }\n",
              "</style>\n",
              "<table border=\"1\" class=\"dataframe\">\n",
              "  <thead>\n",
              "    <tr style=\"text-align: right;\">\n",
              "      <th></th>\n",
              "      <th>molecule_chembl_id</th>\n",
              "      <th>canonical_smiles</th>\n",
              "      <th>standard_value</th>\n",
              "      <th>class</th>\n",
              "    </tr>\n",
              "  </thead>\n",
              "  <tbody>\n",
              "    <tr>\n",
              "      <th>0</th>\n",
              "      <td>CHEMBL341591</td>\n",
              "      <td>CC12CCC(O)CC1=CCC1C2CCC2(C)C(CC3CN3)CCC12</td>\n",
              "      <td>7100.00</td>\n",
              "      <td>intermediate</td>\n",
              "    </tr>\n",
              "    <tr>\n",
              "      <th>1</th>\n",
              "      <td>CHEMBL2111947</td>\n",
              "      <td>C[C@]12CC[C@H]3[C@@H](CC=C4C[C@@H](O)CC[C@@]43...</td>\n",
              "      <td>50000.00</td>\n",
              "      <td>inactive</td>\n",
              "    </tr>\n",
              "    <tr>\n",
              "      <th>2</th>\n",
              "      <td>CHEMBL431859</td>\n",
              "      <td>CCn1c(C(c2ccc(F)cc2)n2ccnc2)c(C)c2cc(Br)ccc21</td>\n",
              "      <td>238.00</td>\n",
              "      <td>active</td>\n",
              "    </tr>\n",
              "    <tr>\n",
              "      <th>3</th>\n",
              "      <td>CHEMBL113637</td>\n",
              "      <td>CCn1cc(C(c2ccc(F)cc2)n2ccnc2)c2ccccc21</td>\n",
              "      <td>57.00</td>\n",
              "      <td>active</td>\n",
              "    </tr>\n",
              "    <tr>\n",
              "      <th>4</th>\n",
              "      <td>CHEMBL112021</td>\n",
              "      <td>Clc1ccccc1Cn1cc(Cn2ccnc2)c2ccccc21</td>\n",
              "      <td>54.00</td>\n",
              "      <td>active</td>\n",
              "    </tr>\n",
              "    <tr>\n",
              "      <th>...</th>\n",
              "      <td>...</td>\n",
              "      <td>...</td>\n",
              "      <td>...</td>\n",
              "      <td>...</td>\n",
              "    </tr>\n",
              "    <tr>\n",
              "      <th>2066</th>\n",
              "      <td>CHEMBL4755831</td>\n",
              "      <td>Nc1ccc(C(Cn2ccnc2)=C(c2ccc(O)cc2)c2ccc(O)cc2)cc1</td>\n",
              "      <td>5.24</td>\n",
              "      <td>active</td>\n",
              "    </tr>\n",
              "    <tr>\n",
              "      <th>2067</th>\n",
              "      <td>CHEMBL4750835</td>\n",
              "      <td>Nc1ccc(C(Cn2cncn2)=C(c2ccc(O)cc2)c2ccc(O)cc2)cc1</td>\n",
              "      <td>104.00</td>\n",
              "      <td>active</td>\n",
              "    </tr>\n",
              "    <tr>\n",
              "      <th>2068</th>\n",
              "      <td>CHEMBL4745681</td>\n",
              "      <td>Nc1ccc(C(Cn2cnnc2)=C(c2ccc(O)cc2)c2ccc(O)cc2)cc1</td>\n",
              "      <td>17.70</td>\n",
              "      <td>active</td>\n",
              "    </tr>\n",
              "    <tr>\n",
              "      <th>2069</th>\n",
              "      <td>CHEMBL4778401</td>\n",
              "      <td>Oc1ccc(C(=C(Cn2ccnc2)c2cccc(O)c2)c2ccc(O)cc2)cc1</td>\n",
              "      <td>60.40</td>\n",
              "      <td>active</td>\n",
              "    </tr>\n",
              "    <tr>\n",
              "      <th>2070</th>\n",
              "      <td>CHEMBL4761359</td>\n",
              "      <td>Nc1cccc(C(Cn2ccnc2)=C(c2ccc(O)cc2)c2ccc(O)cc2)c1</td>\n",
              "      <td>439.00</td>\n",
              "      <td>active</td>\n",
              "    </tr>\n",
              "  </tbody>\n",
              "</table>\n",
              "<p>2071 rows × 4 columns</p>\n",
              "</div>"
            ],
            "text/plain": [
              "     molecule_chembl_id                                   canonical_smiles  \\\n",
              "0          CHEMBL341591          CC12CCC(O)CC1=CCC1C2CCC2(C)C(CC3CN3)CCC12   \n",
              "1         CHEMBL2111947  C[C@]12CC[C@H]3[C@@H](CC=C4C[C@@H](O)CC[C@@]43...   \n",
              "2          CHEMBL431859      CCn1c(C(c2ccc(F)cc2)n2ccnc2)c(C)c2cc(Br)ccc21   \n",
              "3          CHEMBL113637             CCn1cc(C(c2ccc(F)cc2)n2ccnc2)c2ccccc21   \n",
              "4          CHEMBL112021                 Clc1ccccc1Cn1cc(Cn2ccnc2)c2ccccc21   \n",
              "...                 ...                                                ...   \n",
              "2066      CHEMBL4755831   Nc1ccc(C(Cn2ccnc2)=C(c2ccc(O)cc2)c2ccc(O)cc2)cc1   \n",
              "2067      CHEMBL4750835   Nc1ccc(C(Cn2cncn2)=C(c2ccc(O)cc2)c2ccc(O)cc2)cc1   \n",
              "2068      CHEMBL4745681   Nc1ccc(C(Cn2cnnc2)=C(c2ccc(O)cc2)c2ccc(O)cc2)cc1   \n",
              "2069      CHEMBL4778401   Oc1ccc(C(=C(Cn2ccnc2)c2cccc(O)c2)c2ccc(O)cc2)cc1   \n",
              "2070      CHEMBL4761359   Nc1cccc(C(Cn2ccnc2)=C(c2ccc(O)cc2)c2ccc(O)cc2)c1   \n",
              "\n",
              "      standard_value         class  \n",
              "0            7100.00  intermediate  \n",
              "1           50000.00      inactive  \n",
              "2             238.00        active  \n",
              "3              57.00        active  \n",
              "4              54.00        active  \n",
              "...              ...           ...  \n",
              "2066            5.24        active  \n",
              "2067          104.00        active  \n",
              "2068           17.70        active  \n",
              "2069           60.40        active  \n",
              "2070          439.00        active  \n",
              "\n",
              "[2071 rows x 4 columns]"
            ]
          },
          "execution_count": 17,
          "metadata": {},
          "output_type": "execute_result"
        }
      ],
      "source": [
        "df"
      ]
    },
    {
      "cell_type": "markdown",
      "metadata": {
        "id": "eET6iZ1Aw3oe"
      },
      "source": [
        "let's combine the 2 DataFrame"
      ]
    },
    {
      "cell_type": "code",
      "execution_count": 18,
      "metadata": {
        "id": "L9nUZC0Ww3gp"
      },
      "outputs": [],
      "source": [
        "df_combined = pd.concat([df,df_lipinski], axis=1)"
      ]
    },
    {
      "cell_type": "code",
      "execution_count": 19,
      "metadata": {
        "id": "FRBfBP3QxFJp"
      },
      "outputs": [
        {
          "data": {
            "text/html": [
              "<div>\n",
              "<style scoped>\n",
              "    .dataframe tbody tr th:only-of-type {\n",
              "        vertical-align: middle;\n",
              "    }\n",
              "\n",
              "    .dataframe tbody tr th {\n",
              "        vertical-align: top;\n",
              "    }\n",
              "\n",
              "    .dataframe thead th {\n",
              "        text-align: right;\n",
              "    }\n",
              "</style>\n",
              "<table border=\"1\" class=\"dataframe\">\n",
              "  <thead>\n",
              "    <tr style=\"text-align: right;\">\n",
              "      <th></th>\n",
              "      <th>molecule_chembl_id</th>\n",
              "      <th>canonical_smiles</th>\n",
              "      <th>standard_value</th>\n",
              "      <th>class</th>\n",
              "      <th>MW</th>\n",
              "      <th>LogP</th>\n",
              "      <th>NumHDonors</th>\n",
              "      <th>NumHAcceptors</th>\n",
              "    </tr>\n",
              "  </thead>\n",
              "  <tbody>\n",
              "    <tr>\n",
              "      <th>0</th>\n",
              "      <td>CHEMBL341591</td>\n",
              "      <td>CC12CCC(O)CC1=CCC1C2CCC2(C)C(CC3CN3)CCC12</td>\n",
              "      <td>7100.00</td>\n",
              "      <td>intermediate</td>\n",
              "      <td>329.528</td>\n",
              "      <td>4.28820</td>\n",
              "      <td>2.0</td>\n",
              "      <td>2.0</td>\n",
              "    </tr>\n",
              "    <tr>\n",
              "      <th>1</th>\n",
              "      <td>CHEMBL2111947</td>\n",
              "      <td>C[C@]12CC[C@H]3[C@@H](CC=C4C[C@@H](O)CC[C@@]43...</td>\n",
              "      <td>50000.00</td>\n",
              "      <td>inactive</td>\n",
              "      <td>315.501</td>\n",
              "      <td>3.89810</td>\n",
              "      <td>2.0</td>\n",
              "      <td>2.0</td>\n",
              "    </tr>\n",
              "    <tr>\n",
              "      <th>2</th>\n",
              "      <td>CHEMBL431859</td>\n",
              "      <td>CCn1c(C(c2ccc(F)cc2)n2ccnc2)c(C)c2cc(Br)ccc21</td>\n",
              "      <td>238.00</td>\n",
              "      <td>active</td>\n",
              "      <td>412.306</td>\n",
              "      <td>5.70542</td>\n",
              "      <td>0.0</td>\n",
              "      <td>3.0</td>\n",
              "    </tr>\n",
              "    <tr>\n",
              "      <th>3</th>\n",
              "      <td>CHEMBL113637</td>\n",
              "      <td>CCn1cc(C(c2ccc(F)cc2)n2ccnc2)c2ccccc21</td>\n",
              "      <td>57.00</td>\n",
              "      <td>active</td>\n",
              "      <td>319.383</td>\n",
              "      <td>4.63450</td>\n",
              "      <td>0.0</td>\n",
              "      <td>3.0</td>\n",
              "    </tr>\n",
              "    <tr>\n",
              "      <th>4</th>\n",
              "      <td>CHEMBL112021</td>\n",
              "      <td>Clc1ccccc1Cn1cc(Cn2ccnc2)c2ccccc21</td>\n",
              "      <td>54.00</td>\n",
              "      <td>active</td>\n",
              "      <td>321.811</td>\n",
              "      <td>4.58780</td>\n",
              "      <td>0.0</td>\n",
              "      <td>3.0</td>\n",
              "    </tr>\n",
              "    <tr>\n",
              "      <th>...</th>\n",
              "      <td>...</td>\n",
              "      <td>...</td>\n",
              "      <td>...</td>\n",
              "      <td>...</td>\n",
              "      <td>...</td>\n",
              "      <td>...</td>\n",
              "      <td>...</td>\n",
              "      <td>...</td>\n",
              "    </tr>\n",
              "    <tr>\n",
              "      <th>2066</th>\n",
              "      <td>CHEMBL4755831</td>\n",
              "      <td>Nc1ccc(C(Cn2ccnc2)=C(c2ccc(O)cc2)c2ccc(O)cc2)cc1</td>\n",
              "      <td>5.24</td>\n",
              "      <td>active</td>\n",
              "      <td>383.451</td>\n",
              "      <td>4.53580</td>\n",
              "      <td>3.0</td>\n",
              "      <td>5.0</td>\n",
              "    </tr>\n",
              "    <tr>\n",
              "      <th>2067</th>\n",
              "      <td>CHEMBL4750835</td>\n",
              "      <td>Nc1ccc(C(Cn2cncn2)=C(c2ccc(O)cc2)c2ccc(O)cc2)cc1</td>\n",
              "      <td>104.00</td>\n",
              "      <td>active</td>\n",
              "      <td>384.439</td>\n",
              "      <td>3.93080</td>\n",
              "      <td>3.0</td>\n",
              "      <td>6.0</td>\n",
              "    </tr>\n",
              "    <tr>\n",
              "      <th>2068</th>\n",
              "      <td>CHEMBL4745681</td>\n",
              "      <td>Nc1ccc(C(Cn2cnnc2)=C(c2ccc(O)cc2)c2ccc(O)cc2)cc1</td>\n",
              "      <td>17.70</td>\n",
              "      <td>active</td>\n",
              "      <td>384.439</td>\n",
              "      <td>3.93080</td>\n",
              "      <td>3.0</td>\n",
              "      <td>6.0</td>\n",
              "    </tr>\n",
              "    <tr>\n",
              "      <th>2069</th>\n",
              "      <td>CHEMBL4778401</td>\n",
              "      <td>Oc1ccc(C(=C(Cn2ccnc2)c2cccc(O)c2)c2ccc(O)cc2)cc1</td>\n",
              "      <td>60.40</td>\n",
              "      <td>active</td>\n",
              "      <td>384.435</td>\n",
              "      <td>4.65920</td>\n",
              "      <td>3.0</td>\n",
              "      <td>5.0</td>\n",
              "    </tr>\n",
              "    <tr>\n",
              "      <th>2070</th>\n",
              "      <td>CHEMBL4761359</td>\n",
              "      <td>Nc1cccc(C(Cn2ccnc2)=C(c2ccc(O)cc2)c2ccc(O)cc2)c1</td>\n",
              "      <td>439.00</td>\n",
              "      <td>active</td>\n",
              "      <td>383.451</td>\n",
              "      <td>4.53580</td>\n",
              "      <td>3.0</td>\n",
              "      <td>5.0</td>\n",
              "    </tr>\n",
              "  </tbody>\n",
              "</table>\n",
              "<p>2071 rows × 8 columns</p>\n",
              "</div>"
            ],
            "text/plain": [
              "     molecule_chembl_id                                   canonical_smiles  \\\n",
              "0          CHEMBL341591          CC12CCC(O)CC1=CCC1C2CCC2(C)C(CC3CN3)CCC12   \n",
              "1         CHEMBL2111947  C[C@]12CC[C@H]3[C@@H](CC=C4C[C@@H](O)CC[C@@]43...   \n",
              "2          CHEMBL431859      CCn1c(C(c2ccc(F)cc2)n2ccnc2)c(C)c2cc(Br)ccc21   \n",
              "3          CHEMBL113637             CCn1cc(C(c2ccc(F)cc2)n2ccnc2)c2ccccc21   \n",
              "4          CHEMBL112021                 Clc1ccccc1Cn1cc(Cn2ccnc2)c2ccccc21   \n",
              "...                 ...                                                ...   \n",
              "2066      CHEMBL4755831   Nc1ccc(C(Cn2ccnc2)=C(c2ccc(O)cc2)c2ccc(O)cc2)cc1   \n",
              "2067      CHEMBL4750835   Nc1ccc(C(Cn2cncn2)=C(c2ccc(O)cc2)c2ccc(O)cc2)cc1   \n",
              "2068      CHEMBL4745681   Nc1ccc(C(Cn2cnnc2)=C(c2ccc(O)cc2)c2ccc(O)cc2)cc1   \n",
              "2069      CHEMBL4778401   Oc1ccc(C(=C(Cn2ccnc2)c2cccc(O)c2)c2ccc(O)cc2)cc1   \n",
              "2070      CHEMBL4761359   Nc1cccc(C(Cn2ccnc2)=C(c2ccc(O)cc2)c2ccc(O)cc2)c1   \n",
              "\n",
              "      standard_value         class       MW     LogP  NumHDonors  \\\n",
              "0            7100.00  intermediate  329.528  4.28820         2.0   \n",
              "1           50000.00      inactive  315.501  3.89810         2.0   \n",
              "2             238.00        active  412.306  5.70542         0.0   \n",
              "3              57.00        active  319.383  4.63450         0.0   \n",
              "4              54.00        active  321.811  4.58780         0.0   \n",
              "...              ...           ...      ...      ...         ...   \n",
              "2066            5.24        active  383.451  4.53580         3.0   \n",
              "2067          104.00        active  384.439  3.93080         3.0   \n",
              "2068           17.70        active  384.439  3.93080         3.0   \n",
              "2069           60.40        active  384.435  4.65920         3.0   \n",
              "2070          439.00        active  383.451  4.53580         3.0   \n",
              "\n",
              "      NumHAcceptors  \n",
              "0               2.0  \n",
              "1               2.0  \n",
              "2               3.0  \n",
              "3               3.0  \n",
              "4               3.0  \n",
              "...             ...  \n",
              "2066            5.0  \n",
              "2067            6.0  \n",
              "2068            6.0  \n",
              "2069            5.0  \n",
              "2070            5.0  \n",
              "\n",
              "[2071 rows x 8 columns]"
            ]
          },
          "execution_count": 19,
          "metadata": {},
          "output_type": "execute_result"
        }
      ],
      "source": [
        "df_combined"
      ]
    },
    {
      "cell_type": "markdown",
      "metadata": {
        "id": "e0MLOedB6j96"
      },
      "source": [
        "### **Convert IC50 to pIC50**\n",
        "เพื่อให้ข้อมูล **IC50** มีการกระจายอย่างสม่ำเสมอมากขึ้น เราจะแปลง **IC50** เป็นมาตราส่วนลอการิทึมลบ ซึ่งก็คือ **-log10(IC50)**.\n",
        "\n",
        "This custom function pIC50() will accept a DataFrame as input and will:\n",
        "* Take the IC50 values from the ``standard_value`` column and converts it from nM to M by multiplying the value by 10^-9\n",
        "* Take the molar value and apply -log10\n",
        "* Delete the ``standard_value`` column and create a new ``pIC50`` column"
      ]
    },
    {
      "cell_type": "code",
      "execution_count": 20,
      "metadata": {
        "id": "UXMuFQoQ4pZF"
      },
      "outputs": [],
      "source": [
        "# https://github.com/chaninlab/estrogen-receptor-alpha-qsar/blob/master/02_ER_alpha_RO5.ipynb\n",
        "\n",
        "def pIC50(input):\n",
        "    pIC50 = []\n",
        "\n",
        "    for i in input['standard_value_norm']:\n",
        "        molar = i*(10**-9) # Converts nM to M\n",
        "        pIC50.append(-np.log10(molar))\n",
        "\n",
        "    input['pIC50'] = pIC50\n",
        "    x = input.drop('standard_value_norm', 1)\n",
        "        \n",
        "    return x"
      ]
    },
    {
      "cell_type": "markdown",
      "metadata": {
        "id": "WU5Fh1h2OaJJ"
      },
      "source": [
        "Point to note: Values greater than 100,000,000 will be fixed at 100,000,000 otherwise the negative logarithmic value will become negative."
      ]
    },
    {
      "cell_type": "code",
      "execution_count": 21,
      "metadata": {
        "id": "QuUTFUpcR1wU"
      },
      "outputs": [
        {
          "data": {
            "text/plain": [
              "count      2071.000000\n",
              "mean      14595.323676\n",
              "std       51272.197025\n",
              "min           0.000000\n",
              "25%         130.000000\n",
              "50%        1250.000000\n",
              "75%        8850.000000\n",
              "max      777000.000000\n",
              "Name: standard_value, dtype: float64"
            ]
          },
          "execution_count": 21,
          "metadata": {},
          "output_type": "execute_result"
        }
      ],
      "source": [
        "df_combined.standard_value.describe()"
      ]
    },
    {
      "cell_type": "code",
      "execution_count": 22,
      "metadata": {
        "id": "QyiJ0to5N6Z_"
      },
      "outputs": [
        {
          "data": {
            "text/plain": [
              "1.0"
            ]
          },
          "execution_count": 22,
          "metadata": {},
          "output_type": "execute_result"
        }
      ],
      "source": [
        "-np.log10( (10**-9)* 100000000 )"
      ]
    },
    {
      "cell_type": "code",
      "execution_count": 23,
      "metadata": {
        "id": "9S1aJkOYOP6K"
      },
      "outputs": [
        {
          "data": {
            "text/plain": [
              "-1.0"
            ]
          },
          "execution_count": 23,
          "metadata": {},
          "output_type": "execute_result"
        }
      ],
      "source": [
        "-np.log10( (10**-9)* 10000000000 )"
      ]
    },
    {
      "cell_type": "code",
      "execution_count": 25,
      "metadata": {
        "id": "iktHDDwtPDwl"
      },
      "outputs": [],
      "source": [
        "def norm_value(input):\n",
        "    norm = []\n",
        "\n",
        "    for i in input['standard_value']:\n",
        "        if i > 100000000:\n",
        "          i = 100000000\n",
        "        norm.append(i)\n",
        "\n",
        "    input['standard_value_norm'] = norm\n",
        "    x = input.drop('standard_value', 1)\n",
        "        \n",
        "    return x"
      ]
    },
    {
      "cell_type": "markdown",
      "metadata": {
        "id": "EkrTs7RfPsrH"
      },
      "source": [
        "ใช้ function [norm_value()] เพื่อทำให้ค่าในคอลัมน์ standard_value เป็นค่ามาตรฐาน"
      ]
    },
    {
      "cell_type": "code",
      "execution_count": 26,
      "metadata": {
        "id": "EX2Mj2-ZP1Rj"
      },
      "outputs": [
        {
          "name": "stderr",
          "output_type": "stream",
          "text": [
            "C:\\Users\\MACHENIKE\\AppData\\Local\\Temp\\ipykernel_7292\\3416609517.py:10: FutureWarning: In a future version of pandas all arguments of DataFrame.drop except for the argument 'labels' will be keyword-only.\n",
            "  x = input.drop('standard_value', 1)\n"
          ]
        },
        {
          "data": {
            "text/html": [
              "<div>\n",
              "<style scoped>\n",
              "    .dataframe tbody tr th:only-of-type {\n",
              "        vertical-align: middle;\n",
              "    }\n",
              "\n",
              "    .dataframe tbody tr th {\n",
              "        vertical-align: top;\n",
              "    }\n",
              "\n",
              "    .dataframe thead th {\n",
              "        text-align: right;\n",
              "    }\n",
              "</style>\n",
              "<table border=\"1\" class=\"dataframe\">\n",
              "  <thead>\n",
              "    <tr style=\"text-align: right;\">\n",
              "      <th></th>\n",
              "      <th>molecule_chembl_id</th>\n",
              "      <th>canonical_smiles</th>\n",
              "      <th>class</th>\n",
              "      <th>MW</th>\n",
              "      <th>LogP</th>\n",
              "      <th>NumHDonors</th>\n",
              "      <th>NumHAcceptors</th>\n",
              "      <th>standard_value_norm</th>\n",
              "    </tr>\n",
              "  </thead>\n",
              "  <tbody>\n",
              "    <tr>\n",
              "      <th>0</th>\n",
              "      <td>CHEMBL341591</td>\n",
              "      <td>CC12CCC(O)CC1=CCC1C2CCC2(C)C(CC3CN3)CCC12</td>\n",
              "      <td>intermediate</td>\n",
              "      <td>329.528</td>\n",
              "      <td>4.28820</td>\n",
              "      <td>2.0</td>\n",
              "      <td>2.0</td>\n",
              "      <td>7100.00</td>\n",
              "    </tr>\n",
              "    <tr>\n",
              "      <th>1</th>\n",
              "      <td>CHEMBL2111947</td>\n",
              "      <td>C[C@]12CC[C@H]3[C@@H](CC=C4C[C@@H](O)CC[C@@]43...</td>\n",
              "      <td>inactive</td>\n",
              "      <td>315.501</td>\n",
              "      <td>3.89810</td>\n",
              "      <td>2.0</td>\n",
              "      <td>2.0</td>\n",
              "      <td>50000.00</td>\n",
              "    </tr>\n",
              "    <tr>\n",
              "      <th>2</th>\n",
              "      <td>CHEMBL431859</td>\n",
              "      <td>CCn1c(C(c2ccc(F)cc2)n2ccnc2)c(C)c2cc(Br)ccc21</td>\n",
              "      <td>active</td>\n",
              "      <td>412.306</td>\n",
              "      <td>5.70542</td>\n",
              "      <td>0.0</td>\n",
              "      <td>3.0</td>\n",
              "      <td>238.00</td>\n",
              "    </tr>\n",
              "    <tr>\n",
              "      <th>3</th>\n",
              "      <td>CHEMBL113637</td>\n",
              "      <td>CCn1cc(C(c2ccc(F)cc2)n2ccnc2)c2ccccc21</td>\n",
              "      <td>active</td>\n",
              "      <td>319.383</td>\n",
              "      <td>4.63450</td>\n",
              "      <td>0.0</td>\n",
              "      <td>3.0</td>\n",
              "      <td>57.00</td>\n",
              "    </tr>\n",
              "    <tr>\n",
              "      <th>4</th>\n",
              "      <td>CHEMBL112021</td>\n",
              "      <td>Clc1ccccc1Cn1cc(Cn2ccnc2)c2ccccc21</td>\n",
              "      <td>active</td>\n",
              "      <td>321.811</td>\n",
              "      <td>4.58780</td>\n",
              "      <td>0.0</td>\n",
              "      <td>3.0</td>\n",
              "      <td>54.00</td>\n",
              "    </tr>\n",
              "    <tr>\n",
              "      <th>...</th>\n",
              "      <td>...</td>\n",
              "      <td>...</td>\n",
              "      <td>...</td>\n",
              "      <td>...</td>\n",
              "      <td>...</td>\n",
              "      <td>...</td>\n",
              "      <td>...</td>\n",
              "      <td>...</td>\n",
              "    </tr>\n",
              "    <tr>\n",
              "      <th>2066</th>\n",
              "      <td>CHEMBL4755831</td>\n",
              "      <td>Nc1ccc(C(Cn2ccnc2)=C(c2ccc(O)cc2)c2ccc(O)cc2)cc1</td>\n",
              "      <td>active</td>\n",
              "      <td>383.451</td>\n",
              "      <td>4.53580</td>\n",
              "      <td>3.0</td>\n",
              "      <td>5.0</td>\n",
              "      <td>5.24</td>\n",
              "    </tr>\n",
              "    <tr>\n",
              "      <th>2067</th>\n",
              "      <td>CHEMBL4750835</td>\n",
              "      <td>Nc1ccc(C(Cn2cncn2)=C(c2ccc(O)cc2)c2ccc(O)cc2)cc1</td>\n",
              "      <td>active</td>\n",
              "      <td>384.439</td>\n",
              "      <td>3.93080</td>\n",
              "      <td>3.0</td>\n",
              "      <td>6.0</td>\n",
              "      <td>104.00</td>\n",
              "    </tr>\n",
              "    <tr>\n",
              "      <th>2068</th>\n",
              "      <td>CHEMBL4745681</td>\n",
              "      <td>Nc1ccc(C(Cn2cnnc2)=C(c2ccc(O)cc2)c2ccc(O)cc2)cc1</td>\n",
              "      <td>active</td>\n",
              "      <td>384.439</td>\n",
              "      <td>3.93080</td>\n",
              "      <td>3.0</td>\n",
              "      <td>6.0</td>\n",
              "      <td>17.70</td>\n",
              "    </tr>\n",
              "    <tr>\n",
              "      <th>2069</th>\n",
              "      <td>CHEMBL4778401</td>\n",
              "      <td>Oc1ccc(C(=C(Cn2ccnc2)c2cccc(O)c2)c2ccc(O)cc2)cc1</td>\n",
              "      <td>active</td>\n",
              "      <td>384.435</td>\n",
              "      <td>4.65920</td>\n",
              "      <td>3.0</td>\n",
              "      <td>5.0</td>\n",
              "      <td>60.40</td>\n",
              "    </tr>\n",
              "    <tr>\n",
              "      <th>2070</th>\n",
              "      <td>CHEMBL4761359</td>\n",
              "      <td>Nc1cccc(C(Cn2ccnc2)=C(c2ccc(O)cc2)c2ccc(O)cc2)c1</td>\n",
              "      <td>active</td>\n",
              "      <td>383.451</td>\n",
              "      <td>4.53580</td>\n",
              "      <td>3.0</td>\n",
              "      <td>5.0</td>\n",
              "      <td>439.00</td>\n",
              "    </tr>\n",
              "  </tbody>\n",
              "</table>\n",
              "<p>2071 rows × 8 columns</p>\n",
              "</div>"
            ],
            "text/plain": [
              "     molecule_chembl_id                                   canonical_smiles  \\\n",
              "0          CHEMBL341591          CC12CCC(O)CC1=CCC1C2CCC2(C)C(CC3CN3)CCC12   \n",
              "1         CHEMBL2111947  C[C@]12CC[C@H]3[C@@H](CC=C4C[C@@H](O)CC[C@@]43...   \n",
              "2          CHEMBL431859      CCn1c(C(c2ccc(F)cc2)n2ccnc2)c(C)c2cc(Br)ccc21   \n",
              "3          CHEMBL113637             CCn1cc(C(c2ccc(F)cc2)n2ccnc2)c2ccccc21   \n",
              "4          CHEMBL112021                 Clc1ccccc1Cn1cc(Cn2ccnc2)c2ccccc21   \n",
              "...                 ...                                                ...   \n",
              "2066      CHEMBL4755831   Nc1ccc(C(Cn2ccnc2)=C(c2ccc(O)cc2)c2ccc(O)cc2)cc1   \n",
              "2067      CHEMBL4750835   Nc1ccc(C(Cn2cncn2)=C(c2ccc(O)cc2)c2ccc(O)cc2)cc1   \n",
              "2068      CHEMBL4745681   Nc1ccc(C(Cn2cnnc2)=C(c2ccc(O)cc2)c2ccc(O)cc2)cc1   \n",
              "2069      CHEMBL4778401   Oc1ccc(C(=C(Cn2ccnc2)c2cccc(O)c2)c2ccc(O)cc2)cc1   \n",
              "2070      CHEMBL4761359   Nc1cccc(C(Cn2ccnc2)=C(c2ccc(O)cc2)c2ccc(O)cc2)c1   \n",
              "\n",
              "             class       MW     LogP  NumHDonors  NumHAcceptors  \\\n",
              "0     intermediate  329.528  4.28820         2.0            2.0   \n",
              "1         inactive  315.501  3.89810         2.0            2.0   \n",
              "2           active  412.306  5.70542         0.0            3.0   \n",
              "3           active  319.383  4.63450         0.0            3.0   \n",
              "4           active  321.811  4.58780         0.0            3.0   \n",
              "...            ...      ...      ...         ...            ...   \n",
              "2066        active  383.451  4.53580         3.0            5.0   \n",
              "2067        active  384.439  3.93080         3.0            6.0   \n",
              "2068        active  384.439  3.93080         3.0            6.0   \n",
              "2069        active  384.435  4.65920         3.0            5.0   \n",
              "2070        active  383.451  4.53580         3.0            5.0   \n",
              "\n",
              "      standard_value_norm  \n",
              "0                 7100.00  \n",
              "1                50000.00  \n",
              "2                  238.00  \n",
              "3                   57.00  \n",
              "4                   54.00  \n",
              "...                   ...  \n",
              "2066                 5.24  \n",
              "2067               104.00  \n",
              "2068                17.70  \n",
              "2069                60.40  \n",
              "2070               439.00  \n",
              "\n",
              "[2071 rows x 8 columns]"
            ]
          },
          "execution_count": 26,
          "metadata": {},
          "output_type": "execute_result"
        }
      ],
      "source": [
        "df_norm = norm_value(df_combined)\n",
        "df_norm"
      ]
    },
    {
      "cell_type": "code",
      "execution_count": 27,
      "metadata": {
        "id": "hb1eKrIjRiH9"
      },
      "outputs": [
        {
          "data": {
            "text/plain": [
              "count      2071.000000\n",
              "mean      14595.323676\n",
              "std       51272.197025\n",
              "min           0.000000\n",
              "25%         130.000000\n",
              "50%        1250.000000\n",
              "75%        8850.000000\n",
              "max      777000.000000\n",
              "Name: standard_value_norm, dtype: float64"
            ]
          },
          "execution_count": 27,
          "metadata": {},
          "output_type": "execute_result"
        }
      ],
      "source": [
        "df_norm.standard_value_norm.describe()"
      ]
    },
    {
      "cell_type": "code",
      "execution_count": 30,
      "metadata": {
        "id": "UDKZzmK57YnS"
      },
      "outputs": [
        {
          "name": "stderr",
          "output_type": "stream",
          "text": [
            "C:\\Users\\MACHENIKE\\AppData\\Local\\Temp\\ipykernel_13328\\3236955376.py:8: RuntimeWarning: divide by zero encountered in log10\n",
            "  pIC50.append(-np.log10(molar))\n",
            "C:\\Users\\MACHENIKE\\AppData\\Local\\Temp\\ipykernel_13328\\3236955376.py:11: FutureWarning: In a future version of pandas all arguments of DataFrame.drop except for the argument 'labels' will be keyword-only.\n",
            "  x = input.drop('standard_value_norm', 1)\n"
          ]
        },
        {
          "data": {
            "text/html": [
              "<div>\n",
              "<style scoped>\n",
              "    .dataframe tbody tr th:only-of-type {\n",
              "        vertical-align: middle;\n",
              "    }\n",
              "\n",
              "    .dataframe tbody tr th {\n",
              "        vertical-align: top;\n",
              "    }\n",
              "\n",
              "    .dataframe thead th {\n",
              "        text-align: right;\n",
              "    }\n",
              "</style>\n",
              "<table border=\"1\" class=\"dataframe\">\n",
              "  <thead>\n",
              "    <tr style=\"text-align: right;\">\n",
              "      <th></th>\n",
              "      <th>molecule_chembl_id</th>\n",
              "      <th>canonical_smiles</th>\n",
              "      <th>class</th>\n",
              "      <th>MW</th>\n",
              "      <th>LogP</th>\n",
              "      <th>NumHDonors</th>\n",
              "      <th>NumHAcceptors</th>\n",
              "      <th>pIC50</th>\n",
              "    </tr>\n",
              "  </thead>\n",
              "  <tbody>\n",
              "    <tr>\n",
              "      <th>0</th>\n",
              "      <td>CHEMBL341591</td>\n",
              "      <td>CC12CCC(O)CC1=CCC1C2CCC2(C)C(CC3CN3)CCC12</td>\n",
              "      <td>intermediate</td>\n",
              "      <td>329.528</td>\n",
              "      <td>4.28820</td>\n",
              "      <td>2.0</td>\n",
              "      <td>2.0</td>\n",
              "      <td>5.148742</td>\n",
              "    </tr>\n",
              "    <tr>\n",
              "      <th>1</th>\n",
              "      <td>CHEMBL2111947</td>\n",
              "      <td>C[C@]12CC[C@H]3[C@@H](CC=C4C[C@@H](O)CC[C@@]43...</td>\n",
              "      <td>inactive</td>\n",
              "      <td>315.501</td>\n",
              "      <td>3.89810</td>\n",
              "      <td>2.0</td>\n",
              "      <td>2.0</td>\n",
              "      <td>4.301030</td>\n",
              "    </tr>\n",
              "    <tr>\n",
              "      <th>2</th>\n",
              "      <td>CHEMBL431859</td>\n",
              "      <td>CCn1c(C(c2ccc(F)cc2)n2ccnc2)c(C)c2cc(Br)ccc21</td>\n",
              "      <td>active</td>\n",
              "      <td>412.306</td>\n",
              "      <td>5.70542</td>\n",
              "      <td>0.0</td>\n",
              "      <td>3.0</td>\n",
              "      <td>6.623423</td>\n",
              "    </tr>\n",
              "    <tr>\n",
              "      <th>3</th>\n",
              "      <td>CHEMBL113637</td>\n",
              "      <td>CCn1cc(C(c2ccc(F)cc2)n2ccnc2)c2ccccc21</td>\n",
              "      <td>active</td>\n",
              "      <td>319.383</td>\n",
              "      <td>4.63450</td>\n",
              "      <td>0.0</td>\n",
              "      <td>3.0</td>\n",
              "      <td>7.244125</td>\n",
              "    </tr>\n",
              "    <tr>\n",
              "      <th>4</th>\n",
              "      <td>CHEMBL112021</td>\n",
              "      <td>Clc1ccccc1Cn1cc(Cn2ccnc2)c2ccccc21</td>\n",
              "      <td>active</td>\n",
              "      <td>321.811</td>\n",
              "      <td>4.58780</td>\n",
              "      <td>0.0</td>\n",
              "      <td>3.0</td>\n",
              "      <td>7.267606</td>\n",
              "    </tr>\n",
              "    <tr>\n",
              "      <th>...</th>\n",
              "      <td>...</td>\n",
              "      <td>...</td>\n",
              "      <td>...</td>\n",
              "      <td>...</td>\n",
              "      <td>...</td>\n",
              "      <td>...</td>\n",
              "      <td>...</td>\n",
              "      <td>...</td>\n",
              "    </tr>\n",
              "    <tr>\n",
              "      <th>2066</th>\n",
              "      <td>CHEMBL4755831</td>\n",
              "      <td>Nc1ccc(C(Cn2ccnc2)=C(c2ccc(O)cc2)c2ccc(O)cc2)cc1</td>\n",
              "      <td>active</td>\n",
              "      <td>383.451</td>\n",
              "      <td>4.53580</td>\n",
              "      <td>3.0</td>\n",
              "      <td>5.0</td>\n",
              "      <td>8.280669</td>\n",
              "    </tr>\n",
              "    <tr>\n",
              "      <th>2067</th>\n",
              "      <td>CHEMBL4750835</td>\n",
              "      <td>Nc1ccc(C(Cn2cncn2)=C(c2ccc(O)cc2)c2ccc(O)cc2)cc1</td>\n",
              "      <td>active</td>\n",
              "      <td>384.439</td>\n",
              "      <td>3.93080</td>\n",
              "      <td>3.0</td>\n",
              "      <td>6.0</td>\n",
              "      <td>6.982967</td>\n",
              "    </tr>\n",
              "    <tr>\n",
              "      <th>2068</th>\n",
              "      <td>CHEMBL4745681</td>\n",
              "      <td>Nc1ccc(C(Cn2cnnc2)=C(c2ccc(O)cc2)c2ccc(O)cc2)cc1</td>\n",
              "      <td>active</td>\n",
              "      <td>384.439</td>\n",
              "      <td>3.93080</td>\n",
              "      <td>3.0</td>\n",
              "      <td>6.0</td>\n",
              "      <td>7.752027</td>\n",
              "    </tr>\n",
              "    <tr>\n",
              "      <th>2069</th>\n",
              "      <td>CHEMBL4778401</td>\n",
              "      <td>Oc1ccc(C(=C(Cn2ccnc2)c2cccc(O)c2)c2ccc(O)cc2)cc1</td>\n",
              "      <td>active</td>\n",
              "      <td>384.435</td>\n",
              "      <td>4.65920</td>\n",
              "      <td>3.0</td>\n",
              "      <td>5.0</td>\n",
              "      <td>7.218963</td>\n",
              "    </tr>\n",
              "    <tr>\n",
              "      <th>2070</th>\n",
              "      <td>CHEMBL4761359</td>\n",
              "      <td>Nc1cccc(C(Cn2ccnc2)=C(c2ccc(O)cc2)c2ccc(O)cc2)c1</td>\n",
              "      <td>active</td>\n",
              "      <td>383.451</td>\n",
              "      <td>4.53580</td>\n",
              "      <td>3.0</td>\n",
              "      <td>5.0</td>\n",
              "      <td>6.357535</td>\n",
              "    </tr>\n",
              "  </tbody>\n",
              "</table>\n",
              "<p>2071 rows × 8 columns</p>\n",
              "</div>"
            ],
            "text/plain": [
              "     molecule_chembl_id                                   canonical_smiles  \\\n",
              "0          CHEMBL341591          CC12CCC(O)CC1=CCC1C2CCC2(C)C(CC3CN3)CCC12   \n",
              "1         CHEMBL2111947  C[C@]12CC[C@H]3[C@@H](CC=C4C[C@@H](O)CC[C@@]43...   \n",
              "2          CHEMBL431859      CCn1c(C(c2ccc(F)cc2)n2ccnc2)c(C)c2cc(Br)ccc21   \n",
              "3          CHEMBL113637             CCn1cc(C(c2ccc(F)cc2)n2ccnc2)c2ccccc21   \n",
              "4          CHEMBL112021                 Clc1ccccc1Cn1cc(Cn2ccnc2)c2ccccc21   \n",
              "...                 ...                                                ...   \n",
              "2066      CHEMBL4755831   Nc1ccc(C(Cn2ccnc2)=C(c2ccc(O)cc2)c2ccc(O)cc2)cc1   \n",
              "2067      CHEMBL4750835   Nc1ccc(C(Cn2cncn2)=C(c2ccc(O)cc2)c2ccc(O)cc2)cc1   \n",
              "2068      CHEMBL4745681   Nc1ccc(C(Cn2cnnc2)=C(c2ccc(O)cc2)c2ccc(O)cc2)cc1   \n",
              "2069      CHEMBL4778401   Oc1ccc(C(=C(Cn2ccnc2)c2cccc(O)c2)c2ccc(O)cc2)cc1   \n",
              "2070      CHEMBL4761359   Nc1cccc(C(Cn2ccnc2)=C(c2ccc(O)cc2)c2ccc(O)cc2)c1   \n",
              "\n",
              "             class       MW     LogP  NumHDonors  NumHAcceptors     pIC50  \n",
              "0     intermediate  329.528  4.28820         2.0            2.0  5.148742  \n",
              "1         inactive  315.501  3.89810         2.0            2.0  4.301030  \n",
              "2           active  412.306  5.70542         0.0            3.0  6.623423  \n",
              "3           active  319.383  4.63450         0.0            3.0  7.244125  \n",
              "4           active  321.811  4.58780         0.0            3.0  7.267606  \n",
              "...            ...      ...      ...         ...            ...       ...  \n",
              "2066        active  383.451  4.53580         3.0            5.0  8.280669  \n",
              "2067        active  384.439  3.93080         3.0            6.0  6.982967  \n",
              "2068        active  384.439  3.93080         3.0            6.0  7.752027  \n",
              "2069        active  384.435  4.65920         3.0            5.0  7.218963  \n",
              "2070        active  383.451  4.53580         3.0            5.0  6.357535  \n",
              "\n",
              "[2071 rows x 8 columns]"
            ]
          },
          "execution_count": 30,
          "metadata": {},
          "output_type": "execute_result"
        }
      ],
      "source": [
        "df_final = pIC50(df_norm)\n",
        "df_final"
      ]
    },
    {
      "cell_type": "code",
      "execution_count": 31,
      "metadata": {
        "id": "BoqY53udSTYC"
      },
      "outputs": [
        {
          "data": {
            "text/plain": [
              "count    2071.000000\n",
              "mean             inf\n",
              "std              NaN\n",
              "min         3.109579\n",
              "25%         5.053064\n",
              "50%         5.903090\n",
              "75%         6.886057\n",
              "max              inf\n",
              "Name: pIC50, dtype: float64"
            ]
          },
          "execution_count": 31,
          "metadata": {},
          "output_type": "execute_result"
        }
      ],
      "source": [
        "df_final.pIC50.describe()"
      ]
    },
    {
      "cell_type": "markdown",
      "metadata": {
        "id": "TTB-xkOcgwRX"
      },
      "source": [
        "Let's write this to CSV file."
      ]
    },
    {
      "cell_type": "code",
      "execution_count": 34,
      "metadata": {
        "id": "sbZfHUSOgykw"
      },
      "outputs": [],
      "source": [
        "df_final.to_csv(tg+'_04_bioactivity_data_3class_pIC50.csv')"
      ]
    },
    {
      "cell_type": "markdown",
      "metadata": {
        "id": "05vHBWvqaQtb"
      },
      "source": [
        "### **Removing the 'intermediate' bioactivity class**\n",
        "removing ``intermediate`` class ออกจาก data set."
      ]
    },
    {
      "cell_type": "code",
      "execution_count": 35,
      "metadata": {
        "id": "HmrndhDW3c7Z"
      },
      "outputs": [
        {
          "data": {
            "text/html": [
              "<div>\n",
              "<style scoped>\n",
              "    .dataframe tbody tr th:only-of-type {\n",
              "        vertical-align: middle;\n",
              "    }\n",
              "\n",
              "    .dataframe tbody tr th {\n",
              "        vertical-align: top;\n",
              "    }\n",
              "\n",
              "    .dataframe thead th {\n",
              "        text-align: right;\n",
              "    }\n",
              "</style>\n",
              "<table border=\"1\" class=\"dataframe\">\n",
              "  <thead>\n",
              "    <tr style=\"text-align: right;\">\n",
              "      <th></th>\n",
              "      <th>molecule_chembl_id</th>\n",
              "      <th>canonical_smiles</th>\n",
              "      <th>class</th>\n",
              "      <th>MW</th>\n",
              "      <th>LogP</th>\n",
              "      <th>NumHDonors</th>\n",
              "      <th>NumHAcceptors</th>\n",
              "      <th>pIC50</th>\n",
              "    </tr>\n",
              "  </thead>\n",
              "  <tbody>\n",
              "    <tr>\n",
              "      <th>1</th>\n",
              "      <td>CHEMBL2111947</td>\n",
              "      <td>C[C@]12CC[C@H]3[C@@H](CC=C4C[C@@H](O)CC[C@@]43...</td>\n",
              "      <td>inactive</td>\n",
              "      <td>315.501</td>\n",
              "      <td>3.89810</td>\n",
              "      <td>2.0</td>\n",
              "      <td>2.0</td>\n",
              "      <td>4.301030</td>\n",
              "    </tr>\n",
              "    <tr>\n",
              "      <th>2</th>\n",
              "      <td>CHEMBL431859</td>\n",
              "      <td>CCn1c(C(c2ccc(F)cc2)n2ccnc2)c(C)c2cc(Br)ccc21</td>\n",
              "      <td>active</td>\n",
              "      <td>412.306</td>\n",
              "      <td>5.70542</td>\n",
              "      <td>0.0</td>\n",
              "      <td>3.0</td>\n",
              "      <td>6.623423</td>\n",
              "    </tr>\n",
              "    <tr>\n",
              "      <th>3</th>\n",
              "      <td>CHEMBL113637</td>\n",
              "      <td>CCn1cc(C(c2ccc(F)cc2)n2ccnc2)c2ccccc21</td>\n",
              "      <td>active</td>\n",
              "      <td>319.383</td>\n",
              "      <td>4.63450</td>\n",
              "      <td>0.0</td>\n",
              "      <td>3.0</td>\n",
              "      <td>7.244125</td>\n",
              "    </tr>\n",
              "    <tr>\n",
              "      <th>4</th>\n",
              "      <td>CHEMBL112021</td>\n",
              "      <td>Clc1ccccc1Cn1cc(Cn2ccnc2)c2ccccc21</td>\n",
              "      <td>active</td>\n",
              "      <td>321.811</td>\n",
              "      <td>4.58780</td>\n",
              "      <td>0.0</td>\n",
              "      <td>3.0</td>\n",
              "      <td>7.267606</td>\n",
              "    </tr>\n",
              "    <tr>\n",
              "      <th>6</th>\n",
              "      <td>CHEMBL41761</td>\n",
              "      <td>CCn1ccc2cc(C(c3ccc(F)cc3)n3ccnc3)ccc21</td>\n",
              "      <td>active</td>\n",
              "      <td>319.383</td>\n",
              "      <td>4.63450</td>\n",
              "      <td>0.0</td>\n",
              "      <td>3.0</td>\n",
              "      <td>7.387216</td>\n",
              "    </tr>\n",
              "    <tr>\n",
              "      <th>...</th>\n",
              "      <td>...</td>\n",
              "      <td>...</td>\n",
              "      <td>...</td>\n",
              "      <td>...</td>\n",
              "      <td>...</td>\n",
              "      <td>...</td>\n",
              "      <td>...</td>\n",
              "      <td>...</td>\n",
              "    </tr>\n",
              "    <tr>\n",
              "      <th>2066</th>\n",
              "      <td>CHEMBL4755831</td>\n",
              "      <td>Nc1ccc(C(Cn2ccnc2)=C(c2ccc(O)cc2)c2ccc(O)cc2)cc1</td>\n",
              "      <td>active</td>\n",
              "      <td>383.451</td>\n",
              "      <td>4.53580</td>\n",
              "      <td>3.0</td>\n",
              "      <td>5.0</td>\n",
              "      <td>8.280669</td>\n",
              "    </tr>\n",
              "    <tr>\n",
              "      <th>2067</th>\n",
              "      <td>CHEMBL4750835</td>\n",
              "      <td>Nc1ccc(C(Cn2cncn2)=C(c2ccc(O)cc2)c2ccc(O)cc2)cc1</td>\n",
              "      <td>active</td>\n",
              "      <td>384.439</td>\n",
              "      <td>3.93080</td>\n",
              "      <td>3.0</td>\n",
              "      <td>6.0</td>\n",
              "      <td>6.982967</td>\n",
              "    </tr>\n",
              "    <tr>\n",
              "      <th>2068</th>\n",
              "      <td>CHEMBL4745681</td>\n",
              "      <td>Nc1ccc(C(Cn2cnnc2)=C(c2ccc(O)cc2)c2ccc(O)cc2)cc1</td>\n",
              "      <td>active</td>\n",
              "      <td>384.439</td>\n",
              "      <td>3.93080</td>\n",
              "      <td>3.0</td>\n",
              "      <td>6.0</td>\n",
              "      <td>7.752027</td>\n",
              "    </tr>\n",
              "    <tr>\n",
              "      <th>2069</th>\n",
              "      <td>CHEMBL4778401</td>\n",
              "      <td>Oc1ccc(C(=C(Cn2ccnc2)c2cccc(O)c2)c2ccc(O)cc2)cc1</td>\n",
              "      <td>active</td>\n",
              "      <td>384.435</td>\n",
              "      <td>4.65920</td>\n",
              "      <td>3.0</td>\n",
              "      <td>5.0</td>\n",
              "      <td>7.218963</td>\n",
              "    </tr>\n",
              "    <tr>\n",
              "      <th>2070</th>\n",
              "      <td>CHEMBL4761359</td>\n",
              "      <td>Nc1cccc(C(Cn2ccnc2)=C(c2ccc(O)cc2)c2ccc(O)cc2)c1</td>\n",
              "      <td>active</td>\n",
              "      <td>383.451</td>\n",
              "      <td>4.53580</td>\n",
              "      <td>3.0</td>\n",
              "      <td>5.0</td>\n",
              "      <td>6.357535</td>\n",
              "    </tr>\n",
              "  </tbody>\n",
              "</table>\n",
              "<p>1475 rows × 8 columns</p>\n",
              "</div>"
            ],
            "text/plain": [
              "     molecule_chembl_id                                   canonical_smiles  \\\n",
              "1         CHEMBL2111947  C[C@]12CC[C@H]3[C@@H](CC=C4C[C@@H](O)CC[C@@]43...   \n",
              "2          CHEMBL431859      CCn1c(C(c2ccc(F)cc2)n2ccnc2)c(C)c2cc(Br)ccc21   \n",
              "3          CHEMBL113637             CCn1cc(C(c2ccc(F)cc2)n2ccnc2)c2ccccc21   \n",
              "4          CHEMBL112021                 Clc1ccccc1Cn1cc(Cn2ccnc2)c2ccccc21   \n",
              "6           CHEMBL41761             CCn1ccc2cc(C(c3ccc(F)cc3)n3ccnc3)ccc21   \n",
              "...                 ...                                                ...   \n",
              "2066      CHEMBL4755831   Nc1ccc(C(Cn2ccnc2)=C(c2ccc(O)cc2)c2ccc(O)cc2)cc1   \n",
              "2067      CHEMBL4750835   Nc1ccc(C(Cn2cncn2)=C(c2ccc(O)cc2)c2ccc(O)cc2)cc1   \n",
              "2068      CHEMBL4745681   Nc1ccc(C(Cn2cnnc2)=C(c2ccc(O)cc2)c2ccc(O)cc2)cc1   \n",
              "2069      CHEMBL4778401   Oc1ccc(C(=C(Cn2ccnc2)c2cccc(O)c2)c2ccc(O)cc2)cc1   \n",
              "2070      CHEMBL4761359   Nc1cccc(C(Cn2ccnc2)=C(c2ccc(O)cc2)c2ccc(O)cc2)c1   \n",
              "\n",
              "         class       MW     LogP  NumHDonors  NumHAcceptors     pIC50  \n",
              "1     inactive  315.501  3.89810         2.0            2.0  4.301030  \n",
              "2       active  412.306  5.70542         0.0            3.0  6.623423  \n",
              "3       active  319.383  4.63450         0.0            3.0  7.244125  \n",
              "4       active  321.811  4.58780         0.0            3.0  7.267606  \n",
              "6       active  319.383  4.63450         0.0            3.0  7.387216  \n",
              "...        ...      ...      ...         ...            ...       ...  \n",
              "2066    active  383.451  4.53580         3.0            5.0  8.280669  \n",
              "2067    active  384.439  3.93080         3.0            6.0  6.982967  \n",
              "2068    active  384.439  3.93080         3.0            6.0  7.752027  \n",
              "2069    active  384.435  4.65920         3.0            5.0  7.218963  \n",
              "2070    active  383.451  4.53580         3.0            5.0  6.357535  \n",
              "\n",
              "[1475 rows x 8 columns]"
            ]
          },
          "execution_count": 35,
          "metadata": {},
          "output_type": "execute_result"
        }
      ],
      "source": [
        "df_2class = df_final[df_final['class'] != 'intermediate']\n",
        "df_2class"
      ]
    },
    {
      "cell_type": "markdown",
      "metadata": {
        "id": "GJGRNXXigd1o"
      },
      "source": [
        "Write this to CSV file."
      ]
    },
    {
      "cell_type": "code",
      "execution_count": 36,
      "metadata": {
        "id": "XIiYdeL5ghCo"
      },
      "outputs": [],
      "source": [
        "df_2class.to_csv(tg+'_05_bioactivity_data_2class_pIC50.csv')"
      ]
    },
    {
      "cell_type": "markdown",
      "metadata": {
        "id": "p9vA4-hQQ8sA"
      },
      "source": [
        "---"
      ]
    },
    {
      "cell_type": "markdown",
      "metadata": {
        "id": "x0vqbQWfxsZu"
      },
      "source": [
        "## **Exploratory Data Analysis Lipinski descriptors**"
      ]
    },
    {
      "cell_type": "markdown",
      "metadata": {
        "id": "18heJagiyHoF"
      },
      "source": [
        "### **Import library**"
      ]
    },
    {
      "cell_type": "code",
      "execution_count": 39,
      "metadata": {},
      "outputs": [
        {
          "name": "stdout",
          "output_type": "stream",
          "text": [
            "Collecting seaborn\n",
            "  Downloading seaborn-0.11.2-py3-none-any.whl (292 kB)\n",
            "     -------------------------------------- 292.8/292.8 KB 1.6 MB/s eta 0:00:00\n",
            "Requirement already satisfied: numpy>=1.15 in c:\\users\\machenike\\appdata\\local\\programs\\python\\python310\\lib\\site-packages (from seaborn) (1.23.0)\n",
            "Requirement already satisfied: pandas>=0.23 in c:\\users\\machenike\\appdata\\local\\programs\\python\\python310\\lib\\site-packages (from seaborn) (1.4.3)\n",
            "Collecting scipy>=1.0\n",
            "  Downloading scipy-1.8.1-cp310-cp310-win_amd64.whl (36.9 MB)\n",
            "     --------------------------------------- 36.9/36.9 MB 13.6 MB/s eta 0:00:00\n",
            "Collecting matplotlib>=2.2\n",
            "  Downloading matplotlib-3.5.2-cp310-cp310-win_amd64.whl (7.2 MB)\n",
            "     ---------------------------------------- 7.2/7.2 MB 14.4 MB/s eta 0:00:00\n",
            "Collecting kiwisolver>=1.0.1\n",
            "  Downloading kiwisolver-1.4.3-cp310-cp310-win_amd64.whl (55 kB)\n",
            "     ---------------------------------------- 55.3/55.3 KB 3.0 MB/s eta 0:00:00\n",
            "Requirement already satisfied: pillow>=6.2.0 in c:\\users\\machenike\\appdata\\local\\programs\\python\\python310\\lib\\site-packages (from matplotlib>=2.2->seaborn) (9.1.1)\n",
            "Requirement already satisfied: python-dateutil>=2.7 in c:\\users\\machenike\\appdata\\local\\programs\\python\\python310\\lib\\site-packages (from matplotlib>=2.2->seaborn) (2.8.2)\n",
            "Collecting fonttools>=4.22.0\n",
            "  Downloading fonttools-4.33.3-py3-none-any.whl (930 kB)\n",
            "     ------------------------------------- 930.9/930.9 KB 14.8 MB/s eta 0:00:00\n",
            "Collecting cycler>=0.10\n",
            "  Downloading cycler-0.11.0-py3-none-any.whl (6.4 kB)\n",
            "Requirement already satisfied: pyparsing>=2.2.1 in c:\\users\\machenike\\appdata\\local\\programs\\python\\python310\\lib\\site-packages (from matplotlib>=2.2->seaborn) (3.0.9)\n",
            "Requirement already satisfied: packaging>=20.0 in c:\\users\\machenike\\appdata\\local\\programs\\python\\python310\\lib\\site-packages (from matplotlib>=2.2->seaborn) (21.3)\n",
            "Requirement already satisfied: pytz>=2020.1 in c:\\users\\machenike\\appdata\\local\\programs\\python\\python310\\lib\\site-packages (from pandas>=0.23->seaborn) (2022.1)\n",
            "Requirement already satisfied: six>=1.5 in c:\\users\\machenike\\appdata\\local\\programs\\python\\python310\\lib\\site-packages (from python-dateutil>=2.7->matplotlib>=2.2->seaborn) (1.16.0)\n",
            "Installing collected packages: scipy, kiwisolver, fonttools, cycler, matplotlib, seaborn\n",
            "Successfully installed cycler-0.11.0 fonttools-4.33.3 kiwisolver-1.4.3 matplotlib-3.5.2 scipy-1.8.1 seaborn-0.11.2\n",
            "Note: you may need to restart the kernel to use updated packages.\n"
          ]
        },
        {
          "name": "stderr",
          "output_type": "stream",
          "text": [
            "  WARNING: The scripts fonttools.exe, pyftmerge.exe, pyftsubset.exe and ttx.exe are installed in 'c:\\Users\\MACHENIKE\\AppData\\Local\\Programs\\Python\\Python310\\Scripts' which is not on PATH.\n",
            "  Consider adding this directory to PATH or, if you prefer to suppress this warning, use --no-warn-script-location.\n",
            "WARNING: You are using pip version 22.0.4; however, version 22.1.2 is available.\n",
            "You should consider upgrading via the 'c:\\Users\\MACHENIKE\\AppData\\Local\\Programs\\Python\\Python310\\python.exe -m pip install --upgrade pip' command.\n"
          ]
        }
      ],
      "source": [
        "pip install seaborn --upgrade"
      ]
    },
    {
      "cell_type": "code",
      "execution_count": 40,
      "metadata": {
        "id": "0Egq_rNsxtIj"
      },
      "outputs": [],
      "source": [
        "import seaborn as sns\n",
        "sns.set(style='ticks')\n",
        "import matplotlib.pyplot as plt"
      ]
    },
    {
      "cell_type": "markdown",
      "metadata": {
        "id": "NiarmFbOdG3H"
      },
      "source": [
        "### **Frequency plot of the 2 bioactivity classes**"
      ]
    },
    {
      "cell_type": "code",
      "execution_count": 41,
      "metadata": {
        "id": "w2Ia0iycdMO2"
      },
      "outputs": [
        {
          "data": {
            "image/png": "[encoded data removed]",
            "text/plain": [
              "<Figure size 396x396 with 1 Axes>"
            ]
          },
          "metadata": {
            "needs_background": "light"
          },
          "output_type": "display_data"
        }
      ],
      "source": [
        "plt.figure(figsize=(5.5, 5.5))\n",
        "\n",
        "sns.countplot(x='class', data=df_2class, edgecolor='black')\n",
        "\n",
        "plt.xlabel('Bioactivity class', fontsize=14, fontweight='bold')\n",
        "plt.ylabel('Frequency', fontsize=14, fontweight='bold')\n",
        "\n",
        "plt.savefig('plot_bioactivity_class.pdf')"
      ]
    },
    {
      "cell_type": "markdown",
      "metadata": {
        "id": "wB68NKVG0j68"
      },
      "source": [
        "### **Scatter plot of MW versus LogP**\n",
        "\n",
        "พล็อตการกระจายของ MW เทียบกับ LogP ดูว่าทั้ง 2 คลาสนั้นครอบคลุมพื้นที่ทางเคมีที่คล้ายคลึงกันหรือไม่"
      ]
    },
    {
      "cell_type": "code",
      "execution_count": 42,
      "metadata": {
        "id": "F79BNwjF0nub"
      },
      "outputs": [
        {
          "name": "stderr",
          "output_type": "stream",
          "text": [
            "c:\\Users\\MACHENIKE\\AppData\\Local\\Programs\\Python\\Python310\\lib\\site-packages\\matplotlib\\colors.py:1254: RuntimeWarning: invalid value encountered in divide\n",
            "  resdat /= (vmax - vmin)\n",
            "c:\\Users\\MACHENIKE\\AppData\\Local\\Programs\\Python\\Python310\\lib\\site-packages\\matplotlib\\colors.py:1254: RuntimeWarning: invalid value encountered in divide\n",
            "  resdat /= (vmax - vmin)\n"
          ]
        },
        {
          "ename": "ValueError",
          "evalue": "Can only output finite numbers in PDF",
          "output_type": "error",
          "traceback": [
            "\u001b[1;31m---------------------------------------------------------------------------\u001b[0m",
            "\u001b[1;31mValueError\u001b[0m                                Traceback (most recent call last)",
            "\u001b[1;32md:\\June\\inte\\test\\code\\CDD_ML_Part_2_Exploratory_Data_Analysis (1).ipynb Cell 56'\u001b[0m in \u001b[0;36m<cell line: 8>\u001b[1;34m()\u001b[0m\n\u001b[0;32m      <a href='vscode-notebook-cell:/d%3A/June/inte/test/code/CDD_ML_Part_2_Exploratory_Data_Analysis%20%281%29.ipynb#ch0000055?line=5'>6</a>\u001b[0m plt\u001b[39m.\u001b[39mylabel(\u001b[39m'\u001b[39m\u001b[39mLogP\u001b[39m\u001b[39m'\u001b[39m, fontsize\u001b[39m=\u001b[39m\u001b[39m14\u001b[39m, fontweight\u001b[39m=\u001b[39m\u001b[39m'\u001b[39m\u001b[39mbold\u001b[39m\u001b[39m'\u001b[39m)\n\u001b[0;32m      <a href='vscode-notebook-cell:/d%3A/June/inte/test/code/CDD_ML_Part_2_Exploratory_Data_Analysis%20%281%29.ipynb#ch0000055?line=6'>7</a>\u001b[0m plt\u001b[39m.\u001b[39mlegend(bbox_to_anchor\u001b[39m=\u001b[39m(\u001b[39m1.05\u001b[39m, \u001b[39m1\u001b[39m), loc\u001b[39m=\u001b[39m\u001b[39m2\u001b[39m, borderaxespad\u001b[39m=\u001b[39m\u001b[39m0\u001b[39m)\n\u001b[1;32m----> <a href='vscode-notebook-cell:/d%3A/June/inte/test/code/CDD_ML_Part_2_Exploratory_Data_Analysis%20%281%29.ipynb#ch0000055?line=7'>8</a>\u001b[0m plt\u001b[39m.\u001b[39;49msavefig(\u001b[39m'\u001b[39;49m\u001b[39mplot_MW_vs_LogP.pdf\u001b[39;49m\u001b[39m'\u001b[39;49m)\n",
            "File \u001b[1;32mc:\\Users\\MACHENIKE\\AppData\\Local\\Programs\\Python\\Python310\\lib\\site-packages\\matplotlib\\pyplot.py:979\u001b[0m, in \u001b[0;36msavefig\u001b[1;34m(*args, **kwargs)\u001b[0m\n\u001b[0;32m    <a href='file:///c%3A/Users/MACHENIKE/AppData/Local/Programs/Python/Python310/lib/site-packages/matplotlib/pyplot.py?line=975'>976</a>\u001b[0m \u001b[39m@_copy_docstring_and_deprecators\u001b[39m(Figure\u001b[39m.\u001b[39msavefig)\n\u001b[0;32m    <a href='file:///c%3A/Users/MACHENIKE/AppData/Local/Programs/Python/Python310/lib/site-packages/matplotlib/pyplot.py?line=976'>977</a>\u001b[0m \u001b[39mdef\u001b[39;00m \u001b[39msavefig\u001b[39m(\u001b[39m*\u001b[39margs, \u001b[39m*\u001b[39m\u001b[39m*\u001b[39mkwargs):\n\u001b[0;32m    <a href='file:///c%3A/Users/MACHENIKE/AppData/Local/Programs/Python/Python310/lib/site-packages/matplotlib/pyplot.py?line=977'>978</a>\u001b[0m     fig \u001b[39m=\u001b[39m gcf()\n\u001b[1;32m--> <a href='file:///c%3A/Users/MACHENIKE/AppData/Local/Programs/Python/Python310/lib/site-packages/matplotlib/pyplot.py?line=978'>979</a>\u001b[0m     res \u001b[39m=\u001b[39m fig\u001b[39m.\u001b[39msavefig(\u001b[39m*\u001b[39margs, \u001b[39m*\u001b[39m\u001b[39m*\u001b[39mkwargs)\n\u001b[0;32m    <a href='file:///c%3A/Users/MACHENIKE/AppData/Local/Programs/Python/Python310/lib/site-packages/matplotlib/pyplot.py?line=979'>980</a>\u001b[0m     fig\u001b[39m.\u001b[39mcanvas\u001b[39m.\u001b[39mdraw_idle()   \u001b[39m# need this if 'transparent=True' to reset colors\u001b[39;00m\n\u001b[0;32m    <a href='file:///c%3A/Users/MACHENIKE/AppData/Local/Programs/Python/Python310/lib/site-packages/matplotlib/pyplot.py?line=980'>981</a>\u001b[0m     \u001b[39mreturn\u001b[39;00m res\n",
            "File \u001b[1;32mc:\\Users\\MACHENIKE\\AppData\\Local\\Programs\\Python\\Python310\\lib\\site-packages\\matplotlib\\figure.py:3046\u001b[0m, in \u001b[0;36mFigure.savefig\u001b[1;34m(self, fname, transparent, **kwargs)\u001b[0m\n\u001b[0;32m   <a href='file:///c%3A/Users/MACHENIKE/AppData/Local/Programs/Python/Python310/lib/site-packages/matplotlib/figure.py?line=3041'>3042</a>\u001b[0m     \u001b[39mfor\u001b[39;00m ax \u001b[39min\u001b[39;00m \u001b[39mself\u001b[39m\u001b[39m.\u001b[39maxes:\n\u001b[0;32m   <a href='file:///c%3A/Users/MACHENIKE/AppData/Local/Programs/Python/Python310/lib/site-packages/matplotlib/figure.py?line=3042'>3043</a>\u001b[0m         stack\u001b[39m.\u001b[39menter_context(\n\u001b[0;32m   <a href='file:///c%3A/Users/MACHENIKE/AppData/Local/Programs/Python/Python310/lib/site-packages/matplotlib/figure.py?line=3043'>3044</a>\u001b[0m             ax\u001b[39m.\u001b[39mpatch\u001b[39m.\u001b[39m_cm_set(facecolor\u001b[39m=\u001b[39m\u001b[39m'\u001b[39m\u001b[39mnone\u001b[39m\u001b[39m'\u001b[39m, edgecolor\u001b[39m=\u001b[39m\u001b[39m'\u001b[39m\u001b[39mnone\u001b[39m\u001b[39m'\u001b[39m))\n\u001b[1;32m-> <a href='file:///c%3A/Users/MACHENIKE/AppData/Local/Programs/Python/Python310/lib/site-packages/matplotlib/figure.py?line=3045'>3046</a>\u001b[0m \u001b[39mself\u001b[39m\u001b[39m.\u001b[39mcanvas\u001b[39m.\u001b[39mprint_figure(fname, \u001b[39m*\u001b[39m\u001b[39m*\u001b[39mkwargs)\n",
            "File \u001b[1;32mc:\\Users\\MACHENIKE\\AppData\\Local\\Programs\\Python\\Python310\\lib\\site-packages\\matplotlib\\backend_bases.py:2319\u001b[0m, in \u001b[0;36mFigureCanvasBase.print_figure\u001b[1;34m(self, filename, dpi, facecolor, edgecolor, orientation, format, bbox_inches, pad_inches, bbox_extra_artists, backend, **kwargs)\u001b[0m\n\u001b[0;32m   <a href='file:///c%3A/Users/MACHENIKE/AppData/Local/Programs/Python/Python310/lib/site-packages/matplotlib/backend_bases.py?line=2314'>2315</a>\u001b[0m \u001b[39mtry\u001b[39;00m:\n\u001b[0;32m   <a href='file:///c%3A/Users/MACHENIKE/AppData/Local/Programs/Python/Python310/lib/site-packages/matplotlib/backend_bases.py?line=2315'>2316</a>\u001b[0m     \u001b[39m# _get_renderer may change the figure dpi (as vector formats\u001b[39;00m\n\u001b[0;32m   <a href='file:///c%3A/Users/MACHENIKE/AppData/Local/Programs/Python/Python310/lib/site-packages/matplotlib/backend_bases.py?line=2316'>2317</a>\u001b[0m     \u001b[39m# force the figure dpi to 72), so we need to set it again here.\u001b[39;00m\n\u001b[0;32m   <a href='file:///c%3A/Users/MACHENIKE/AppData/Local/Programs/Python/Python310/lib/site-packages/matplotlib/backend_bases.py?line=2317'>2318</a>\u001b[0m     \u001b[39mwith\u001b[39;00m cbook\u001b[39m.\u001b[39m_setattr_cm(\u001b[39mself\u001b[39m\u001b[39m.\u001b[39mfigure, dpi\u001b[39m=\u001b[39mdpi):\n\u001b[1;32m-> <a href='file:///c%3A/Users/MACHENIKE/AppData/Local/Programs/Python/Python310/lib/site-packages/matplotlib/backend_bases.py?line=2318'>2319</a>\u001b[0m         result \u001b[39m=\u001b[39m print_method(\n\u001b[0;32m   <a href='file:///c%3A/Users/MACHENIKE/AppData/Local/Programs/Python/Python310/lib/site-packages/matplotlib/backend_bases.py?line=2319'>2320</a>\u001b[0m             filename,\n\u001b[0;32m   <a href='file:///c%3A/Users/MACHENIKE/AppData/Local/Programs/Python/Python310/lib/site-packages/matplotlib/backend_bases.py?line=2320'>2321</a>\u001b[0m             facecolor\u001b[39m=\u001b[39mfacecolor,\n\u001b[0;32m   <a href='file:///c%3A/Users/MACHENIKE/AppData/Local/Programs/Python/Python310/lib/site-packages/matplotlib/backend_bases.py?line=2321'>2322</a>\u001b[0m             edgecolor\u001b[39m=\u001b[39medgecolor,\n\u001b[0;32m   <a href='file:///c%3A/Users/MACHENIKE/AppData/Local/Programs/Python/Python310/lib/site-packages/matplotlib/backend_bases.py?line=2322'>2323</a>\u001b[0m             orientation\u001b[39m=\u001b[39morientation,\n\u001b[0;32m   <a href='file:///c%3A/Users/MACHENIKE/AppData/Local/Programs/Python/Python310/lib/site-packages/matplotlib/backend_bases.py?line=2323'>2324</a>\u001b[0m             bbox_inches_restore\u001b[39m=\u001b[39m_bbox_inches_restore,\n\u001b[0;32m   <a href='file:///c%3A/Users/MACHENIKE/AppData/Local/Programs/Python/Python310/lib/site-packages/matplotlib/backend_bases.py?line=2324'>2325</a>\u001b[0m             \u001b[39m*\u001b[39m\u001b[39m*\u001b[39mkwargs)\n\u001b[0;32m   <a href='file:///c%3A/Users/MACHENIKE/AppData/Local/Programs/Python/Python310/lib/site-packages/matplotlib/backend_bases.py?line=2325'>2326</a>\u001b[0m \u001b[39mfinally\u001b[39;00m:\n\u001b[0;32m   <a href='file:///c%3A/Users/MACHENIKE/AppData/Local/Programs/Python/Python310/lib/site-packages/matplotlib/backend_bases.py?line=2326'>2327</a>\u001b[0m     \u001b[39mif\u001b[39;00m bbox_inches \u001b[39mand\u001b[39;00m restore_bbox:\n",
            "File \u001b[1;32mc:\\Users\\MACHENIKE\\AppData\\Local\\Programs\\Python\\Python310\\lib\\site-packages\\matplotlib\\backend_bases.py:1648\u001b[0m, in \u001b[0;36m_check_savefig_extra_args.<locals>.wrapper\u001b[1;34m(*args, **kwargs)\u001b[0m\n\u001b[0;32m   <a href='file:///c%3A/Users/MACHENIKE/AppData/Local/Programs/Python/Python310/lib/site-packages/matplotlib/backend_bases.py?line=1639'>1640</a>\u001b[0m     _api\u001b[39m.\u001b[39mwarn_deprecated(\n\u001b[0;32m   <a href='file:///c%3A/Users/MACHENIKE/AppData/Local/Programs/Python/Python310/lib/site-packages/matplotlib/backend_bases.py?line=1640'>1641</a>\u001b[0m         \u001b[39m'\u001b[39m\u001b[39m3.3\u001b[39m\u001b[39m'\u001b[39m, name\u001b[39m=\u001b[39mname, removal\u001b[39m=\u001b[39m\u001b[39m'\u001b[39m\u001b[39m3.6\u001b[39m\u001b[39m'\u001b[39m,\n\u001b[0;32m   <a href='file:///c%3A/Users/MACHENIKE/AppData/Local/Programs/Python/Python310/lib/site-packages/matplotlib/backend_bases.py?line=1641'>1642</a>\u001b[0m         message\u001b[39m=\u001b[39m\u001b[39m'\u001b[39m\u001b[39m%(name)s\u001b[39;00m\u001b[39m() got unexpected keyword argument \u001b[39m\u001b[39m\"\u001b[39m\u001b[39m'\u001b[39m\n\u001b[0;32m   <a href='file:///c%3A/Users/MACHENIKE/AppData/Local/Programs/Python/Python310/lib/site-packages/matplotlib/backend_bases.py?line=1642'>1643</a>\u001b[0m                 \u001b[39m+\u001b[39m arg \u001b[39m+\u001b[39m \u001b[39m'\u001b[39m\u001b[39m\"\u001b[39m\u001b[39m which is no longer supported as of \u001b[39m\u001b[39m'\u001b[39m\n\u001b[0;32m   <a href='file:///c%3A/Users/MACHENIKE/AppData/Local/Programs/Python/Python310/lib/site-packages/matplotlib/backend_bases.py?line=1643'>1644</a>\u001b[0m                 \u001b[39m'\u001b[39m\u001b[39m%(since)s\u001b[39;00m\u001b[39m and will become an error \u001b[39m\u001b[39m'\u001b[39m\n\u001b[0;32m   <a href='file:///c%3A/Users/MACHENIKE/AppData/Local/Programs/Python/Python310/lib/site-packages/matplotlib/backend_bases.py?line=1644'>1645</a>\u001b[0m                 \u001b[39m'\u001b[39m\u001b[39m%(removal)s\u001b[39;00m\u001b[39m'\u001b[39m)\n\u001b[0;32m   <a href='file:///c%3A/Users/MACHENIKE/AppData/Local/Programs/Python/Python310/lib/site-packages/matplotlib/backend_bases.py?line=1645'>1646</a>\u001b[0m     kwargs\u001b[39m.\u001b[39mpop(arg)\n\u001b[1;32m-> <a href='file:///c%3A/Users/MACHENIKE/AppData/Local/Programs/Python/Python310/lib/site-packages/matplotlib/backend_bases.py?line=1647'>1648</a>\u001b[0m \u001b[39mreturn\u001b[39;00m func(\u001b[39m*\u001b[39margs, \u001b[39m*\u001b[39m\u001b[39m*\u001b[39mkwargs)\n",
            "File \u001b[1;32mc:\\Users\\MACHENIKE\\AppData\\Local\\Programs\\Python\\Python310\\lib\\site-packages\\matplotlib\\_api\\deprecation.py:389\u001b[0m, in \u001b[0;36mdelete_parameter.<locals>.wrapper\u001b[1;34m(*inner_args, **inner_kwargs)\u001b[0m\n\u001b[0;32m    <a href='file:///c%3A/Users/MACHENIKE/AppData/Local/Programs/Python/Python310/lib/site-packages/matplotlib/_api/deprecation.py?line=383'>384</a>\u001b[0m \u001b[39m@functools\u001b[39m\u001b[39m.\u001b[39mwraps(func)\n\u001b[0;32m    <a href='file:///c%3A/Users/MACHENIKE/AppData/Local/Programs/Python/Python310/lib/site-packages/matplotlib/_api/deprecation.py?line=384'>385</a>\u001b[0m \u001b[39mdef\u001b[39;00m \u001b[39mwrapper\u001b[39m(\u001b[39m*\u001b[39minner_args, \u001b[39m*\u001b[39m\u001b[39m*\u001b[39minner_kwargs):\n\u001b[0;32m    <a href='file:///c%3A/Users/MACHENIKE/AppData/Local/Programs/Python/Python310/lib/site-packages/matplotlib/_api/deprecation.py?line=385'>386</a>\u001b[0m     \u001b[39mif\u001b[39;00m \u001b[39mlen\u001b[39m(inner_args) \u001b[39m<\u001b[39m\u001b[39m=\u001b[39m name_idx \u001b[39mand\u001b[39;00m name \u001b[39mnot\u001b[39;00m \u001b[39min\u001b[39;00m inner_kwargs:\n\u001b[0;32m    <a href='file:///c%3A/Users/MACHENIKE/AppData/Local/Programs/Python/Python310/lib/site-packages/matplotlib/_api/deprecation.py?line=386'>387</a>\u001b[0m         \u001b[39m# Early return in the simple, non-deprecated case (much faster than\u001b[39;00m\n\u001b[0;32m    <a href='file:///c%3A/Users/MACHENIKE/AppData/Local/Programs/Python/Python310/lib/site-packages/matplotlib/_api/deprecation.py?line=387'>388</a>\u001b[0m         \u001b[39m# calling bind()).\u001b[39;00m\n\u001b[1;32m--> <a href='file:///c%3A/Users/MACHENIKE/AppData/Local/Programs/Python/Python310/lib/site-packages/matplotlib/_api/deprecation.py?line=388'>389</a>\u001b[0m         \u001b[39mreturn\u001b[39;00m func(\u001b[39m*\u001b[39minner_args, \u001b[39m*\u001b[39m\u001b[39m*\u001b[39minner_kwargs)\n\u001b[0;32m    <a href='file:///c%3A/Users/MACHENIKE/AppData/Local/Programs/Python/Python310/lib/site-packages/matplotlib/_api/deprecation.py?line=389'>390</a>\u001b[0m     arguments \u001b[39m=\u001b[39m signature\u001b[39m.\u001b[39mbind(\u001b[39m*\u001b[39minner_args, \u001b[39m*\u001b[39m\u001b[39m*\u001b[39minner_kwargs)\u001b[39m.\u001b[39marguments\n\u001b[0;32m    <a href='file:///c%3A/Users/MACHENIKE/AppData/Local/Programs/Python/Python310/lib/site-packages/matplotlib/_api/deprecation.py?line=390'>391</a>\u001b[0m     \u001b[39mif\u001b[39;00m is_varargs \u001b[39mand\u001b[39;00m arguments\u001b[39m.\u001b[39mget(name):\n",
            "File \u001b[1;32mc:\\Users\\MACHENIKE\\AppData\\Local\\Programs\\Python\\Python310\\lib\\site-packages\\matplotlib\\backends\\backend_pdf.py:2790\u001b[0m, in \u001b[0;36mFigureCanvasPdf.print_pdf\u001b[1;34m(self, filename, dpi, bbox_inches_restore, metadata)\u001b[0m\n\u001b[0;32m   <a href='file:///c%3A/Users/MACHENIKE/AppData/Local/Programs/Python/Python310/lib/site-packages/matplotlib/backends/backend_pdf.py?line=2784'>2785</a>\u001b[0m file\u001b[39m.\u001b[39mnewPage(width, height)\n\u001b[0;32m   <a href='file:///c%3A/Users/MACHENIKE/AppData/Local/Programs/Python/Python310/lib/site-packages/matplotlib/backends/backend_pdf.py?line=2785'>2786</a>\u001b[0m renderer \u001b[39m=\u001b[39m MixedModeRenderer(\n\u001b[0;32m   <a href='file:///c%3A/Users/MACHENIKE/AppData/Local/Programs/Python/Python310/lib/site-packages/matplotlib/backends/backend_pdf.py?line=2786'>2787</a>\u001b[0m     \u001b[39mself\u001b[39m\u001b[39m.\u001b[39mfigure, width, height, dpi,\n\u001b[0;32m   <a href='file:///c%3A/Users/MACHENIKE/AppData/Local/Programs/Python/Python310/lib/site-packages/matplotlib/backends/backend_pdf.py?line=2787'>2788</a>\u001b[0m     RendererPdf(file, dpi, height, width),\n\u001b[0;32m   <a href='file:///c%3A/Users/MACHENIKE/AppData/Local/Programs/Python/Python310/lib/site-packages/matplotlib/backends/backend_pdf.py?line=2788'>2789</a>\u001b[0m     bbox_inches_restore\u001b[39m=\u001b[39mbbox_inches_restore)\n\u001b[1;32m-> <a href='file:///c%3A/Users/MACHENIKE/AppData/Local/Programs/Python/Python310/lib/site-packages/matplotlib/backends/backend_pdf.py?line=2789'>2790</a>\u001b[0m \u001b[39mself\u001b[39;49m\u001b[39m.\u001b[39;49mfigure\u001b[39m.\u001b[39;49mdraw(renderer)\n\u001b[0;32m   <a href='file:///c%3A/Users/MACHENIKE/AppData/Local/Programs/Python/Python310/lib/site-packages/matplotlib/backends/backend_pdf.py?line=2790'>2791</a>\u001b[0m renderer\u001b[39m.\u001b[39mfinalize()\n\u001b[0;32m   <a href='file:///c%3A/Users/MACHENIKE/AppData/Local/Programs/Python/Python310/lib/site-packages/matplotlib/backends/backend_pdf.py?line=2791'>2792</a>\u001b[0m \u001b[39mif\u001b[39;00m \u001b[39mnot\u001b[39;00m \u001b[39misinstance\u001b[39m(filename, PdfPages):\n",
            "File \u001b[1;32mc:\\Users\\MACHENIKE\\AppData\\Local\\Programs\\Python\\Python310\\lib\\site-packages\\matplotlib\\artist.py:73\u001b[0m, in \u001b[0;36m_finalize_rasterization.<locals>.draw_wrapper\u001b[1;34m(artist, renderer, *args, **kwargs)\u001b[0m\n\u001b[0;32m     <a href='file:///c%3A/Users/MACHENIKE/AppData/Local/Programs/Python/Python310/lib/site-packages/matplotlib/artist.py?line=70'>71</a>\u001b[0m \u001b[39m@wraps\u001b[39m(draw)\n\u001b[0;32m     <a href='file:///c%3A/Users/MACHENIKE/AppData/Local/Programs/Python/Python310/lib/site-packages/matplotlib/artist.py?line=71'>72</a>\u001b[0m \u001b[39mdef\u001b[39;00m \u001b[39mdraw_wrapper\u001b[39m(artist, renderer, \u001b[39m*\u001b[39margs, \u001b[39m*\u001b[39m\u001b[39m*\u001b[39mkwargs):\n\u001b[1;32m---> <a href='file:///c%3A/Users/MACHENIKE/AppData/Local/Programs/Python/Python310/lib/site-packages/matplotlib/artist.py?line=72'>73</a>\u001b[0m     result \u001b[39m=\u001b[39m draw(artist, renderer, \u001b[39m*\u001b[39margs, \u001b[39m*\u001b[39m\u001b[39m*\u001b[39mkwargs)\n\u001b[0;32m     <a href='file:///c%3A/Users/MACHENIKE/AppData/Local/Programs/Python/Python310/lib/site-packages/matplotlib/artist.py?line=73'>74</a>\u001b[0m     \u001b[39mif\u001b[39;00m renderer\u001b[39m.\u001b[39m_rasterizing:\n\u001b[0;32m     <a href='file:///c%3A/Users/MACHENIKE/AppData/Local/Programs/Python/Python310/lib/site-packages/matplotlib/artist.py?line=74'>75</a>\u001b[0m         renderer\u001b[39m.\u001b[39mstop_rasterizing()\n",
            "File \u001b[1;32mc:\\Users\\MACHENIKE\\AppData\\Local\\Programs\\Python\\Python310\\lib\\site-packages\\matplotlib\\artist.py:50\u001b[0m, in \u001b[0;36mallow_rasterization.<locals>.draw_wrapper\u001b[1;34m(artist, renderer)\u001b[0m\n\u001b[0;32m     <a href='file:///c%3A/Users/MACHENIKE/AppData/Local/Programs/Python/Python310/lib/site-packages/matplotlib/artist.py?line=46'>47</a>\u001b[0m     \u001b[39mif\u001b[39;00m artist\u001b[39m.\u001b[39mget_agg_filter() \u001b[39mis\u001b[39;00m \u001b[39mnot\u001b[39;00m \u001b[39mNone\u001b[39;00m:\n\u001b[0;32m     <a href='file:///c%3A/Users/MACHENIKE/AppData/Local/Programs/Python/Python310/lib/site-packages/matplotlib/artist.py?line=47'>48</a>\u001b[0m         renderer\u001b[39m.\u001b[39mstart_filter()\n\u001b[1;32m---> <a href='file:///c%3A/Users/MACHENIKE/AppData/Local/Programs/Python/Python310/lib/site-packages/matplotlib/artist.py?line=49'>50</a>\u001b[0m     \u001b[39mreturn\u001b[39;00m draw(artist, renderer)\n\u001b[0;32m     <a href='file:///c%3A/Users/MACHENIKE/AppData/Local/Programs/Python/Python310/lib/site-packages/matplotlib/artist.py?line=50'>51</a>\u001b[0m \u001b[39mfinally\u001b[39;00m:\n\u001b[0;32m     <a href='file:///c%3A/Users/MACHENIKE/AppData/Local/Programs/Python/Python310/lib/site-packages/matplotlib/artist.py?line=51'>52</a>\u001b[0m     \u001b[39mif\u001b[39;00m artist\u001b[39m.\u001b[39mget_agg_filter() \u001b[39mis\u001b[39;00m \u001b[39mnot\u001b[39;00m \u001b[39mNone\u001b[39;00m:\n",
            "File \u001b[1;32mc:\\Users\\MACHENIKE\\AppData\\Local\\Programs\\Python\\Python310\\lib\\site-packages\\matplotlib\\figure.py:2837\u001b[0m, in \u001b[0;36mFigure.draw\u001b[1;34m(self, renderer)\u001b[0m\n\u001b[0;32m   <a href='file:///c%3A/Users/MACHENIKE/AppData/Local/Programs/Python/Python310/lib/site-packages/matplotlib/figure.py?line=2833'>2834</a>\u001b[0m         \u001b[39m# ValueError can occur when resizing a window.\u001b[39;00m\n\u001b[0;32m   <a href='file:///c%3A/Users/MACHENIKE/AppData/Local/Programs/Python/Python310/lib/site-packages/matplotlib/figure.py?line=2835'>2836</a>\u001b[0m \u001b[39mself\u001b[39m\u001b[39m.\u001b[39mpatch\u001b[39m.\u001b[39mdraw(renderer)\n\u001b[1;32m-> <a href='file:///c%3A/Users/MACHENIKE/AppData/Local/Programs/Python/Python310/lib/site-packages/matplotlib/figure.py?line=2836'>2837</a>\u001b[0m mimage\u001b[39m.\u001b[39;49m_draw_list_compositing_images(\n\u001b[0;32m   <a href='file:///c%3A/Users/MACHENIKE/AppData/Local/Programs/Python/Python310/lib/site-packages/matplotlib/figure.py?line=2837'>2838</a>\u001b[0m     renderer, \u001b[39mself\u001b[39;49m, artists, \u001b[39mself\u001b[39;49m\u001b[39m.\u001b[39;49msuppressComposite)\n\u001b[0;32m   <a href='file:///c%3A/Users/MACHENIKE/AppData/Local/Programs/Python/Python310/lib/site-packages/matplotlib/figure.py?line=2839'>2840</a>\u001b[0m \u001b[39mfor\u001b[39;00m sfig \u001b[39min\u001b[39;00m \u001b[39mself\u001b[39m\u001b[39m.\u001b[39msubfigs:\n\u001b[0;32m   <a href='file:///c%3A/Users/MACHENIKE/AppData/Local/Programs/Python/Python310/lib/site-packages/matplotlib/figure.py?line=2840'>2841</a>\u001b[0m     sfig\u001b[39m.\u001b[39mdraw(renderer)\n",
            "File \u001b[1;32mc:\\Users\\MACHENIKE\\AppData\\Local\\Programs\\Python\\Python310\\lib\\site-packages\\matplotlib\\image.py:132\u001b[0m, in \u001b[0;36m_draw_list_compositing_images\u001b[1;34m(renderer, parent, artists, suppress_composite)\u001b[0m\n\u001b[0;32m    <a href='file:///c%3A/Users/MACHENIKE/AppData/Local/Programs/Python/Python310/lib/site-packages/matplotlib/image.py?line=129'>130</a>\u001b[0m \u001b[39mif\u001b[39;00m not_composite \u001b[39mor\u001b[39;00m \u001b[39mnot\u001b[39;00m has_images:\n\u001b[0;32m    <a href='file:///c%3A/Users/MACHENIKE/AppData/Local/Programs/Python/Python310/lib/site-packages/matplotlib/image.py?line=130'>131</a>\u001b[0m     \u001b[39mfor\u001b[39;00m a \u001b[39min\u001b[39;00m artists:\n\u001b[1;32m--> <a href='file:///c%3A/Users/MACHENIKE/AppData/Local/Programs/Python/Python310/lib/site-packages/matplotlib/image.py?line=131'>132</a>\u001b[0m         a\u001b[39m.\u001b[39;49mdraw(renderer)\n\u001b[0;32m    <a href='file:///c%3A/Users/MACHENIKE/AppData/Local/Programs/Python/Python310/lib/site-packages/matplotlib/image.py?line=132'>133</a>\u001b[0m \u001b[39melse\u001b[39;00m:\n\u001b[0;32m    <a href='file:///c%3A/Users/MACHENIKE/AppData/Local/Programs/Python/Python310/lib/site-packages/matplotlib/image.py?line=133'>134</a>\u001b[0m     \u001b[39m# Composite any adjacent images together\u001b[39;00m\n\u001b[0;32m    <a href='file:///c%3A/Users/MACHENIKE/AppData/Local/Programs/Python/Python310/lib/site-packages/matplotlib/image.py?line=134'>135</a>\u001b[0m     image_group \u001b[39m=\u001b[39m []\n",
            "File \u001b[1;32mc:\\Users\\MACHENIKE\\AppData\\Local\\Programs\\Python\\Python310\\lib\\site-packages\\matplotlib\\artist.py:50\u001b[0m, in \u001b[0;36mallow_rasterization.<locals>.draw_wrapper\u001b[1;34m(artist, renderer)\u001b[0m\n\u001b[0;32m     <a href='file:///c%3A/Users/MACHENIKE/AppData/Local/Programs/Python/Python310/lib/site-packages/matplotlib/artist.py?line=46'>47</a>\u001b[0m     \u001b[39mif\u001b[39;00m artist\u001b[39m.\u001b[39mget_agg_filter() \u001b[39mis\u001b[39;00m \u001b[39mnot\u001b[39;00m \u001b[39mNone\u001b[39;00m:\n\u001b[0;32m     <a href='file:///c%3A/Users/MACHENIKE/AppData/Local/Programs/Python/Python310/lib/site-packages/matplotlib/artist.py?line=47'>48</a>\u001b[0m         renderer\u001b[39m.\u001b[39mstart_filter()\n\u001b[1;32m---> <a href='file:///c%3A/Users/MACHENIKE/AppData/Local/Programs/Python/Python310/lib/site-packages/matplotlib/artist.py?line=49'>50</a>\u001b[0m     \u001b[39mreturn\u001b[39;00m draw(artist, renderer)\n\u001b[0;32m     <a href='file:///c%3A/Users/MACHENIKE/AppData/Local/Programs/Python/Python310/lib/site-packages/matplotlib/artist.py?line=50'>51</a>\u001b[0m \u001b[39mfinally\u001b[39;00m:\n\u001b[0;32m     <a href='file:///c%3A/Users/MACHENIKE/AppData/Local/Programs/Python/Python310/lib/site-packages/matplotlib/artist.py?line=51'>52</a>\u001b[0m     \u001b[39mif\u001b[39;00m artist\u001b[39m.\u001b[39mget_agg_filter() \u001b[39mis\u001b[39;00m \u001b[39mnot\u001b[39;00m \u001b[39mNone\u001b[39;00m:\n",
            "File \u001b[1;32mc:\\Users\\MACHENIKE\\AppData\\Local\\Programs\\Python\\Python310\\lib\\site-packages\\matplotlib\\axes\\_base.py:3091\u001b[0m, in \u001b[0;36m_AxesBase.draw\u001b[1;34m(self, renderer)\u001b[0m\n\u001b[0;32m   <a href='file:///c%3A/Users/MACHENIKE/AppData/Local/Programs/Python/Python310/lib/site-packages/matplotlib/axes/_base.py?line=3087'>3088</a>\u001b[0m         a\u001b[39m.\u001b[39mdraw(renderer)\n\u001b[0;32m   <a href='file:///c%3A/Users/MACHENIKE/AppData/Local/Programs/Python/Python310/lib/site-packages/matplotlib/axes/_base.py?line=3088'>3089</a>\u001b[0m     renderer\u001b[39m.\u001b[39mstop_rasterizing()\n\u001b[1;32m-> <a href='file:///c%3A/Users/MACHENIKE/AppData/Local/Programs/Python/Python310/lib/site-packages/matplotlib/axes/_base.py?line=3090'>3091</a>\u001b[0m mimage\u001b[39m.\u001b[39;49m_draw_list_compositing_images(\n\u001b[0;32m   <a href='file:///c%3A/Users/MACHENIKE/AppData/Local/Programs/Python/Python310/lib/site-packages/matplotlib/axes/_base.py?line=3091'>3092</a>\u001b[0m     renderer, \u001b[39mself\u001b[39;49m, artists, \u001b[39mself\u001b[39;49m\u001b[39m.\u001b[39;49mfigure\u001b[39m.\u001b[39;49msuppressComposite)\n\u001b[0;32m   <a href='file:///c%3A/Users/MACHENIKE/AppData/Local/Programs/Python/Python310/lib/site-packages/matplotlib/axes/_base.py?line=3093'>3094</a>\u001b[0m renderer\u001b[39m.\u001b[39mclose_group(\u001b[39m'\u001b[39m\u001b[39maxes\u001b[39m\u001b[39m'\u001b[39m)\n\u001b[0;32m   <a href='file:///c%3A/Users/MACHENIKE/AppData/Local/Programs/Python/Python310/lib/site-packages/matplotlib/axes/_base.py?line=3094'>3095</a>\u001b[0m \u001b[39mself\u001b[39m\u001b[39m.\u001b[39mstale \u001b[39m=\u001b[39m \u001b[39mFalse\u001b[39;00m\n",
            "File \u001b[1;32mc:\\Users\\MACHENIKE\\AppData\\Local\\Programs\\Python\\Python310\\lib\\site-packages\\matplotlib\\image.py:132\u001b[0m, in \u001b[0;36m_draw_list_compositing_images\u001b[1;34m(renderer, parent, artists, suppress_composite)\u001b[0m\n\u001b[0;32m    <a href='file:///c%3A/Users/MACHENIKE/AppData/Local/Programs/Python/Python310/lib/site-packages/matplotlib/image.py?line=129'>130</a>\u001b[0m \u001b[39mif\u001b[39;00m not_composite \u001b[39mor\u001b[39;00m \u001b[39mnot\u001b[39;00m has_images:\n\u001b[0;32m    <a href='file:///c%3A/Users/MACHENIKE/AppData/Local/Programs/Python/Python310/lib/site-packages/matplotlib/image.py?line=130'>131</a>\u001b[0m     \u001b[39mfor\u001b[39;00m a \u001b[39min\u001b[39;00m artists:\n\u001b[1;32m--> <a href='file:///c%3A/Users/MACHENIKE/AppData/Local/Programs/Python/Python310/lib/site-packages/matplotlib/image.py?line=131'>132</a>\u001b[0m         a\u001b[39m.\u001b[39;49mdraw(renderer)\n\u001b[0;32m    <a href='file:///c%3A/Users/MACHENIKE/AppData/Local/Programs/Python/Python310/lib/site-packages/matplotlib/image.py?line=132'>133</a>\u001b[0m \u001b[39melse\u001b[39;00m:\n\u001b[0;32m    <a href='file:///c%3A/Users/MACHENIKE/AppData/Local/Programs/Python/Python310/lib/site-packages/matplotlib/image.py?line=133'>134</a>\u001b[0m     \u001b[39m# Composite any adjacent images together\u001b[39;00m\n\u001b[0;32m    <a href='file:///c%3A/Users/MACHENIKE/AppData/Local/Programs/Python/Python310/lib/site-packages/matplotlib/image.py?line=134'>135</a>\u001b[0m     image_group \u001b[39m=\u001b[39m []\n",
            "File \u001b[1;32mc:\\Users\\MACHENIKE\\AppData\\Local\\Programs\\Python\\Python310\\lib\\site-packages\\matplotlib\\artist.py:50\u001b[0m, in \u001b[0;36mallow_rasterization.<locals>.draw_wrapper\u001b[1;34m(artist, renderer)\u001b[0m\n\u001b[0;32m     <a href='file:///c%3A/Users/MACHENIKE/AppData/Local/Programs/Python/Python310/lib/site-packages/matplotlib/artist.py?line=46'>47</a>\u001b[0m     \u001b[39mif\u001b[39;00m artist\u001b[39m.\u001b[39mget_agg_filter() \u001b[39mis\u001b[39;00m \u001b[39mnot\u001b[39;00m \u001b[39mNone\u001b[39;00m:\n\u001b[0;32m     <a href='file:///c%3A/Users/MACHENIKE/AppData/Local/Programs/Python/Python310/lib/site-packages/matplotlib/artist.py?line=47'>48</a>\u001b[0m         renderer\u001b[39m.\u001b[39mstart_filter()\n\u001b[1;32m---> <a href='file:///c%3A/Users/MACHENIKE/AppData/Local/Programs/Python/Python310/lib/site-packages/matplotlib/artist.py?line=49'>50</a>\u001b[0m     \u001b[39mreturn\u001b[39;00m draw(artist, renderer)\n\u001b[0;32m     <a href='file:///c%3A/Users/MACHENIKE/AppData/Local/Programs/Python/Python310/lib/site-packages/matplotlib/artist.py?line=50'>51</a>\u001b[0m \u001b[39mfinally\u001b[39;00m:\n\u001b[0;32m     <a href='file:///c%3A/Users/MACHENIKE/AppData/Local/Programs/Python/Python310/lib/site-packages/matplotlib/artist.py?line=51'>52</a>\u001b[0m     \u001b[39mif\u001b[39;00m artist\u001b[39m.\u001b[39mget_agg_filter() \u001b[39mis\u001b[39;00m \u001b[39mnot\u001b[39;00m \u001b[39mNone\u001b[39;00m:\n",
            "File \u001b[1;32mc:\\Users\\MACHENIKE\\AppData\\Local\\Programs\\Python\\Python310\\lib\\site-packages\\matplotlib\\collections.py:990\u001b[0m, in \u001b[0;36m_CollectionWithSizes.draw\u001b[1;34m(self, renderer)\u001b[0m\n\u001b[0;32m    <a href='file:///c%3A/Users/MACHENIKE/AppData/Local/Programs/Python/Python310/lib/site-packages/matplotlib/collections.py?line=986'>987</a>\u001b[0m \u001b[39m@artist\u001b[39m\u001b[39m.\u001b[39mallow_rasterization\n\u001b[0;32m    <a href='file:///c%3A/Users/MACHENIKE/AppData/Local/Programs/Python/Python310/lib/site-packages/matplotlib/collections.py?line=987'>988</a>\u001b[0m \u001b[39mdef\u001b[39;00m \u001b[39mdraw\u001b[39m(\u001b[39mself\u001b[39m, renderer):\n\u001b[0;32m    <a href='file:///c%3A/Users/MACHENIKE/AppData/Local/Programs/Python/Python310/lib/site-packages/matplotlib/collections.py?line=988'>989</a>\u001b[0m     \u001b[39mself\u001b[39m\u001b[39m.\u001b[39mset_sizes(\u001b[39mself\u001b[39m\u001b[39m.\u001b[39m_sizes, \u001b[39mself\u001b[39m\u001b[39m.\u001b[39mfigure\u001b[39m.\u001b[39mdpi)\n\u001b[1;32m--> <a href='file:///c%3A/Users/MACHENIKE/AppData/Local/Programs/Python/Python310/lib/site-packages/matplotlib/collections.py?line=989'>990</a>\u001b[0m     \u001b[39msuper\u001b[39;49m()\u001b[39m.\u001b[39;49mdraw(renderer)\n",
            "File \u001b[1;32mc:\\Users\\MACHENIKE\\AppData\\Local\\Programs\\Python\\Python310\\lib\\site-packages\\matplotlib\\artist.py:50\u001b[0m, in \u001b[0;36mallow_rasterization.<locals>.draw_wrapper\u001b[1;34m(artist, renderer)\u001b[0m\n\u001b[0;32m     <a href='file:///c%3A/Users/MACHENIKE/AppData/Local/Programs/Python/Python310/lib/site-packages/matplotlib/artist.py?line=46'>47</a>\u001b[0m     \u001b[39mif\u001b[39;00m artist\u001b[39m.\u001b[39mget_agg_filter() \u001b[39mis\u001b[39;00m \u001b[39mnot\u001b[39;00m \u001b[39mNone\u001b[39;00m:\n\u001b[0;32m     <a href='file:///c%3A/Users/MACHENIKE/AppData/Local/Programs/Python/Python310/lib/site-packages/matplotlib/artist.py?line=47'>48</a>\u001b[0m         renderer\u001b[39m.\u001b[39mstart_filter()\n\u001b[1;32m---> <a href='file:///c%3A/Users/MACHENIKE/AppData/Local/Programs/Python/Python310/lib/site-packages/matplotlib/artist.py?line=49'>50</a>\u001b[0m     \u001b[39mreturn\u001b[39;00m draw(artist, renderer)\n\u001b[0;32m     <a href='file:///c%3A/Users/MACHENIKE/AppData/Local/Programs/Python/Python310/lib/site-packages/matplotlib/artist.py?line=50'>51</a>\u001b[0m \u001b[39mfinally\u001b[39;00m:\n\u001b[0;32m     <a href='file:///c%3A/Users/MACHENIKE/AppData/Local/Programs/Python/Python310/lib/site-packages/matplotlib/artist.py?line=51'>52</a>\u001b[0m     \u001b[39mif\u001b[39;00m artist\u001b[39m.\u001b[39mget_agg_filter() \u001b[39mis\u001b[39;00m \u001b[39mnot\u001b[39;00m \u001b[39mNone\u001b[39;00m:\n",
            "File \u001b[1;32mc:\\Users\\MACHENIKE\\AppData\\Local\\Programs\\Python\\Python310\\lib\\site-packages\\matplotlib\\collections.py:424\u001b[0m, in \u001b[0;36mCollection.draw\u001b[1;34m(self, renderer)\u001b[0m\n\u001b[0;32m    <a href='file:///c%3A/Users/MACHENIKE/AppData/Local/Programs/Python/Python310/lib/site-packages/matplotlib/collections.py?line=419'>420</a>\u001b[0m     renderer\u001b[39m.\u001b[39mdraw_markers(\n\u001b[0;32m    <a href='file:///c%3A/Users/MACHENIKE/AppData/Local/Programs/Python/Python310/lib/site-packages/matplotlib/collections.py?line=420'>421</a>\u001b[0m         gc, paths[\u001b[39m0\u001b[39m], combined_transform\u001b[39m.\u001b[39mfrozen(),\n\u001b[0;32m    <a href='file:///c%3A/Users/MACHENIKE/AppData/Local/Programs/Python/Python310/lib/site-packages/matplotlib/collections.py?line=421'>422</a>\u001b[0m         mpath\u001b[39m.\u001b[39mPath(offsets), transOffset, \u001b[39mtuple\u001b[39m(facecolors[\u001b[39m0\u001b[39m]))\n\u001b[0;32m    <a href='file:///c%3A/Users/MACHENIKE/AppData/Local/Programs/Python/Python310/lib/site-packages/matplotlib/collections.py?line=422'>423</a>\u001b[0m \u001b[39melse\u001b[39;00m:\n\u001b[1;32m--> <a href='file:///c%3A/Users/MACHENIKE/AppData/Local/Programs/Python/Python310/lib/site-packages/matplotlib/collections.py?line=423'>424</a>\u001b[0m     renderer\u001b[39m.\u001b[39;49mdraw_path_collection(\n\u001b[0;32m    <a href='file:///c%3A/Users/MACHENIKE/AppData/Local/Programs/Python/Python310/lib/site-packages/matplotlib/collections.py?line=424'>425</a>\u001b[0m         gc, transform\u001b[39m.\u001b[39;49mfrozen(), paths,\n\u001b[0;32m    <a href='file:///c%3A/Users/MACHENIKE/AppData/Local/Programs/Python/Python310/lib/site-packages/matplotlib/collections.py?line=425'>426</a>\u001b[0m         \u001b[39mself\u001b[39;49m\u001b[39m.\u001b[39;49mget_transforms(), offsets, transOffset,\n\u001b[0;32m    <a href='file:///c%3A/Users/MACHENIKE/AppData/Local/Programs/Python/Python310/lib/site-packages/matplotlib/collections.py?line=426'>427</a>\u001b[0m         \u001b[39mself\u001b[39;49m\u001b[39m.\u001b[39;49mget_facecolor(), \u001b[39mself\u001b[39;49m\u001b[39m.\u001b[39;49mget_edgecolor(),\n\u001b[0;32m    <a href='file:///c%3A/Users/MACHENIKE/AppData/Local/Programs/Python/Python310/lib/site-packages/matplotlib/collections.py?line=427'>428</a>\u001b[0m         \u001b[39mself\u001b[39;49m\u001b[39m.\u001b[39;49m_linewidths, \u001b[39mself\u001b[39;49m\u001b[39m.\u001b[39;49m_linestyles,\n\u001b[0;32m    <a href='file:///c%3A/Users/MACHENIKE/AppData/Local/Programs/Python/Python310/lib/site-packages/matplotlib/collections.py?line=428'>429</a>\u001b[0m         \u001b[39mself\u001b[39;49m\u001b[39m.\u001b[39;49m_antialiaseds, \u001b[39mself\u001b[39;49m\u001b[39m.\u001b[39;49m_urls,\n\u001b[0;32m    <a href='file:///c%3A/Users/MACHENIKE/AppData/Local/Programs/Python/Python310/lib/site-packages/matplotlib/collections.py?line=429'>430</a>\u001b[0m         \u001b[39mself\u001b[39;49m\u001b[39m.\u001b[39;49m_offset_position)\n\u001b[0;32m    <a href='file:///c%3A/Users/MACHENIKE/AppData/Local/Programs/Python/Python310/lib/site-packages/matplotlib/collections.py?line=431'>432</a>\u001b[0m gc\u001b[39m.\u001b[39mrestore()\n\u001b[0;32m    <a href='file:///c%3A/Users/MACHENIKE/AppData/Local/Programs/Python/Python310/lib/site-packages/matplotlib/collections.py?line=432'>433</a>\u001b[0m renderer\u001b[39m.\u001b[39mclose_group(\u001b[39mself\u001b[39m\u001b[39m.\u001b[39m\u001b[39m__class__\u001b[39m\u001b[39m.\u001b[39m\u001b[39m__name__\u001b[39m)\n",
            "File \u001b[1;32mc:\\Users\\MACHENIKE\\AppData\\Local\\Programs\\Python\\Python310\\lib\\site-packages\\matplotlib\\backends\\backend_pdf.py:2042\u001b[0m, in \u001b[0;36mRendererPdf.draw_path_collection\u001b[1;34m(self, gc, master_transform, paths, all_transforms, offsets, offsetTrans, facecolors, edgecolors, linewidths, linestyles, antialiaseds, urls, offset_position)\u001b[0m\n\u001b[0;32m   <a href='file:///c%3A/Users/MACHENIKE/AppData/Local/Programs/Python/Python310/lib/site-packages/matplotlib/backends/backend_pdf.py?line=2037'>2038</a>\u001b[0m should_do_optimization \u001b[39m=\u001b[39m \\\n\u001b[0;32m   <a href='file:///c%3A/Users/MACHENIKE/AppData/Local/Programs/Python/Python310/lib/site-packages/matplotlib/backends/backend_pdf.py?line=2038'>2039</a>\u001b[0m     len_path \u001b[39m+\u001b[39m uses_per_path \u001b[39m+\u001b[39m \u001b[39m5\u001b[39m \u001b[39m<\u001b[39m len_path \u001b[39m*\u001b[39m uses_per_path\n\u001b[0;32m   <a href='file:///c%3A/Users/MACHENIKE/AppData/Local/Programs/Python/Python310/lib/site-packages/matplotlib/backends/backend_pdf.py?line=2040'>2041</a>\u001b[0m \u001b[39mif\u001b[39;00m (\u001b[39mnot\u001b[39;00m can_do_optimization) \u001b[39mor\u001b[39;00m (\u001b[39mnot\u001b[39;00m should_do_optimization):\n\u001b[1;32m-> <a href='file:///c%3A/Users/MACHENIKE/AppData/Local/Programs/Python/Python310/lib/site-packages/matplotlib/backends/backend_pdf.py?line=2041'>2042</a>\u001b[0m     \u001b[39mreturn\u001b[39;00m RendererBase\u001b[39m.\u001b[39;49mdraw_path_collection(\n\u001b[0;32m   <a href='file:///c%3A/Users/MACHENIKE/AppData/Local/Programs/Python/Python310/lib/site-packages/matplotlib/backends/backend_pdf.py?line=2042'>2043</a>\u001b[0m         \u001b[39mself\u001b[39;49m, gc, master_transform, paths, all_transforms,\n\u001b[0;32m   <a href='file:///c%3A/Users/MACHENIKE/AppData/Local/Programs/Python/Python310/lib/site-packages/matplotlib/backends/backend_pdf.py?line=2043'>2044</a>\u001b[0m         offsets, offsetTrans, facecolors, edgecolors,\n\u001b[0;32m   <a href='file:///c%3A/Users/MACHENIKE/AppData/Local/Programs/Python/Python310/lib/site-packages/matplotlib/backends/backend_pdf.py?line=2044'>2045</a>\u001b[0m         linewidths, linestyles, antialiaseds, urls,\n\u001b[0;32m   <a href='file:///c%3A/Users/MACHENIKE/AppData/Local/Programs/Python/Python310/lib/site-packages/matplotlib/backends/backend_pdf.py?line=2045'>2046</a>\u001b[0m         offset_position)\n\u001b[0;32m   <a href='file:///c%3A/Users/MACHENIKE/AppData/Local/Programs/Python/Python310/lib/site-packages/matplotlib/backends/backend_pdf.py?line=2047'>2048</a>\u001b[0m padding \u001b[39m=\u001b[39m np\u001b[39m.\u001b[39mmax(linewidths)\n\u001b[0;32m   <a href='file:///c%3A/Users/MACHENIKE/AppData/Local/Programs/Python/Python310/lib/site-packages/matplotlib/backends/backend_pdf.py?line=2048'>2049</a>\u001b[0m path_codes \u001b[39m=\u001b[39m []\n",
            "File \u001b[1;32mc:\\Users\\MACHENIKE\\AppData\\Local\\Programs\\Python\\Python310\\lib\\site-packages\\matplotlib\\backend_bases.py:265\u001b[0m, in \u001b[0;36mRendererBase.draw_path_collection\u001b[1;34m(self, gc, master_transform, paths, all_transforms, offsets, offsetTrans, facecolors, edgecolors, linewidths, linestyles, antialiaseds, urls, offset_position)\u001b[0m\n\u001b[0;32m    <a href='file:///c%3A/Users/MACHENIKE/AppData/Local/Programs/Python/Python310/lib/site-packages/matplotlib/backend_bases.py?line=262'>263</a>\u001b[0m     transform \u001b[39m=\u001b[39m transform\u001b[39m.\u001b[39mfrozen()\n\u001b[0;32m    <a href='file:///c%3A/Users/MACHENIKE/AppData/Local/Programs/Python/Python310/lib/site-packages/matplotlib/backend_bases.py?line=263'>264</a>\u001b[0m     transform\u001b[39m.\u001b[39mtranslate(xo, yo)\n\u001b[1;32m--> <a href='file:///c%3A/Users/MACHENIKE/AppData/Local/Programs/Python/Python310/lib/site-packages/matplotlib/backend_bases.py?line=264'>265</a>\u001b[0m \u001b[39mself\u001b[39;49m\u001b[39m.\u001b[39;49mdraw_path(gc0, path, transform, rgbFace)\n",
            "File \u001b[1;32mc:\\Users\\MACHENIKE\\AppData\\Local\\Programs\\Python\\Python310\\lib\\site-packages\\matplotlib\\backends\\backend_pdf.py:1994\u001b[0m, in \u001b[0;36mRendererPdf.draw_path\u001b[1;34m(self, gc, path, transform, rgbFace)\u001b[0m\n\u001b[0;32m   <a href='file:///c%3A/Users/MACHENIKE/AppData/Local/Programs/Python/Python310/lib/site-packages/matplotlib/backends/backend_pdf.py?line=1991'>1992</a>\u001b[0m \u001b[39mdef\u001b[39;00m \u001b[39mdraw_path\u001b[39m(\u001b[39mself\u001b[39m, gc, path, transform, rgbFace\u001b[39m=\u001b[39m\u001b[39mNone\u001b[39;00m):\n\u001b[0;32m   <a href='file:///c%3A/Users/MACHENIKE/AppData/Local/Programs/Python/Python310/lib/site-packages/matplotlib/backends/backend_pdf.py?line=1992'>1993</a>\u001b[0m     \u001b[39m# docstring inherited\u001b[39;00m\n\u001b[1;32m-> <a href='file:///c%3A/Users/MACHENIKE/AppData/Local/Programs/Python/Python310/lib/site-packages/matplotlib/backends/backend_pdf.py?line=1993'>1994</a>\u001b[0m     \u001b[39mself\u001b[39;49m\u001b[39m.\u001b[39;49mcheck_gc(gc, rgbFace)\n\u001b[0;32m   <a href='file:///c%3A/Users/MACHENIKE/AppData/Local/Programs/Python/Python310/lib/site-packages/matplotlib/backends/backend_pdf.py?line=1994'>1995</a>\u001b[0m     \u001b[39mself\u001b[39m\u001b[39m.\u001b[39mfile\u001b[39m.\u001b[39mwritePath(\n\u001b[0;32m   <a href='file:///c%3A/Users/MACHENIKE/AppData/Local/Programs/Python/Python310/lib/site-packages/matplotlib/backends/backend_pdf.py?line=1995'>1996</a>\u001b[0m         path, transform,\n\u001b[0;32m   <a href='file:///c%3A/Users/MACHENIKE/AppData/Local/Programs/Python/Python310/lib/site-packages/matplotlib/backends/backend_pdf.py?line=1996'>1997</a>\u001b[0m         rgbFace \u001b[39mis\u001b[39;00m \u001b[39mNone\u001b[39;00m \u001b[39mand\u001b[39;00m gc\u001b[39m.\u001b[39mget_hatch_path() \u001b[39mis\u001b[39;00m \u001b[39mNone\u001b[39;00m,\n\u001b[0;32m   <a href='file:///c%3A/Users/MACHENIKE/AppData/Local/Programs/Python/Python310/lib/site-packages/matplotlib/backends/backend_pdf.py?line=1997'>1998</a>\u001b[0m         gc\u001b[39m.\u001b[39mget_sketch_params())\n\u001b[0;32m   <a href='file:///c%3A/Users/MACHENIKE/AppData/Local/Programs/Python/Python310/lib/site-packages/matplotlib/backends/backend_pdf.py?line=1998'>1999</a>\u001b[0m     \u001b[39mself\u001b[39m\u001b[39m.\u001b[39mfile\u001b[39m.\u001b[39moutput(\u001b[39mself\u001b[39m\u001b[39m.\u001b[39mgc\u001b[39m.\u001b[39mpaint())\n",
            "File \u001b[1;32mc:\\Users\\MACHENIKE\\AppData\\Local\\Programs\\Python\\Python310\\lib\\site-packages\\matplotlib\\backends\\backend_pdf.py:1953\u001b[0m, in \u001b[0;36mRendererPdf.check_gc\u001b[1;34m(self, gc, fillcolor)\u001b[0m\n\u001b[0;32m   <a href='file:///c%3A/Users/MACHENIKE/AppData/Local/Programs/Python/Python310/lib/site-packages/matplotlib/backends/backend_pdf.py?line=1950'>1951</a>\u001b[0m delta \u001b[39m=\u001b[39m \u001b[39mself\u001b[39m\u001b[39m.\u001b[39mgc\u001b[39m.\u001b[39mdelta(gc)\n\u001b[0;32m   <a href='file:///c%3A/Users/MACHENIKE/AppData/Local/Programs/Python/Python310/lib/site-packages/matplotlib/backends/backend_pdf.py?line=1951'>1952</a>\u001b[0m \u001b[39mif\u001b[39;00m delta:\n\u001b[1;32m-> <a href='file:///c%3A/Users/MACHENIKE/AppData/Local/Programs/Python/Python310/lib/site-packages/matplotlib/backends/backend_pdf.py?line=1952'>1953</a>\u001b[0m     \u001b[39mself\u001b[39;49m\u001b[39m.\u001b[39;49mfile\u001b[39m.\u001b[39;49moutput(\u001b[39m*\u001b[39;49mdelta)\n\u001b[0;32m   <a href='file:///c%3A/Users/MACHENIKE/AppData/Local/Programs/Python/Python310/lib/site-packages/matplotlib/backends/backend_pdf.py?line=1954'>1955</a>\u001b[0m \u001b[39m# Restore gc to avoid unwanted side effects\u001b[39;00m\n\u001b[0;32m   <a href='file:///c%3A/Users/MACHENIKE/AppData/Local/Programs/Python/Python310/lib/site-packages/matplotlib/backends/backend_pdf.py?line=1955'>1956</a>\u001b[0m gc\u001b[39m.\u001b[39m_fillcolor \u001b[39m=\u001b[39m orig_fill\n",
            "File \u001b[1;32mc:\\Users\\MACHENIKE\\AppData\\Local\\Programs\\Python\\Python310\\lib\\site-packages\\matplotlib\\backends\\backend_pdf.py:840\u001b[0m, in \u001b[0;36mPdfFile.output\u001b[1;34m(self, *data)\u001b[0m\n\u001b[0;32m    <a href='file:///c%3A/Users/MACHENIKE/AppData/Local/Programs/Python/Python310/lib/site-packages/matplotlib/backends/backend_pdf.py?line=838'>839</a>\u001b[0m \u001b[39mdef\u001b[39;00m \u001b[39moutput\u001b[39m(\u001b[39mself\u001b[39m, \u001b[39m*\u001b[39mdata):\n\u001b[1;32m--> <a href='file:///c%3A/Users/MACHENIKE/AppData/Local/Programs/Python/Python310/lib/site-packages/matplotlib/backends/backend_pdf.py?line=839'>840</a>\u001b[0m     \u001b[39mself\u001b[39m\u001b[39m.\u001b[39mwrite(fill([pdfRepr(x) \u001b[39mfor\u001b[39;00m x \u001b[39min\u001b[39;00m data]))\n\u001b[0;32m    <a href='file:///c%3A/Users/MACHENIKE/AppData/Local/Programs/Python/Python310/lib/site-packages/matplotlib/backends/backend_pdf.py?line=840'>841</a>\u001b[0m     \u001b[39mself\u001b[39m\u001b[39m.\u001b[39mwrite(\u001b[39mb\u001b[39m\u001b[39m'\u001b[39m\u001b[39m\\n\u001b[39;00m\u001b[39m'\u001b[39m)\n",
            "File \u001b[1;32mc:\\Users\\MACHENIKE\\AppData\\Local\\Programs\\Python\\Python310\\lib\\site-packages\\matplotlib\\backends\\backend_pdf.py:840\u001b[0m, in \u001b[0;36m<listcomp>\u001b[1;34m(.0)\u001b[0m\n\u001b[0;32m    <a href='file:///c%3A/Users/MACHENIKE/AppData/Local/Programs/Python/Python310/lib/site-packages/matplotlib/backends/backend_pdf.py?line=838'>839</a>\u001b[0m \u001b[39mdef\u001b[39;00m \u001b[39moutput\u001b[39m(\u001b[39mself\u001b[39m, \u001b[39m*\u001b[39mdata):\n\u001b[1;32m--> <a href='file:///c%3A/Users/MACHENIKE/AppData/Local/Programs/Python/Python310/lib/site-packages/matplotlib/backends/backend_pdf.py?line=839'>840</a>\u001b[0m     \u001b[39mself\u001b[39m\u001b[39m.\u001b[39mwrite(fill([pdfRepr(x) \u001b[39mfor\u001b[39;00m x \u001b[39min\u001b[39;00m data]))\n\u001b[0;32m    <a href='file:///c%3A/Users/MACHENIKE/AppData/Local/Programs/Python/Python310/lib/site-packages/matplotlib/backends/backend_pdf.py?line=840'>841</a>\u001b[0m     \u001b[39mself\u001b[39m\u001b[39m.\u001b[39mwrite(\u001b[39mb\u001b[39m\u001b[39m'\u001b[39m\u001b[39m\\n\u001b[39;00m\u001b[39m'\u001b[39m)\n",
            "File \u001b[1;32mc:\\Users\\MACHENIKE\\AppData\\Local\\Programs\\Python\\Python310\\lib\\site-packages\\matplotlib\\backends\\backend_pdf.py:263\u001b[0m, in \u001b[0;36mpdfRepr\u001b[1;34m(obj)\u001b[0m\n\u001b[0;32m    <a href='file:///c%3A/Users/MACHENIKE/AppData/Local/Programs/Python/Python310/lib/site-packages/matplotlib/backends/backend_pdf.py?line=260'>261</a>\u001b[0m \u001b[39melif\u001b[39;00m \u001b[39misinstance\u001b[39m(obj, (\u001b[39mfloat\u001b[39m, np\u001b[39m.\u001b[39mfloating)):\n\u001b[0;32m    <a href='file:///c%3A/Users/MACHENIKE/AppData/Local/Programs/Python/Python310/lib/site-packages/matplotlib/backends/backend_pdf.py?line=261'>262</a>\u001b[0m     \u001b[39mif\u001b[39;00m \u001b[39mnot\u001b[39;00m np\u001b[39m.\u001b[39misfinite(obj):\n\u001b[1;32m--> <a href='file:///c%3A/Users/MACHENIKE/AppData/Local/Programs/Python/Python310/lib/site-packages/matplotlib/backends/backend_pdf.py?line=262'>263</a>\u001b[0m         \u001b[39mraise\u001b[39;00m \u001b[39mValueError\u001b[39;00m(\u001b[39m\"\u001b[39m\u001b[39mCan only output finite numbers in PDF\u001b[39m\u001b[39m\"\u001b[39m)\n\u001b[0;32m    <a href='file:///c%3A/Users/MACHENIKE/AppData/Local/Programs/Python/Python310/lib/site-packages/matplotlib/backends/backend_pdf.py?line=263'>264</a>\u001b[0m     r \u001b[39m=\u001b[39m \u001b[39mb\u001b[39m\u001b[39m\"\u001b[39m\u001b[39m%.10f\u001b[39;00m\u001b[39m\"\u001b[39m \u001b[39m%\u001b[39m obj\n\u001b[0;32m    <a href='file:///c%3A/Users/MACHENIKE/AppData/Local/Programs/Python/Python310/lib/site-packages/matplotlib/backends/backend_pdf.py?line=264'>265</a>\u001b[0m     \u001b[39mreturn\u001b[39;00m r\u001b[39m.\u001b[39mrstrip(\u001b[39mb\u001b[39m\u001b[39m'\u001b[39m\u001b[39m0\u001b[39m\u001b[39m'\u001b[39m)\u001b[39m.\u001b[39mrstrip(\u001b[39mb\u001b[39m\u001b[39m'\u001b[39m\u001b[39m.\u001b[39m\u001b[39m'\u001b[39m)\n",
            "\u001b[1;31mValueError\u001b[0m: Can only output finite numbers in PDF"
          ]
        },
        {
          "name": "stdout",
          "output_type": "stream",
          "text": [
            "Error in callback <function flush_figures at 0x000001AAFB45C1F0> (for post_execute):\n"
          ]
        },
        {
          "ename": "KeyboardInterrupt",
          "evalue": "",
          "output_type": "error",
          "traceback": [
            "\u001b[1;31m---------------------------------------------------------------------------\u001b[0m",
            "\u001b[1;31mKeyboardInterrupt\u001b[0m                         Traceback (most recent call last)",
            "File \u001b[1;32mc:\\Users\\MACHENIKE\\AppData\\Local\\Programs\\Python\\Python310\\lib\\site-packages\\matplotlib_inline\\backend_inline.py:121\u001b[0m, in \u001b[0;36mflush_figures\u001b[1;34m()\u001b[0m\n\u001b[0;32m    <a href='file:///c%3A/Users/MACHENIKE/AppData/Local/Programs/Python/Python310/lib/site-packages/matplotlib_inline/backend_inline.py?line=117'>118</a>\u001b[0m \u001b[39mif\u001b[39;00m InlineBackend\u001b[39m.\u001b[39minstance()\u001b[39m.\u001b[39mclose_figures:\n\u001b[0;32m    <a href='file:///c%3A/Users/MACHENIKE/AppData/Local/Programs/Python/Python310/lib/site-packages/matplotlib_inline/backend_inline.py?line=118'>119</a>\u001b[0m     \u001b[39m# ignore the tracking, just draw and close all figures\u001b[39;00m\n\u001b[0;32m    <a href='file:///c%3A/Users/MACHENIKE/AppData/Local/Programs/Python/Python310/lib/site-packages/matplotlib_inline/backend_inline.py?line=119'>120</a>\u001b[0m     \u001b[39mtry\u001b[39;00m:\n\u001b[1;32m--> <a href='file:///c%3A/Users/MACHENIKE/AppData/Local/Programs/Python/Python310/lib/site-packages/matplotlib_inline/backend_inline.py?line=120'>121</a>\u001b[0m         \u001b[39mreturn\u001b[39;00m show(\u001b[39mTrue\u001b[39;49;00m)\n\u001b[0;32m    <a href='file:///c%3A/Users/MACHENIKE/AppData/Local/Programs/Python/Python310/lib/site-packages/matplotlib_inline/backend_inline.py?line=121'>122</a>\u001b[0m     \u001b[39mexcept\u001b[39;00m \u001b[39mException\u001b[39;00m \u001b[39mas\u001b[39;00m e:\n\u001b[0;32m    <a href='file:///c%3A/Users/MACHENIKE/AppData/Local/Programs/Python/Python310/lib/site-packages/matplotlib_inline/backend_inline.py?line=122'>123</a>\u001b[0m         \u001b[39m# safely show traceback if in IPython, else raise\u001b[39;00m\n\u001b[0;32m    <a href='file:///c%3A/Users/MACHENIKE/AppData/Local/Programs/Python/Python310/lib/site-packages/matplotlib_inline/backend_inline.py?line=123'>124</a>\u001b[0m         ip \u001b[39m=\u001b[39m get_ipython()\n",
            "File \u001b[1;32mc:\\Users\\MACHENIKE\\AppData\\Local\\Programs\\Python\\Python310\\lib\\site-packages\\matplotlib_inline\\backend_inline.py:41\u001b[0m, in \u001b[0;36mshow\u001b[1;34m(close, block)\u001b[0m\n\u001b[0;32m     <a href='file:///c%3A/Users/MACHENIKE/AppData/Local/Programs/Python/Python310/lib/site-packages/matplotlib_inline/backend_inline.py?line=38'>39</a>\u001b[0m \u001b[39mtry\u001b[39;00m:\n\u001b[0;32m     <a href='file:///c%3A/Users/MACHENIKE/AppData/Local/Programs/Python/Python310/lib/site-packages/matplotlib_inline/backend_inline.py?line=39'>40</a>\u001b[0m     \u001b[39mfor\u001b[39;00m figure_manager \u001b[39min\u001b[39;00m Gcf\u001b[39m.\u001b[39mget_all_fig_managers():\n\u001b[1;32m---> <a href='file:///c%3A/Users/MACHENIKE/AppData/Local/Programs/Python/Python310/lib/site-packages/matplotlib_inline/backend_inline.py?line=40'>41</a>\u001b[0m         display(\n\u001b[0;32m     <a href='file:///c%3A/Users/MACHENIKE/AppData/Local/Programs/Python/Python310/lib/site-packages/matplotlib_inline/backend_inline.py?line=41'>42</a>\u001b[0m             figure_manager\u001b[39m.\u001b[39;49mcanvas\u001b[39m.\u001b[39;49mfigure,\n\u001b[0;32m     <a href='file:///c%3A/Users/MACHENIKE/AppData/Local/Programs/Python/Python310/lib/site-packages/matplotlib_inline/backend_inline.py?line=42'>43</a>\u001b[0m             metadata\u001b[39m=\u001b[39;49m_fetch_figure_metadata(figure_manager\u001b[39m.\u001b[39;49mcanvas\u001b[39m.\u001b[39;49mfigure)\n\u001b[0;32m     <a href='file:///c%3A/Users/MACHENIKE/AppData/Local/Programs/Python/Python310/lib/site-packages/matplotlib_inline/backend_inline.py?line=43'>44</a>\u001b[0m         )\n\u001b[0;32m     <a href='file:///c%3A/Users/MACHENIKE/AppData/Local/Programs/Python/Python310/lib/site-packages/matplotlib_inline/backend_inline.py?line=44'>45</a>\u001b[0m \u001b[39mfinally\u001b[39;00m:\n\u001b[0;32m     <a href='file:///c%3A/Users/MACHENIKE/AppData/Local/Programs/Python/Python310/lib/site-packages/matplotlib_inline/backend_inline.py?line=45'>46</a>\u001b[0m     show\u001b[39m.\u001b[39m_to_draw \u001b[39m=\u001b[39m []\n",
            "File \u001b[1;32mc:\\Users\\MACHENIKE\\AppData\\Local\\Programs\\Python\\Python310\\lib\\site-packages\\IPython\\core\\display_functions.py:298\u001b[0m, in \u001b[0;36mdisplay\u001b[1;34m(include, exclude, metadata, transient, display_id, raw, clear, *objs, **kwargs)\u001b[0m\n\u001b[0;32m    <a href='file:///c%3A/Users/MACHENIKE/AppData/Local/Programs/Python/Python310/lib/site-packages/IPython/core/display_functions.py?line=295'>296</a>\u001b[0m     publish_display_data(data\u001b[39m=\u001b[39mobj, metadata\u001b[39m=\u001b[39mmetadata, \u001b[39m*\u001b[39m\u001b[39m*\u001b[39mkwargs)\n\u001b[0;32m    <a href='file:///c%3A/Users/MACHENIKE/AppData/Local/Programs/Python/Python310/lib/site-packages/IPython/core/display_functions.py?line=296'>297</a>\u001b[0m \u001b[39melse\u001b[39;00m:\n\u001b[1;32m--> <a href='file:///c%3A/Users/MACHENIKE/AppData/Local/Programs/Python/Python310/lib/site-packages/IPython/core/display_functions.py?line=297'>298</a>\u001b[0m     format_dict, md_dict \u001b[39m=\u001b[39m \u001b[39mformat\u001b[39;49m(obj, include\u001b[39m=\u001b[39;49minclude, exclude\u001b[39m=\u001b[39;49mexclude)\n\u001b[0;32m    <a href='file:///c%3A/Users/MACHENIKE/AppData/Local/Programs/Python/Python310/lib/site-packages/IPython/core/display_functions.py?line=298'>299</a>\u001b[0m     \u001b[39mif\u001b[39;00m \u001b[39mnot\u001b[39;00m format_dict:\n\u001b[0;32m    <a href='file:///c%3A/Users/MACHENIKE/AppData/Local/Programs/Python/Python310/lib/site-packages/IPython/core/display_functions.py?line=299'>300</a>\u001b[0m         \u001b[39m# nothing to display (e.g. _ipython_display_ took over)\u001b[39;00m\n\u001b[0;32m    <a href='file:///c%3A/Users/MACHENIKE/AppData/Local/Programs/Python/Python310/lib/site-packages/IPython/core/display_functions.py?line=300'>301</a>\u001b[0m         \u001b[39mcontinue\u001b[39;00m\n",
            "File \u001b[1;32mc:\\Users\\MACHENIKE\\AppData\\Local\\Programs\\Python\\Python310\\lib\\site-packages\\IPython\\core\\formatters.py:178\u001b[0m, in \u001b[0;36mDisplayFormatter.format\u001b[1;34m(self, obj, include, exclude)\u001b[0m\n\u001b[0;32m    <a href='file:///c%3A/Users/MACHENIKE/AppData/Local/Programs/Python/Python310/lib/site-packages/IPython/core/formatters.py?line=175'>176</a>\u001b[0m md \u001b[39m=\u001b[39m \u001b[39mNone\u001b[39;00m\n\u001b[0;32m    <a href='file:///c%3A/Users/MACHENIKE/AppData/Local/Programs/Python/Python310/lib/site-packages/IPython/core/formatters.py?line=176'>177</a>\u001b[0m \u001b[39mtry\u001b[39;00m:\n\u001b[1;32m--> <a href='file:///c%3A/Users/MACHENIKE/AppData/Local/Programs/Python/Python310/lib/site-packages/IPython/core/formatters.py?line=177'>178</a>\u001b[0m     data \u001b[39m=\u001b[39m formatter(obj)\n\u001b[0;32m    <a href='file:///c%3A/Users/MACHENIKE/AppData/Local/Programs/Python/Python310/lib/site-packages/IPython/core/formatters.py?line=178'>179</a>\u001b[0m \u001b[39mexcept\u001b[39;00m:\n\u001b[0;32m    <a href='file:///c%3A/Users/MACHENIKE/AppData/Local/Programs/Python/Python310/lib/site-packages/IPython/core/formatters.py?line=179'>180</a>\u001b[0m     \u001b[39m# FIXME: log the exception\u001b[39;00m\n\u001b[0;32m    <a href='file:///c%3A/Users/MACHENIKE/AppData/Local/Programs/Python/Python310/lib/site-packages/IPython/core/formatters.py?line=180'>181</a>\u001b[0m     \u001b[39mraise\u001b[39;00m\n",
            "File \u001b[1;32mc:\\Users\\MACHENIKE\\AppData\\Local\\Programs\\Python\\Python310\\lib\\site-packages\\decorator.py:232\u001b[0m, in \u001b[0;36mdecorate.<locals>.fun\u001b[1;34m(*args, **kw)\u001b[0m\n\u001b[0;32m    <a href='file:///c%3A/Users/MACHENIKE/AppData/Local/Programs/Python/Python310/lib/site-packages/decorator.py?line=229'>230</a>\u001b[0m \u001b[39mif\u001b[39;00m \u001b[39mnot\u001b[39;00m kwsyntax:\n\u001b[0;32m    <a href='file:///c%3A/Users/MACHENIKE/AppData/Local/Programs/Python/Python310/lib/site-packages/decorator.py?line=230'>231</a>\u001b[0m     args, kw \u001b[39m=\u001b[39m fix(args, kw, sig)\n\u001b[1;32m--> <a href='file:///c%3A/Users/MACHENIKE/AppData/Local/Programs/Python/Python310/lib/site-packages/decorator.py?line=231'>232</a>\u001b[0m \u001b[39mreturn\u001b[39;00m caller(func, \u001b[39m*\u001b[39m(extras \u001b[39m+\u001b[39m args), \u001b[39m*\u001b[39m\u001b[39m*\u001b[39mkw)\n",
            "File \u001b[1;32mc:\\Users\\MACHENIKE\\AppData\\Local\\Programs\\Python\\Python310\\lib\\site-packages\\IPython\\core\\formatters.py:222\u001b[0m, in \u001b[0;36mcatch_format_error\u001b[1;34m(method, self, *args, **kwargs)\u001b[0m\n\u001b[0;32m    <a href='file:///c%3A/Users/MACHENIKE/AppData/Local/Programs/Python/Python310/lib/site-packages/IPython/core/formatters.py?line=219'>220</a>\u001b[0m \u001b[39m\"\"\"show traceback on failed format call\"\"\"\u001b[39;00m\n\u001b[0;32m    <a href='file:///c%3A/Users/MACHENIKE/AppData/Local/Programs/Python/Python310/lib/site-packages/IPython/core/formatters.py?line=220'>221</a>\u001b[0m \u001b[39mtry\u001b[39;00m:\n\u001b[1;32m--> <a href='file:///c%3A/Users/MACHENIKE/AppData/Local/Programs/Python/Python310/lib/site-packages/IPython/core/formatters.py?line=221'>222</a>\u001b[0m     r \u001b[39m=\u001b[39m method(\u001b[39mself\u001b[39m, \u001b[39m*\u001b[39margs, \u001b[39m*\u001b[39m\u001b[39m*\u001b[39mkwargs)\n\u001b[0;32m    <a href='file:///c%3A/Users/MACHENIKE/AppData/Local/Programs/Python/Python310/lib/site-packages/IPython/core/formatters.py?line=222'>223</a>\u001b[0m \u001b[39mexcept\u001b[39;00m \u001b[39mNotImplementedError\u001b[39;00m:\n\u001b[0;32m    <a href='file:///c%3A/Users/MACHENIKE/AppData/Local/Programs/Python/Python310/lib/site-packages/IPython/core/formatters.py?line=223'>224</a>\u001b[0m     \u001b[39m# don't warn on NotImplementedErrors\u001b[39;00m\n\u001b[0;32m    <a href='file:///c%3A/Users/MACHENIKE/AppData/Local/Programs/Python/Python310/lib/site-packages/IPython/core/formatters.py?line=224'>225</a>\u001b[0m     \u001b[39mreturn\u001b[39;00m \u001b[39mself\u001b[39m\u001b[39m.\u001b[39m_check_return(\u001b[39mNone\u001b[39;00m, args[\u001b[39m0\u001b[39m])\n",
            "File \u001b[1;32mc:\\Users\\MACHENIKE\\AppData\\Local\\Programs\\Python\\Python310\\lib\\site-packages\\IPython\\core\\formatters.py:339\u001b[0m, in \u001b[0;36mBaseFormatter.__call__\u001b[1;34m(self, obj)\u001b[0m\n\u001b[0;32m    <a href='file:///c%3A/Users/MACHENIKE/AppData/Local/Programs/Python/Python310/lib/site-packages/IPython/core/formatters.py?line=336'>337</a>\u001b[0m     \u001b[39mpass\u001b[39;00m\n\u001b[0;32m    <a href='file:///c%3A/Users/MACHENIKE/AppData/Local/Programs/Python/Python310/lib/site-packages/IPython/core/formatters.py?line=337'>338</a>\u001b[0m \u001b[39melse\u001b[39;00m:\n\u001b[1;32m--> <a href='file:///c%3A/Users/MACHENIKE/AppData/Local/Programs/Python/Python310/lib/site-packages/IPython/core/formatters.py?line=338'>339</a>\u001b[0m     \u001b[39mreturn\u001b[39;00m printer(obj)\n\u001b[0;32m    <a href='file:///c%3A/Users/MACHENIKE/AppData/Local/Programs/Python/Python310/lib/site-packages/IPython/core/formatters.py?line=339'>340</a>\u001b[0m \u001b[39m# Finally look for special method names\u001b[39;00m\n\u001b[0;32m    <a href='file:///c%3A/Users/MACHENIKE/AppData/Local/Programs/Python/Python310/lib/site-packages/IPython/core/formatters.py?line=340'>341</a>\u001b[0m method \u001b[39m=\u001b[39m get_real_method(obj, \u001b[39mself\u001b[39m\u001b[39m.\u001b[39mprint_method)\n",
            "File \u001b[1;32mc:\\Users\\MACHENIKE\\AppData\\Local\\Programs\\Python\\Python310\\lib\\site-packages\\IPython\\core\\pylabtools.py:151\u001b[0m, in \u001b[0;36mprint_figure\u001b[1;34m(fig, fmt, bbox_inches, base64, **kwargs)\u001b[0m\n\u001b[0;32m    <a href='file:///c%3A/Users/MACHENIKE/AppData/Local/Programs/Python/Python310/lib/site-packages/IPython/core/pylabtools.py?line=147'>148</a>\u001b[0m     \u001b[39mfrom\u001b[39;00m \u001b[39mmatplotlib\u001b[39;00m\u001b[39m.\u001b[39;00m\u001b[39mbackend_bases\u001b[39;00m \u001b[39mimport\u001b[39;00m FigureCanvasBase\n\u001b[0;32m    <a href='file:///c%3A/Users/MACHENIKE/AppData/Local/Programs/Python/Python310/lib/site-packages/IPython/core/pylabtools.py?line=148'>149</a>\u001b[0m     FigureCanvasBase(fig)\n\u001b[1;32m--> <a href='file:///c%3A/Users/MACHENIKE/AppData/Local/Programs/Python/Python310/lib/site-packages/IPython/core/pylabtools.py?line=150'>151</a>\u001b[0m fig\u001b[39m.\u001b[39mcanvas\u001b[39m.\u001b[39mprint_figure(bytes_io, \u001b[39m*\u001b[39m\u001b[39m*\u001b[39mkw)\n\u001b[0;32m    <a href='file:///c%3A/Users/MACHENIKE/AppData/Local/Programs/Python/Python310/lib/site-packages/IPython/core/pylabtools.py?line=151'>152</a>\u001b[0m data \u001b[39m=\u001b[39m bytes_io\u001b[39m.\u001b[39mgetvalue()\n\u001b[0;32m    <a href='file:///c%3A/Users/MACHENIKE/AppData/Local/Programs/Python/Python310/lib/site-packages/IPython/core/pylabtools.py?line=152'>153</a>\u001b[0m \u001b[39mif\u001b[39;00m fmt \u001b[39m==\u001b[39m \u001b[39m'\u001b[39m\u001b[39msvg\u001b[39m\u001b[39m'\u001b[39m:\n",
            "File \u001b[1;32mc:\\Users\\MACHENIKE\\AppData\\Local\\Programs\\Python\\Python310\\lib\\site-packages\\matplotlib\\backend_bases.py:2319\u001b[0m, in \u001b[0;36mFigureCanvasBase.print_figure\u001b[1;34m(self, filename, dpi, facecolor, edgecolor, orientation, format, bbox_inches, pad_inches, bbox_extra_artists, backend, **kwargs)\u001b[0m\n\u001b[0;32m   <a href='file:///c%3A/Users/MACHENIKE/AppData/Local/Programs/Python/Python310/lib/site-packages/matplotlib/backend_bases.py?line=2314'>2315</a>\u001b[0m \u001b[39mtry\u001b[39;00m:\n\u001b[0;32m   <a href='file:///c%3A/Users/MACHENIKE/AppData/Local/Programs/Python/Python310/lib/site-packages/matplotlib/backend_bases.py?line=2315'>2316</a>\u001b[0m     \u001b[39m# _get_renderer may change the figure dpi (as vector formats\u001b[39;00m\n\u001b[0;32m   <a href='file:///c%3A/Users/MACHENIKE/AppData/Local/Programs/Python/Python310/lib/site-packages/matplotlib/backend_bases.py?line=2316'>2317</a>\u001b[0m     \u001b[39m# force the figure dpi to 72), so we need to set it again here.\u001b[39;00m\n\u001b[0;32m   <a href='file:///c%3A/Users/MACHENIKE/AppData/Local/Programs/Python/Python310/lib/site-packages/matplotlib/backend_bases.py?line=2317'>2318</a>\u001b[0m     \u001b[39mwith\u001b[39;00m cbook\u001b[39m.\u001b[39m_setattr_cm(\u001b[39mself\u001b[39m\u001b[39m.\u001b[39mfigure, dpi\u001b[39m=\u001b[39mdpi):\n\u001b[1;32m-> <a href='file:///c%3A/Users/MACHENIKE/AppData/Local/Programs/Python/Python310/lib/site-packages/matplotlib/backend_bases.py?line=2318'>2319</a>\u001b[0m         result \u001b[39m=\u001b[39m print_method(\n\u001b[0;32m   <a href='file:///c%3A/Users/MACHENIKE/AppData/Local/Programs/Python/Python310/lib/site-packages/matplotlib/backend_bases.py?line=2319'>2320</a>\u001b[0m             filename,\n\u001b[0;32m   <a href='file:///c%3A/Users/MACHENIKE/AppData/Local/Programs/Python/Python310/lib/site-packages/matplotlib/backend_bases.py?line=2320'>2321</a>\u001b[0m             facecolor\u001b[39m=\u001b[39mfacecolor,\n\u001b[0;32m   <a href='file:///c%3A/Users/MACHENIKE/AppData/Local/Programs/Python/Python310/lib/site-packages/matplotlib/backend_bases.py?line=2321'>2322</a>\u001b[0m             edgecolor\u001b[39m=\u001b[39medgecolor,\n\u001b[0;32m   <a href='file:///c%3A/Users/MACHENIKE/AppData/Local/Programs/Python/Python310/lib/site-packages/matplotlib/backend_bases.py?line=2322'>2323</a>\u001b[0m             orientation\u001b[39m=\u001b[39morientation,\n\u001b[0;32m   <a href='file:///c%3A/Users/MACHENIKE/AppData/Local/Programs/Python/Python310/lib/site-packages/matplotlib/backend_bases.py?line=2323'>2324</a>\u001b[0m             bbox_inches_restore\u001b[39m=\u001b[39m_bbox_inches_restore,\n\u001b[0;32m   <a href='file:///c%3A/Users/MACHENIKE/AppData/Local/Programs/Python/Python310/lib/site-packages/matplotlib/backend_bases.py?line=2324'>2325</a>\u001b[0m             \u001b[39m*\u001b[39m\u001b[39m*\u001b[39mkwargs)\n\u001b[0;32m   <a href='file:///c%3A/Users/MACHENIKE/AppData/Local/Programs/Python/Python310/lib/site-packages/matplotlib/backend_bases.py?line=2325'>2326</a>\u001b[0m \u001b[39mfinally\u001b[39;00m:\n\u001b[0;32m   <a href='file:///c%3A/Users/MACHENIKE/AppData/Local/Programs/Python/Python310/lib/site-packages/matplotlib/backend_bases.py?line=2326'>2327</a>\u001b[0m     \u001b[39mif\u001b[39;00m bbox_inches \u001b[39mand\u001b[39;00m restore_bbox:\n",
            "File \u001b[1;32mc:\\Users\\MACHENIKE\\AppData\\Local\\Programs\\Python\\Python310\\lib\\site-packages\\matplotlib\\backend_bases.py:1648\u001b[0m, in \u001b[0;36m_check_savefig_extra_args.<locals>.wrapper\u001b[1;34m(*args, **kwargs)\u001b[0m\n\u001b[0;32m   <a href='file:///c%3A/Users/MACHENIKE/AppData/Local/Programs/Python/Python310/lib/site-packages/matplotlib/backend_bases.py?line=1639'>1640</a>\u001b[0m     _api\u001b[39m.\u001b[39mwarn_deprecated(\n\u001b[0;32m   <a href='file:///c%3A/Users/MACHENIKE/AppData/Local/Programs/Python/Python310/lib/site-packages/matplotlib/backend_bases.py?line=1640'>1641</a>\u001b[0m         \u001b[39m'\u001b[39m\u001b[39m3.3\u001b[39m\u001b[39m'\u001b[39m, name\u001b[39m=\u001b[39mname, removal\u001b[39m=\u001b[39m\u001b[39m'\u001b[39m\u001b[39m3.6\u001b[39m\u001b[39m'\u001b[39m,\n\u001b[0;32m   <a href='file:///c%3A/Users/MACHENIKE/AppData/Local/Programs/Python/Python310/lib/site-packages/matplotlib/backend_bases.py?line=1641'>1642</a>\u001b[0m         message\u001b[39m=\u001b[39m\u001b[39m'\u001b[39m\u001b[39m%(name)s\u001b[39;00m\u001b[39m() got unexpected keyword argument \u001b[39m\u001b[39m\"\u001b[39m\u001b[39m'\u001b[39m\n\u001b[0;32m   <a href='file:///c%3A/Users/MACHENIKE/AppData/Local/Programs/Python/Python310/lib/site-packages/matplotlib/backend_bases.py?line=1642'>1643</a>\u001b[0m                 \u001b[39m+\u001b[39m arg \u001b[39m+\u001b[39m \u001b[39m'\u001b[39m\u001b[39m\"\u001b[39m\u001b[39m which is no longer supported as of \u001b[39m\u001b[39m'\u001b[39m\n\u001b[0;32m   <a href='file:///c%3A/Users/MACHENIKE/AppData/Local/Programs/Python/Python310/lib/site-packages/matplotlib/backend_bases.py?line=1643'>1644</a>\u001b[0m                 \u001b[39m'\u001b[39m\u001b[39m%(since)s\u001b[39;00m\u001b[39m and will become an error \u001b[39m\u001b[39m'\u001b[39m\n\u001b[0;32m   <a href='file:///c%3A/Users/MACHENIKE/AppData/Local/Programs/Python/Python310/lib/site-packages/matplotlib/backend_bases.py?line=1644'>1645</a>\u001b[0m                 \u001b[39m'\u001b[39m\u001b[39m%(removal)s\u001b[39;00m\u001b[39m'\u001b[39m)\n\u001b[0;32m   <a href='file:///c%3A/Users/MACHENIKE/AppData/Local/Programs/Python/Python310/lib/site-packages/matplotlib/backend_bases.py?line=1645'>1646</a>\u001b[0m     kwargs\u001b[39m.\u001b[39mpop(arg)\n\u001b[1;32m-> <a href='file:///c%3A/Users/MACHENIKE/AppData/Local/Programs/Python/Python310/lib/site-packages/matplotlib/backend_bases.py?line=1647'>1648</a>\u001b[0m \u001b[39mreturn\u001b[39;00m func(\u001b[39m*\u001b[39margs, \u001b[39m*\u001b[39m\u001b[39m*\u001b[39mkwargs)\n",
            "File \u001b[1;32mc:\\Users\\MACHENIKE\\AppData\\Local\\Programs\\Python\\Python310\\lib\\site-packages\\matplotlib\\_api\\deprecation.py:415\u001b[0m, in \u001b[0;36mdelete_parameter.<locals>.wrapper\u001b[1;34m(*inner_args, **inner_kwargs)\u001b[0m\n\u001b[0;32m    <a href='file:///c%3A/Users/MACHENIKE/AppData/Local/Programs/Python/Python310/lib/site-packages/matplotlib/_api/deprecation.py?line=404'>405</a>\u001b[0m     deprecation_addendum \u001b[39m=\u001b[39m (\n\u001b[0;32m    <a href='file:///c%3A/Users/MACHENIKE/AppData/Local/Programs/Python/Python310/lib/site-packages/matplotlib/_api/deprecation.py?line=405'>406</a>\u001b[0m         \u001b[39mf\u001b[39m\u001b[39m\"\u001b[39m\u001b[39mIf any parameter follows \u001b[39m\u001b[39m{\u001b[39;00mname\u001b[39m!r}\u001b[39;00m\u001b[39m, they should be passed as \u001b[39m\u001b[39m\"\u001b[39m\n\u001b[0;32m    <a href='file:///c%3A/Users/MACHENIKE/AppData/Local/Programs/Python/Python310/lib/site-packages/matplotlib/_api/deprecation.py?line=406'>407</a>\u001b[0m         \u001b[39mf\u001b[39m\u001b[39m\"\u001b[39m\u001b[39mkeyword, not positionally.\u001b[39m\u001b[39m\"\u001b[39m)\n\u001b[0;32m    <a href='file:///c%3A/Users/MACHENIKE/AppData/Local/Programs/Python/Python310/lib/site-packages/matplotlib/_api/deprecation.py?line=407'>408</a>\u001b[0m     warn_deprecated(\n\u001b[0;32m    <a href='file:///c%3A/Users/MACHENIKE/AppData/Local/Programs/Python/Python310/lib/site-packages/matplotlib/_api/deprecation.py?line=408'>409</a>\u001b[0m         since,\n\u001b[0;32m    <a href='file:///c%3A/Users/MACHENIKE/AppData/Local/Programs/Python/Python310/lib/site-packages/matplotlib/_api/deprecation.py?line=409'>410</a>\u001b[0m         name\u001b[39m=\u001b[39m\u001b[39mrepr\u001b[39m(name),\n\u001b[1;32m   (...)\u001b[0m\n\u001b[0;32m    <a href='file:///c%3A/Users/MACHENIKE/AppData/Local/Programs/Python/Python310/lib/site-packages/matplotlib/_api/deprecation.py?line=412'>413</a>\u001b[0m                  \u001b[39melse\u001b[39;00m deprecation_addendum,\n\u001b[0;32m    <a href='file:///c%3A/Users/MACHENIKE/AppData/Local/Programs/Python/Python310/lib/site-packages/matplotlib/_api/deprecation.py?line=413'>414</a>\u001b[0m         \u001b[39m*\u001b[39m\u001b[39m*\u001b[39mkwargs)\n\u001b[1;32m--> <a href='file:///c%3A/Users/MACHENIKE/AppData/Local/Programs/Python/Python310/lib/site-packages/matplotlib/_api/deprecation.py?line=414'>415</a>\u001b[0m \u001b[39mreturn\u001b[39;00m func(\u001b[39m*\u001b[39minner_args, \u001b[39m*\u001b[39m\u001b[39m*\u001b[39minner_kwargs)\n",
            "File \u001b[1;32mc:\\Users\\MACHENIKE\\AppData\\Local\\Programs\\Python\\Python310\\lib\\site-packages\\matplotlib\\backends\\backend_agg.py:540\u001b[0m, in \u001b[0;36mFigureCanvasAgg.print_png\u001b[1;34m(self, filename_or_obj, metadata, pil_kwargs, *args)\u001b[0m\n\u001b[0;32m    <a href='file:///c%3A/Users/MACHENIKE/AppData/Local/Programs/Python/Python310/lib/site-packages/matplotlib/backends/backend_agg.py?line=489'>490</a>\u001b[0m \u001b[39m@_check_savefig_extra_args\u001b[39m\n\u001b[0;32m    <a href='file:///c%3A/Users/MACHENIKE/AppData/Local/Programs/Python/Python310/lib/site-packages/matplotlib/backends/backend_agg.py?line=490'>491</a>\u001b[0m \u001b[39m@_api\u001b[39m\u001b[39m.\u001b[39mdelete_parameter(\u001b[39m\"\u001b[39m\u001b[39m3.5\u001b[39m\u001b[39m\"\u001b[39m, \u001b[39m\"\u001b[39m\u001b[39margs\u001b[39m\u001b[39m\"\u001b[39m)\n\u001b[0;32m    <a href='file:///c%3A/Users/MACHENIKE/AppData/Local/Programs/Python/Python310/lib/site-packages/matplotlib/backends/backend_agg.py?line=491'>492</a>\u001b[0m \u001b[39mdef\u001b[39;00m \u001b[39mprint_png\u001b[39m(\u001b[39mself\u001b[39m, filename_or_obj, \u001b[39m*\u001b[39margs,\n\u001b[0;32m    <a href='file:///c%3A/Users/MACHENIKE/AppData/Local/Programs/Python/Python310/lib/site-packages/matplotlib/backends/backend_agg.py?line=492'>493</a>\u001b[0m               metadata\u001b[39m=\u001b[39m\u001b[39mNone\u001b[39;00m, pil_kwargs\u001b[39m=\u001b[39m\u001b[39mNone\u001b[39;00m):\n\u001b[0;32m    <a href='file:///c%3A/Users/MACHENIKE/AppData/Local/Programs/Python/Python310/lib/site-packages/matplotlib/backends/backend_agg.py?line=493'>494</a>\u001b[0m     \u001b[39m\"\"\"\u001b[39;00m\n\u001b[0;32m    <a href='file:///c%3A/Users/MACHENIKE/AppData/Local/Programs/Python/Python310/lib/site-packages/matplotlib/backends/backend_agg.py?line=494'>495</a>\u001b[0m \u001b[39m    Write the figure to a PNG file.\u001b[39;00m\n\u001b[0;32m    <a href='file:///c%3A/Users/MACHENIKE/AppData/Local/Programs/Python/Python310/lib/site-packages/matplotlib/backends/backend_agg.py?line=495'>496</a>\u001b[0m \n\u001b[1;32m   (...)\u001b[0m\n\u001b[0;32m    <a href='file:///c%3A/Users/MACHENIKE/AppData/Local/Programs/Python/Python310/lib/site-packages/matplotlib/backends/backend_agg.py?line=537'>538</a>\u001b[0m \u001b[39m        *metadata*, including the default 'Software' key.\u001b[39;00m\n\u001b[0;32m    <a href='file:///c%3A/Users/MACHENIKE/AppData/Local/Programs/Python/Python310/lib/site-packages/matplotlib/backends/backend_agg.py?line=538'>539</a>\u001b[0m \u001b[39m    \"\"\"\u001b[39;00m\n\u001b[1;32m--> <a href='file:///c%3A/Users/MACHENIKE/AppData/Local/Programs/Python/Python310/lib/site-packages/matplotlib/backends/backend_agg.py?line=539'>540</a>\u001b[0m     FigureCanvasAgg\u001b[39m.\u001b[39;49mdraw(\u001b[39mself\u001b[39;49m)\n\u001b[0;32m    <a href='file:///c%3A/Users/MACHENIKE/AppData/Local/Programs/Python/Python310/lib/site-packages/matplotlib/backends/backend_agg.py?line=540'>541</a>\u001b[0m     mpl\u001b[39m.\u001b[39mimage\u001b[39m.\u001b[39mimsave(\n\u001b[0;32m    <a href='file:///c%3A/Users/MACHENIKE/AppData/Local/Programs/Python/Python310/lib/site-packages/matplotlib/backends/backend_agg.py?line=541'>542</a>\u001b[0m         filename_or_obj, \u001b[39mself\u001b[39m\u001b[39m.\u001b[39mbuffer_rgba(), \u001b[39mformat\u001b[39m\u001b[39m=\u001b[39m\u001b[39m\"\u001b[39m\u001b[39mpng\u001b[39m\u001b[39m\"\u001b[39m, origin\u001b[39m=\u001b[39m\u001b[39m\"\u001b[39m\u001b[39mupper\u001b[39m\u001b[39m\"\u001b[39m,\n\u001b[0;32m    <a href='file:///c%3A/Users/MACHENIKE/AppData/Local/Programs/Python/Python310/lib/site-packages/matplotlib/backends/backend_agg.py?line=542'>543</a>\u001b[0m         dpi\u001b[39m=\u001b[39m\u001b[39mself\u001b[39m\u001b[39m.\u001b[39mfigure\u001b[39m.\u001b[39mdpi, metadata\u001b[39m=\u001b[39mmetadata, pil_kwargs\u001b[39m=\u001b[39mpil_kwargs)\n",
            "File \u001b[1;32mc:\\Users\\MACHENIKE\\AppData\\Local\\Programs\\Python\\Python310\\lib\\site-packages\\matplotlib\\backends\\backend_agg.py:436\u001b[0m, in \u001b[0;36mFigureCanvasAgg.draw\u001b[1;34m(self)\u001b[0m\n\u001b[0;32m    <a href='file:///c%3A/Users/MACHENIKE/AppData/Local/Programs/Python/Python310/lib/site-packages/matplotlib/backends/backend_agg.py?line=431'>432</a>\u001b[0m \u001b[39m# Acquire a lock on the shared font cache.\u001b[39;00m\n\u001b[0;32m    <a href='file:///c%3A/Users/MACHENIKE/AppData/Local/Programs/Python/Python310/lib/site-packages/matplotlib/backends/backend_agg.py?line=432'>433</a>\u001b[0m \u001b[39mwith\u001b[39;00m RendererAgg\u001b[39m.\u001b[39mlock, \\\n\u001b[0;32m    <a href='file:///c%3A/Users/MACHENIKE/AppData/Local/Programs/Python/Python310/lib/site-packages/matplotlib/backends/backend_agg.py?line=433'>434</a>\u001b[0m      (\u001b[39mself\u001b[39m\u001b[39m.\u001b[39mtoolbar\u001b[39m.\u001b[39m_wait_cursor_for_draw_cm() \u001b[39mif\u001b[39;00m \u001b[39mself\u001b[39m\u001b[39m.\u001b[39mtoolbar\n\u001b[0;32m    <a href='file:///c%3A/Users/MACHENIKE/AppData/Local/Programs/Python/Python310/lib/site-packages/matplotlib/backends/backend_agg.py?line=434'>435</a>\u001b[0m       \u001b[39melse\u001b[39;00m nullcontext()):\n\u001b[1;32m--> <a href='file:///c%3A/Users/MACHENIKE/AppData/Local/Programs/Python/Python310/lib/site-packages/matplotlib/backends/backend_agg.py?line=435'>436</a>\u001b[0m     \u001b[39mself\u001b[39;49m\u001b[39m.\u001b[39;49mfigure\u001b[39m.\u001b[39;49mdraw(\u001b[39mself\u001b[39;49m\u001b[39m.\u001b[39;49mrenderer)\n\u001b[0;32m    <a href='file:///c%3A/Users/MACHENIKE/AppData/Local/Programs/Python/Python310/lib/site-packages/matplotlib/backends/backend_agg.py?line=436'>437</a>\u001b[0m     \u001b[39m# A GUI class may be need to update a window using this draw, so\u001b[39;00m\n\u001b[0;32m    <a href='file:///c%3A/Users/MACHENIKE/AppData/Local/Programs/Python/Python310/lib/site-packages/matplotlib/backends/backend_agg.py?line=437'>438</a>\u001b[0m     \u001b[39m# don't forget to call the superclass.\u001b[39;00m\n\u001b[0;32m    <a href='file:///c%3A/Users/MACHENIKE/AppData/Local/Programs/Python/Python310/lib/site-packages/matplotlib/backends/backend_agg.py?line=438'>439</a>\u001b[0m     \u001b[39msuper\u001b[39m()\u001b[39m.\u001b[39mdraw()\n",
            "File \u001b[1;32mc:\\Users\\MACHENIKE\\AppData\\Local\\Programs\\Python\\Python310\\lib\\site-packages\\matplotlib\\artist.py:73\u001b[0m, in \u001b[0;36m_finalize_rasterization.<locals>.draw_wrapper\u001b[1;34m(artist, renderer, *args, **kwargs)\u001b[0m\n\u001b[0;32m     <a href='file:///c%3A/Users/MACHENIKE/AppData/Local/Programs/Python/Python310/lib/site-packages/matplotlib/artist.py?line=70'>71</a>\u001b[0m \u001b[39m@wraps\u001b[39m(draw)\n\u001b[0;32m     <a href='file:///c%3A/Users/MACHENIKE/AppData/Local/Programs/Python/Python310/lib/site-packages/matplotlib/artist.py?line=71'>72</a>\u001b[0m \u001b[39mdef\u001b[39;00m \u001b[39mdraw_wrapper\u001b[39m(artist, renderer, \u001b[39m*\u001b[39margs, \u001b[39m*\u001b[39m\u001b[39m*\u001b[39mkwargs):\n\u001b[1;32m---> <a href='file:///c%3A/Users/MACHENIKE/AppData/Local/Programs/Python/Python310/lib/site-packages/matplotlib/artist.py?line=72'>73</a>\u001b[0m     result \u001b[39m=\u001b[39m draw(artist, renderer, \u001b[39m*\u001b[39margs, \u001b[39m*\u001b[39m\u001b[39m*\u001b[39mkwargs)\n\u001b[0;32m     <a href='file:///c%3A/Users/MACHENIKE/AppData/Local/Programs/Python/Python310/lib/site-packages/matplotlib/artist.py?line=73'>74</a>\u001b[0m     \u001b[39mif\u001b[39;00m renderer\u001b[39m.\u001b[39m_rasterizing:\n\u001b[0;32m     <a href='file:///c%3A/Users/MACHENIKE/AppData/Local/Programs/Python/Python310/lib/site-packages/matplotlib/artist.py?line=74'>75</a>\u001b[0m         renderer\u001b[39m.\u001b[39mstop_rasterizing()\n",
            "File \u001b[1;32mc:\\Users\\MACHENIKE\\AppData\\Local\\Programs\\Python\\Python310\\lib\\site-packages\\matplotlib\\artist.py:50\u001b[0m, in \u001b[0;36mallow_rasterization.<locals>.draw_wrapper\u001b[1;34m(artist, renderer)\u001b[0m\n\u001b[0;32m     <a href='file:///c%3A/Users/MACHENIKE/AppData/Local/Programs/Python/Python310/lib/site-packages/matplotlib/artist.py?line=46'>47</a>\u001b[0m     \u001b[39mif\u001b[39;00m artist\u001b[39m.\u001b[39mget_agg_filter() \u001b[39mis\u001b[39;00m \u001b[39mnot\u001b[39;00m \u001b[39mNone\u001b[39;00m:\n\u001b[0;32m     <a href='file:///c%3A/Users/MACHENIKE/AppData/Local/Programs/Python/Python310/lib/site-packages/matplotlib/artist.py?line=47'>48</a>\u001b[0m         renderer\u001b[39m.\u001b[39mstart_filter()\n\u001b[1;32m---> <a href='file:///c%3A/Users/MACHENIKE/AppData/Local/Programs/Python/Python310/lib/site-packages/matplotlib/artist.py?line=49'>50</a>\u001b[0m     \u001b[39mreturn\u001b[39;00m draw(artist, renderer)\n\u001b[0;32m     <a href='file:///c%3A/Users/MACHENIKE/AppData/Local/Programs/Python/Python310/lib/site-packages/matplotlib/artist.py?line=50'>51</a>\u001b[0m \u001b[39mfinally\u001b[39;00m:\n\u001b[0;32m     <a href='file:///c%3A/Users/MACHENIKE/AppData/Local/Programs/Python/Python310/lib/site-packages/matplotlib/artist.py?line=51'>52</a>\u001b[0m     \u001b[39mif\u001b[39;00m artist\u001b[39m.\u001b[39mget_agg_filter() \u001b[39mis\u001b[39;00m \u001b[39mnot\u001b[39;00m \u001b[39mNone\u001b[39;00m:\n",
            "File \u001b[1;32mc:\\Users\\MACHENIKE\\AppData\\Local\\Programs\\Python\\Python310\\lib\\site-packages\\matplotlib\\figure.py:2837\u001b[0m, in \u001b[0;36mFigure.draw\u001b[1;34m(self, renderer)\u001b[0m\n\u001b[0;32m   <a href='file:///c%3A/Users/MACHENIKE/AppData/Local/Programs/Python/Python310/lib/site-packages/matplotlib/figure.py?line=2833'>2834</a>\u001b[0m         \u001b[39m# ValueError can occur when resizing a window.\u001b[39;00m\n\u001b[0;32m   <a href='file:///c%3A/Users/MACHENIKE/AppData/Local/Programs/Python/Python310/lib/site-packages/matplotlib/figure.py?line=2835'>2836</a>\u001b[0m \u001b[39mself\u001b[39m\u001b[39m.\u001b[39mpatch\u001b[39m.\u001b[39mdraw(renderer)\n\u001b[1;32m-> <a href='file:///c%3A/Users/MACHENIKE/AppData/Local/Programs/Python/Python310/lib/site-packages/matplotlib/figure.py?line=2836'>2837</a>\u001b[0m mimage\u001b[39m.\u001b[39;49m_draw_list_compositing_images(\n\u001b[0;32m   <a href='file:///c%3A/Users/MACHENIKE/AppData/Local/Programs/Python/Python310/lib/site-packages/matplotlib/figure.py?line=2837'>2838</a>\u001b[0m     renderer, \u001b[39mself\u001b[39;49m, artists, \u001b[39mself\u001b[39;49m\u001b[39m.\u001b[39;49msuppressComposite)\n\u001b[0;32m   <a href='file:///c%3A/Users/MACHENIKE/AppData/Local/Programs/Python/Python310/lib/site-packages/matplotlib/figure.py?line=2839'>2840</a>\u001b[0m \u001b[39mfor\u001b[39;00m sfig \u001b[39min\u001b[39;00m \u001b[39mself\u001b[39m\u001b[39m.\u001b[39msubfigs:\n\u001b[0;32m   <a href='file:///c%3A/Users/MACHENIKE/AppData/Local/Programs/Python/Python310/lib/site-packages/matplotlib/figure.py?line=2840'>2841</a>\u001b[0m     sfig\u001b[39m.\u001b[39mdraw(renderer)\n",
            "File \u001b[1;32mc:\\Users\\MACHENIKE\\AppData\\Local\\Programs\\Python\\Python310\\lib\\site-packages\\matplotlib\\image.py:132\u001b[0m, in \u001b[0;36m_draw_list_compositing_images\u001b[1;34m(renderer, parent, artists, suppress_composite)\u001b[0m\n\u001b[0;32m    <a href='file:///c%3A/Users/MACHENIKE/AppData/Local/Programs/Python/Python310/lib/site-packages/matplotlib/image.py?line=129'>130</a>\u001b[0m \u001b[39mif\u001b[39;00m not_composite \u001b[39mor\u001b[39;00m \u001b[39mnot\u001b[39;00m has_images:\n\u001b[0;32m    <a href='file:///c%3A/Users/MACHENIKE/AppData/Local/Programs/Python/Python310/lib/site-packages/matplotlib/image.py?line=130'>131</a>\u001b[0m     \u001b[39mfor\u001b[39;00m a \u001b[39min\u001b[39;00m artists:\n\u001b[1;32m--> <a href='file:///c%3A/Users/MACHENIKE/AppData/Local/Programs/Python/Python310/lib/site-packages/matplotlib/image.py?line=131'>132</a>\u001b[0m         a\u001b[39m.\u001b[39;49mdraw(renderer)\n\u001b[0;32m    <a href='file:///c%3A/Users/MACHENIKE/AppData/Local/Programs/Python/Python310/lib/site-packages/matplotlib/image.py?line=132'>133</a>\u001b[0m \u001b[39melse\u001b[39;00m:\n\u001b[0;32m    <a href='file:///c%3A/Users/MACHENIKE/AppData/Local/Programs/Python/Python310/lib/site-packages/matplotlib/image.py?line=133'>134</a>\u001b[0m     \u001b[39m# Composite any adjacent images together\u001b[39;00m\n\u001b[0;32m    <a href='file:///c%3A/Users/MACHENIKE/AppData/Local/Programs/Python/Python310/lib/site-packages/matplotlib/image.py?line=134'>135</a>\u001b[0m     image_group \u001b[39m=\u001b[39m []\n",
            "File \u001b[1;32mc:\\Users\\MACHENIKE\\AppData\\Local\\Programs\\Python\\Python310\\lib\\site-packages\\matplotlib\\artist.py:50\u001b[0m, in \u001b[0;36mallow_rasterization.<locals>.draw_wrapper\u001b[1;34m(artist, renderer)\u001b[0m\n\u001b[0;32m     <a href='file:///c%3A/Users/MACHENIKE/AppData/Local/Programs/Python/Python310/lib/site-packages/matplotlib/artist.py?line=46'>47</a>\u001b[0m     \u001b[39mif\u001b[39;00m artist\u001b[39m.\u001b[39mget_agg_filter() \u001b[39mis\u001b[39;00m \u001b[39mnot\u001b[39;00m \u001b[39mNone\u001b[39;00m:\n\u001b[0;32m     <a href='file:///c%3A/Users/MACHENIKE/AppData/Local/Programs/Python/Python310/lib/site-packages/matplotlib/artist.py?line=47'>48</a>\u001b[0m         renderer\u001b[39m.\u001b[39mstart_filter()\n\u001b[1;32m---> <a href='file:///c%3A/Users/MACHENIKE/AppData/Local/Programs/Python/Python310/lib/site-packages/matplotlib/artist.py?line=49'>50</a>\u001b[0m     \u001b[39mreturn\u001b[39;00m draw(artist, renderer)\n\u001b[0;32m     <a href='file:///c%3A/Users/MACHENIKE/AppData/Local/Programs/Python/Python310/lib/site-packages/matplotlib/artist.py?line=50'>51</a>\u001b[0m \u001b[39mfinally\u001b[39;00m:\n\u001b[0;32m     <a href='file:///c%3A/Users/MACHENIKE/AppData/Local/Programs/Python/Python310/lib/site-packages/matplotlib/artist.py?line=51'>52</a>\u001b[0m     \u001b[39mif\u001b[39;00m artist\u001b[39m.\u001b[39mget_agg_filter() \u001b[39mis\u001b[39;00m \u001b[39mnot\u001b[39;00m \u001b[39mNone\u001b[39;00m:\n",
            "File \u001b[1;32mc:\\Users\\MACHENIKE\\AppData\\Local\\Programs\\Python\\Python310\\lib\\site-packages\\matplotlib\\axes\\_base.py:3091\u001b[0m, in \u001b[0;36m_AxesBase.draw\u001b[1;34m(self, renderer)\u001b[0m\n\u001b[0;32m   <a href='file:///c%3A/Users/MACHENIKE/AppData/Local/Programs/Python/Python310/lib/site-packages/matplotlib/axes/_base.py?line=3087'>3088</a>\u001b[0m         a\u001b[39m.\u001b[39mdraw(renderer)\n\u001b[0;32m   <a href='file:///c%3A/Users/MACHENIKE/AppData/Local/Programs/Python/Python310/lib/site-packages/matplotlib/axes/_base.py?line=3088'>3089</a>\u001b[0m     renderer\u001b[39m.\u001b[39mstop_rasterizing()\n\u001b[1;32m-> <a href='file:///c%3A/Users/MACHENIKE/AppData/Local/Programs/Python/Python310/lib/site-packages/matplotlib/axes/_base.py?line=3090'>3091</a>\u001b[0m mimage\u001b[39m.\u001b[39;49m_draw_list_compositing_images(\n\u001b[0;32m   <a href='file:///c%3A/Users/MACHENIKE/AppData/Local/Programs/Python/Python310/lib/site-packages/matplotlib/axes/_base.py?line=3091'>3092</a>\u001b[0m     renderer, \u001b[39mself\u001b[39;49m, artists, \u001b[39mself\u001b[39;49m\u001b[39m.\u001b[39;49mfigure\u001b[39m.\u001b[39;49msuppressComposite)\n\u001b[0;32m   <a href='file:///c%3A/Users/MACHENIKE/AppData/Local/Programs/Python/Python310/lib/site-packages/matplotlib/axes/_base.py?line=3093'>3094</a>\u001b[0m renderer\u001b[39m.\u001b[39mclose_group(\u001b[39m'\u001b[39m\u001b[39maxes\u001b[39m\u001b[39m'\u001b[39m)\n\u001b[0;32m   <a href='file:///c%3A/Users/MACHENIKE/AppData/Local/Programs/Python/Python310/lib/site-packages/matplotlib/axes/_base.py?line=3094'>3095</a>\u001b[0m \u001b[39mself\u001b[39m\u001b[39m.\u001b[39mstale \u001b[39m=\u001b[39m \u001b[39mFalse\u001b[39;00m\n",
            "File \u001b[1;32mc:\\Users\\MACHENIKE\\AppData\\Local\\Programs\\Python\\Python310\\lib\\site-packages\\matplotlib\\image.py:132\u001b[0m, in \u001b[0;36m_draw_list_compositing_images\u001b[1;34m(renderer, parent, artists, suppress_composite)\u001b[0m\n\u001b[0;32m    <a href='file:///c%3A/Users/MACHENIKE/AppData/Local/Programs/Python/Python310/lib/site-packages/matplotlib/image.py?line=129'>130</a>\u001b[0m \u001b[39mif\u001b[39;00m not_composite \u001b[39mor\u001b[39;00m \u001b[39mnot\u001b[39;00m has_images:\n\u001b[0;32m    <a href='file:///c%3A/Users/MACHENIKE/AppData/Local/Programs/Python/Python310/lib/site-packages/matplotlib/image.py?line=130'>131</a>\u001b[0m     \u001b[39mfor\u001b[39;00m a \u001b[39min\u001b[39;00m artists:\n\u001b[1;32m--> <a href='file:///c%3A/Users/MACHENIKE/AppData/Local/Programs/Python/Python310/lib/site-packages/matplotlib/image.py?line=131'>132</a>\u001b[0m         a\u001b[39m.\u001b[39;49mdraw(renderer)\n\u001b[0;32m    <a href='file:///c%3A/Users/MACHENIKE/AppData/Local/Programs/Python/Python310/lib/site-packages/matplotlib/image.py?line=132'>133</a>\u001b[0m \u001b[39melse\u001b[39;00m:\n\u001b[0;32m    <a href='file:///c%3A/Users/MACHENIKE/AppData/Local/Programs/Python/Python310/lib/site-packages/matplotlib/image.py?line=133'>134</a>\u001b[0m     \u001b[39m# Composite any adjacent images together\u001b[39;00m\n\u001b[0;32m    <a href='file:///c%3A/Users/MACHENIKE/AppData/Local/Programs/Python/Python310/lib/site-packages/matplotlib/image.py?line=134'>135</a>\u001b[0m     image_group \u001b[39m=\u001b[39m []\n",
            "File \u001b[1;32mc:\\Users\\MACHENIKE\\AppData\\Local\\Programs\\Python\\Python310\\lib\\site-packages\\matplotlib\\artist.py:50\u001b[0m, in \u001b[0;36mallow_rasterization.<locals>.draw_wrapper\u001b[1;34m(artist, renderer)\u001b[0m\n\u001b[0;32m     <a href='file:///c%3A/Users/MACHENIKE/AppData/Local/Programs/Python/Python310/lib/site-packages/matplotlib/artist.py?line=46'>47</a>\u001b[0m     \u001b[39mif\u001b[39;00m artist\u001b[39m.\u001b[39mget_agg_filter() \u001b[39mis\u001b[39;00m \u001b[39mnot\u001b[39;00m \u001b[39mNone\u001b[39;00m:\n\u001b[0;32m     <a href='file:///c%3A/Users/MACHENIKE/AppData/Local/Programs/Python/Python310/lib/site-packages/matplotlib/artist.py?line=47'>48</a>\u001b[0m         renderer\u001b[39m.\u001b[39mstart_filter()\n\u001b[1;32m---> <a href='file:///c%3A/Users/MACHENIKE/AppData/Local/Programs/Python/Python310/lib/site-packages/matplotlib/artist.py?line=49'>50</a>\u001b[0m     \u001b[39mreturn\u001b[39;00m draw(artist, renderer)\n\u001b[0;32m     <a href='file:///c%3A/Users/MACHENIKE/AppData/Local/Programs/Python/Python310/lib/site-packages/matplotlib/artist.py?line=50'>51</a>\u001b[0m \u001b[39mfinally\u001b[39;00m:\n\u001b[0;32m     <a href='file:///c%3A/Users/MACHENIKE/AppData/Local/Programs/Python/Python310/lib/site-packages/matplotlib/artist.py?line=51'>52</a>\u001b[0m     \u001b[39mif\u001b[39;00m artist\u001b[39m.\u001b[39mget_agg_filter() \u001b[39mis\u001b[39;00m \u001b[39mnot\u001b[39;00m \u001b[39mNone\u001b[39;00m:\n",
            "File \u001b[1;32mc:\\Users\\MACHENIKE\\AppData\\Local\\Programs\\Python\\Python310\\lib\\site-packages\\matplotlib\\collections.py:990\u001b[0m, in \u001b[0;36m_CollectionWithSizes.draw\u001b[1;34m(self, renderer)\u001b[0m\n\u001b[0;32m    <a href='file:///c%3A/Users/MACHENIKE/AppData/Local/Programs/Python/Python310/lib/site-packages/matplotlib/collections.py?line=986'>987</a>\u001b[0m \u001b[39m@artist\u001b[39m\u001b[39m.\u001b[39mallow_rasterization\n\u001b[0;32m    <a href='file:///c%3A/Users/MACHENIKE/AppData/Local/Programs/Python/Python310/lib/site-packages/matplotlib/collections.py?line=987'>988</a>\u001b[0m \u001b[39mdef\u001b[39;00m \u001b[39mdraw\u001b[39m(\u001b[39mself\u001b[39m, renderer):\n\u001b[0;32m    <a href='file:///c%3A/Users/MACHENIKE/AppData/Local/Programs/Python/Python310/lib/site-packages/matplotlib/collections.py?line=988'>989</a>\u001b[0m     \u001b[39mself\u001b[39m\u001b[39m.\u001b[39mset_sizes(\u001b[39mself\u001b[39m\u001b[39m.\u001b[39m_sizes, \u001b[39mself\u001b[39m\u001b[39m.\u001b[39mfigure\u001b[39m.\u001b[39mdpi)\n\u001b[1;32m--> <a href='file:///c%3A/Users/MACHENIKE/AppData/Local/Programs/Python/Python310/lib/site-packages/matplotlib/collections.py?line=989'>990</a>\u001b[0m     \u001b[39msuper\u001b[39;49m()\u001b[39m.\u001b[39;49mdraw(renderer)\n",
            "File \u001b[1;32mc:\\Users\\MACHENIKE\\AppData\\Local\\Programs\\Python\\Python310\\lib\\site-packages\\matplotlib\\artist.py:50\u001b[0m, in \u001b[0;36mallow_rasterization.<locals>.draw_wrapper\u001b[1;34m(artist, renderer)\u001b[0m\n\u001b[0;32m     <a href='file:///c%3A/Users/MACHENIKE/AppData/Local/Programs/Python/Python310/lib/site-packages/matplotlib/artist.py?line=46'>47</a>\u001b[0m     \u001b[39mif\u001b[39;00m artist\u001b[39m.\u001b[39mget_agg_filter() \u001b[39mis\u001b[39;00m \u001b[39mnot\u001b[39;00m \u001b[39mNone\u001b[39;00m:\n\u001b[0;32m     <a href='file:///c%3A/Users/MACHENIKE/AppData/Local/Programs/Python/Python310/lib/site-packages/matplotlib/artist.py?line=47'>48</a>\u001b[0m         renderer\u001b[39m.\u001b[39mstart_filter()\n\u001b[1;32m---> <a href='file:///c%3A/Users/MACHENIKE/AppData/Local/Programs/Python/Python310/lib/site-packages/matplotlib/artist.py?line=49'>50</a>\u001b[0m     \u001b[39mreturn\u001b[39;00m draw(artist, renderer)\n\u001b[0;32m     <a href='file:///c%3A/Users/MACHENIKE/AppData/Local/Programs/Python/Python310/lib/site-packages/matplotlib/artist.py?line=50'>51</a>\u001b[0m \u001b[39mfinally\u001b[39;00m:\n\u001b[0;32m     <a href='file:///c%3A/Users/MACHENIKE/AppData/Local/Programs/Python/Python310/lib/site-packages/matplotlib/artist.py?line=51'>52</a>\u001b[0m     \u001b[39mif\u001b[39;00m artist\u001b[39m.\u001b[39mget_agg_filter() \u001b[39mis\u001b[39;00m \u001b[39mnot\u001b[39;00m \u001b[39mNone\u001b[39;00m:\n",
            "File \u001b[1;32mc:\\Users\\MACHENIKE\\AppData\\Local\\Programs\\Python\\Python310\\lib\\site-packages\\matplotlib\\collections.py:424\u001b[0m, in \u001b[0;36mCollection.draw\u001b[1;34m(self, renderer)\u001b[0m\n\u001b[0;32m    <a href='file:///c%3A/Users/MACHENIKE/AppData/Local/Programs/Python/Python310/lib/site-packages/matplotlib/collections.py?line=419'>420</a>\u001b[0m     renderer\u001b[39m.\u001b[39mdraw_markers(\n\u001b[0;32m    <a href='file:///c%3A/Users/MACHENIKE/AppData/Local/Programs/Python/Python310/lib/site-packages/matplotlib/collections.py?line=420'>421</a>\u001b[0m         gc, paths[\u001b[39m0\u001b[39m], combined_transform\u001b[39m.\u001b[39mfrozen(),\n\u001b[0;32m    <a href='file:///c%3A/Users/MACHENIKE/AppData/Local/Programs/Python/Python310/lib/site-packages/matplotlib/collections.py?line=421'>422</a>\u001b[0m         mpath\u001b[39m.\u001b[39mPath(offsets), transOffset, \u001b[39mtuple\u001b[39m(facecolors[\u001b[39m0\u001b[39m]))\n\u001b[0;32m    <a href='file:///c%3A/Users/MACHENIKE/AppData/Local/Programs/Python/Python310/lib/site-packages/matplotlib/collections.py?line=422'>423</a>\u001b[0m \u001b[39melse\u001b[39;00m:\n\u001b[1;32m--> <a href='file:///c%3A/Users/MACHENIKE/AppData/Local/Programs/Python/Python310/lib/site-packages/matplotlib/collections.py?line=423'>424</a>\u001b[0m     renderer\u001b[39m.\u001b[39;49mdraw_path_collection(\n\u001b[0;32m    <a href='file:///c%3A/Users/MACHENIKE/AppData/Local/Programs/Python/Python310/lib/site-packages/matplotlib/collections.py?line=424'>425</a>\u001b[0m         gc, transform\u001b[39m.\u001b[39;49mfrozen(), paths,\n\u001b[0;32m    <a href='file:///c%3A/Users/MACHENIKE/AppData/Local/Programs/Python/Python310/lib/site-packages/matplotlib/collections.py?line=425'>426</a>\u001b[0m         \u001b[39mself\u001b[39;49m\u001b[39m.\u001b[39;49mget_transforms(), offsets, transOffset,\n\u001b[0;32m    <a href='file:///c%3A/Users/MACHENIKE/AppData/Local/Programs/Python/Python310/lib/site-packages/matplotlib/collections.py?line=426'>427</a>\u001b[0m         \u001b[39mself\u001b[39;49m\u001b[39m.\u001b[39;49mget_facecolor(), \u001b[39mself\u001b[39;49m\u001b[39m.\u001b[39;49mget_edgecolor(),\n\u001b[0;32m    <a href='file:///c%3A/Users/MACHENIKE/AppData/Local/Programs/Python/Python310/lib/site-packages/matplotlib/collections.py?line=427'>428</a>\u001b[0m         \u001b[39mself\u001b[39;49m\u001b[39m.\u001b[39;49m_linewidths, \u001b[39mself\u001b[39;49m\u001b[39m.\u001b[39;49m_linestyles,\n\u001b[0;32m    <a href='file:///c%3A/Users/MACHENIKE/AppData/Local/Programs/Python/Python310/lib/site-packages/matplotlib/collections.py?line=428'>429</a>\u001b[0m         \u001b[39mself\u001b[39;49m\u001b[39m.\u001b[39;49m_antialiaseds, \u001b[39mself\u001b[39;49m\u001b[39m.\u001b[39;49m_urls,\n\u001b[0;32m    <a href='file:///c%3A/Users/MACHENIKE/AppData/Local/Programs/Python/Python310/lib/site-packages/matplotlib/collections.py?line=429'>430</a>\u001b[0m         \u001b[39mself\u001b[39;49m\u001b[39m.\u001b[39;49m_offset_position)\n\u001b[0;32m    <a href='file:///c%3A/Users/MACHENIKE/AppData/Local/Programs/Python/Python310/lib/site-packages/matplotlib/collections.py?line=431'>432</a>\u001b[0m gc\u001b[39m.\u001b[39mrestore()\n\u001b[0;32m    <a href='file:///c%3A/Users/MACHENIKE/AppData/Local/Programs/Python/Python310/lib/site-packages/matplotlib/collections.py?line=432'>433</a>\u001b[0m renderer\u001b[39m.\u001b[39mclose_group(\u001b[39mself\u001b[39m\u001b[39m.\u001b[39m\u001b[39m__class__\u001b[39m\u001b[39m.\u001b[39m\u001b[39m__name__\u001b[39m)\n",
            "File \u001b[1;32mc:\\Users\\MACHENIKE\\AppData\\Local\\Programs\\Python\\Python310\\lib\\site-packages\\matplotlib\\path.py:214\u001b[0m, in \u001b[0;36mPath.codes\u001b[1;34m(self)\u001b[0m\n\u001b[0;32m    <a href='file:///c%3A/Users/MACHENIKE/AppData/Local/Programs/Python/Python310/lib/site-packages/matplotlib/path.py?line=210'>211</a>\u001b[0m     \u001b[39mself\u001b[39m\u001b[39m.\u001b[39m_vertices \u001b[39m=\u001b[39m vertices\n\u001b[0;32m    <a href='file:///c%3A/Users/MACHENIKE/AppData/Local/Programs/Python/Python310/lib/site-packages/matplotlib/path.py?line=211'>212</a>\u001b[0m     \u001b[39mself\u001b[39m\u001b[39m.\u001b[39m_update_values()\n\u001b[1;32m--> <a href='file:///c%3A/Users/MACHENIKE/AppData/Local/Programs/Python/Python310/lib/site-packages/matplotlib/path.py?line=213'>214</a>\u001b[0m \u001b[39m@property\u001b[39m\n\u001b[0;32m    <a href='file:///c%3A/Users/MACHENIKE/AppData/Local/Programs/Python/Python310/lib/site-packages/matplotlib/path.py?line=214'>215</a>\u001b[0m \u001b[39mdef\u001b[39;00m \u001b[39mcodes\u001b[39m(\u001b[39mself\u001b[39m):\n\u001b[0;32m    <a href='file:///c%3A/Users/MACHENIKE/AppData/Local/Programs/Python/Python310/lib/site-packages/matplotlib/path.py?line=215'>216</a>\u001b[0m     \u001b[39m\"\"\"\u001b[39;00m\n\u001b[0;32m    <a href='file:///c%3A/Users/MACHENIKE/AppData/Local/Programs/Python/Python310/lib/site-packages/matplotlib/path.py?line=216'>217</a>\u001b[0m \u001b[39m    The list of codes in the `Path` as a 1D numpy array.  Each\u001b[39;00m\n\u001b[0;32m    <a href='file:///c%3A/Users/MACHENIKE/AppData/Local/Programs/Python/Python310/lib/site-packages/matplotlib/path.py?line=217'>218</a>\u001b[0m \u001b[39m    code is one of `STOP`, `MOVETO`, `LINETO`, `CURVE3`, `CURVE4`\u001b[39;00m\n\u001b[1;32m   (...)\u001b[0m\n\u001b[0;32m    <a href='file:///c%3A/Users/MACHENIKE/AppData/Local/Programs/Python/Python310/lib/site-packages/matplotlib/path.py?line=221'>222</a>\u001b[0m \u001b[39m    the same.\u001b[39;00m\n\u001b[0;32m    <a href='file:///c%3A/Users/MACHENIKE/AppData/Local/Programs/Python/Python310/lib/site-packages/matplotlib/path.py?line=222'>223</a>\u001b[0m \u001b[39m    \"\"\"\u001b[39;00m\n\u001b[0;32m    <a href='file:///c%3A/Users/MACHENIKE/AppData/Local/Programs/Python/Python310/lib/site-packages/matplotlib/path.py?line=223'>224</a>\u001b[0m     \u001b[39mreturn\u001b[39;00m \u001b[39mself\u001b[39m\u001b[39m.\u001b[39m_codes\n",
            "\u001b[1;31mKeyboardInterrupt\u001b[0m: "
          ]
        }
      ],
      "source": [
        "plt.figure(figsize=(5.5, 5.5))\n",
        "\n",
        "sns.scatterplot(x='MW', y='LogP', data=df_2class, hue='class', size='pIC50', edgecolor='black', alpha=0.7)\n",
        "\n",
        "plt.xlabel('MW', fontsize=14, fontweight='bold')\n",
        "plt.ylabel('LogP', fontsize=14, fontweight='bold')\n",
        "plt.legend(bbox_to_anchor=(1.05, 1), loc=2, borderaxespad=0)\n",
        "plt.savefig('plot_MW_vs_LogP.pdf')"
      ]
    },
    {
      "cell_type": "markdown",
      "metadata": {
        "id": "oLAfyRwHyJfX"
      },
      "source": [
        "### **Box plots**"
      ]
    },
    {
      "cell_type": "markdown",
      "metadata": {
        "id": "1n1uIAivyOkY"
      },
      "source": [
        "#### **pIC50 value**"
      ]
    },
    {
      "cell_type": "code",
      "execution_count": 43,
      "metadata": {
        "id": "EpPviw0hxue6"
      },
      "outputs": [
        {
          "data": {
            "image/png": "[encoded data removed]",
            "text/plain": [
              "<Figure size 396x396 with 1 Axes>"
            ]
          },
          "metadata": {
            "needs_background": "light"
          },
          "output_type": "display_data"
        }
      ],
      "source": [
        "plt.figure(figsize=(5.5, 5.5))\n",
        "\n",
        "sns.boxplot(x = 'class', y = 'pIC50', data = df_2class)\n",
        "\n",
        "plt.xlabel('Bioactivity class', fontsize=14, fontweight='bold')\n",
        "plt.ylabel('pIC50 value', fontsize=14, fontweight='bold')\n",
        "\n",
        "plt.savefig('plot_ic50.pdf')"
      ]
    },
    {
      "cell_type": "markdown",
      "metadata": {
        "id": "PsOqKyysCZCv"
      },
      "source": [
        "**Statistical analysis | Mann-Whitney U Test**"
      ]
    },
    {
      "cell_type": "code",
      "execution_count": 44,
      "metadata": {
        "id": "LPdV1vDnWBsh"
      },
      "outputs": [],
      "source": [
        "def mannwhitney(descriptor, verbose=False):\n",
        "  # https://machinelearningmastery.com/nonparametric-statistical-significance-tests-in-python/\n",
        "  from numpy.random import seed\n",
        "  from numpy.random import randn\n",
        "  from scipy.stats import mannwhitneyu\n",
        "\n",
        "# seed the random number generator\n",
        "  seed(1)\n",
        "\n",
        "# actives and inactives\n",
        "  selection = [descriptor, 'class']\n",
        "  df = df_2class[selection]\n",
        "  active = df[df['class'] == 'active']\n",
        "  active = active[descriptor]\n",
        "\n",
        "  selection = [descriptor, 'class']\n",
        "  df = df_2class[selection]\n",
        "  inactive = df[df['class'] == 'inactive']\n",
        "  inactive = inactive[descriptor]\n",
        "\n",
        "# compare samples\n",
        "  stat, p = mannwhitneyu(active, inactive)\n",
        "  #print('Statistics=%.3f, p=%.3f' % (stat, p))\n",
        "\n",
        "# interpret\n",
        "  alpha = 0.05\n",
        "  if p > alpha:\n",
        "    interpretation = 'Same distribution (fail to reject H0)'\n",
        "  else:\n",
        "    interpretation = 'Different distribution (reject H0)'\n",
        "  \n",
        "  results = pd.DataFrame({'Descriptor':descriptor,\n",
        "                          'Statistics':stat,\n",
        "                          'p':p,\n",
        "                          'alpha':alpha,\n",
        "                          'Interpretation':interpretation}, index=[0])\n",
        "  filename = 'mannwhitneyu_' + descriptor + '.csv'\n",
        "  results.to_csv(filename)\n",
        "\n",
        "  return results"
      ]
    },
    {
      "cell_type": "code",
      "execution_count": 45,
      "metadata": {
        "id": "HZmUgOmdYVm5"
      },
      "outputs": [
        {
          "data": {
            "text/html": [
              "<div>\n",
              "<style scoped>\n",
              "    .dataframe tbody tr th:only-of-type {\n",
              "        vertical-align: middle;\n",
              "    }\n",
              "\n",
              "    .dataframe tbody tr th {\n",
              "        vertical-align: top;\n",
              "    }\n",
              "\n",
              "    .dataframe thead th {\n",
              "        text-align: right;\n",
              "    }\n",
              "</style>\n",
              "<table border=\"1\" class=\"dataframe\">\n",
              "  <thead>\n",
              "    <tr style=\"text-align: right;\">\n",
              "      <th></th>\n",
              "      <th>Descriptor</th>\n",
              "      <th>Statistics</th>\n",
              "      <th>p</th>\n",
              "      <th>alpha</th>\n",
              "      <th>Interpretation</th>\n",
              "    </tr>\n",
              "  </thead>\n",
              "  <tbody>\n",
              "    <tr>\n",
              "      <th>0</th>\n",
              "      <td>pIC50</td>\n",
              "      <td>480654.0</td>\n",
              "      <td>1.714994e-214</td>\n",
              "      <td>0.05</td>\n",
              "      <td>Different distribution (reject H0)</td>\n",
              "    </tr>\n",
              "  </tbody>\n",
              "</table>\n",
              "</div>"
            ],
            "text/plain": [
              "  Descriptor  Statistics              p  alpha  \\\n",
              "0      pIC50    480654.0  1.714994e-214   0.05   \n",
              "\n",
              "                       Interpretation  \n",
              "0  Different distribution (reject H0)  "
            ]
          },
          "execution_count": 45,
          "metadata": {},
          "output_type": "execute_result"
        }
      ],
      "source": [
        "mannwhitney('pIC50')"
      ]
    },
    {
      "cell_type": "markdown",
      "metadata": {
        "id": "o2UlCwPmyTBq"
      },
      "source": [
        "#### **MW**"
      ]
    },
    {
      "cell_type": "code",
      "execution_count": 46,
      "metadata": {
        "id": "ZNlEEsDEx3m6"
      },
      "outputs": [
        {
          "data": {
            "image/png": "[encoded data removed]",
            "text/plain": [
              "<Figure size 396x396 with 1 Axes>"
            ]
          },
          "metadata": {
            "needs_background": "light"
          },
          "output_type": "display_data"
        }
      ],
      "source": [
        "plt.figure(figsize=(5.5, 5.5))\n",
        "\n",
        "sns.boxplot(x = 'class', y = 'MW', data = df_2class)\n",
        "\n",
        "plt.xlabel('Bioactivity class', fontsize=14, fontweight='bold')\n",
        "plt.ylabel('MW', fontsize=14, fontweight='bold')\n",
        "\n",
        "plt.savefig('plot_MW.pdf')"
      ]
    },
    {
      "cell_type": "code",
      "execution_count": 47,
      "metadata": {
        "id": "wRl2FvgHYqaG"
      },
      "outputs": [
        {
          "data": {
            "text/html": [
              "<div>\n",
              "<style scoped>\n",
              "    .dataframe tbody tr th:only-of-type {\n",
              "        vertical-align: middle;\n",
              "    }\n",
              "\n",
              "    .dataframe tbody tr th {\n",
              "        vertical-align: top;\n",
              "    }\n",
              "\n",
              "    .dataframe thead th {\n",
              "        text-align: right;\n",
              "    }\n",
              "</style>\n",
              "<table border=\"1\" class=\"dataframe\">\n",
              "  <thead>\n",
              "    <tr style=\"text-align: right;\">\n",
              "      <th></th>\n",
              "      <th>Descriptor</th>\n",
              "      <th>Statistics</th>\n",
              "      <th>p</th>\n",
              "      <th>alpha</th>\n",
              "      <th>Interpretation</th>\n",
              "    </tr>\n",
              "  </thead>\n",
              "  <tbody>\n",
              "    <tr>\n",
              "      <th>0</th>\n",
              "      <td>MW</td>\n",
              "      <td>271787.0</td>\n",
              "      <td>0.000043</td>\n",
              "      <td>0.05</td>\n",
              "      <td>Different distribution (reject H0)</td>\n",
              "    </tr>\n",
              "  </tbody>\n",
              "</table>\n",
              "</div>"
            ],
            "text/plain": [
              "  Descriptor  Statistics         p  alpha                      Interpretation\n",
              "0         MW    271787.0  0.000043   0.05  Different distribution (reject H0)"
            ]
          },
          "execution_count": 47,
          "metadata": {},
          "output_type": "execute_result"
        }
      ],
      "source": [
        "mannwhitney('MW')"
      ]
    },
    {
      "cell_type": "markdown",
      "metadata": {
        "id": "z5hyBhGqyc6J"
      },
      "source": [
        "#### **LogP**"
      ]
    },
    {
      "cell_type": "code",
      "execution_count": 48,
      "metadata": {
        "id": "liEtkpI4yX9t"
      },
      "outputs": [
        {
          "data": {
            "image/png": "[encoded data removed]",
            "text/plain": [
              "<Figure size 396x396 with 1 Axes>"
            ]
          },
          "metadata": {
            "needs_background": "light"
          },
          "output_type": "display_data"
        }
      ],
      "source": [
        "plt.figure(figsize=(5.5, 5.5))\n",
        "\n",
        "sns.boxplot(x = 'class', y = 'LogP', data = df_2class)\n",
        "\n",
        "plt.xlabel('Bioactivity class', fontsize=14, fontweight='bold')\n",
        "plt.ylabel('LogP', fontsize=14, fontweight='bold')\n",
        "\n",
        "plt.savefig('plot_LogP.pdf')"
      ]
    },
    {
      "cell_type": "markdown",
      "metadata": {
        "id": "2KgV5v_oFLXh"
      },
      "source": [
        "**Statistical analysis | Mann-Whitney U Test**"
      ]
    },
    {
      "cell_type": "code",
      "execution_count": 49,
      "metadata": {
        "id": "B61UsGMIFLuE"
      },
      "outputs": [
        {
          "data": {
            "text/html": [
              "<div>\n",
              "<style scoped>\n",
              "    .dataframe tbody tr th:only-of-type {\n",
              "        vertical-align: middle;\n",
              "    }\n",
              "\n",
              "    .dataframe tbody tr th {\n",
              "        vertical-align: top;\n",
              "    }\n",
              "\n",
              "    .dataframe thead th {\n",
              "        text-align: right;\n",
              "    }\n",
              "</style>\n",
              "<table border=\"1\" class=\"dataframe\">\n",
              "  <thead>\n",
              "    <tr style=\"text-align: right;\">\n",
              "      <th></th>\n",
              "      <th>Descriptor</th>\n",
              "      <th>Statistics</th>\n",
              "      <th>p</th>\n",
              "      <th>alpha</th>\n",
              "      <th>Interpretation</th>\n",
              "    </tr>\n",
              "  </thead>\n",
              "  <tbody>\n",
              "    <tr>\n",
              "      <th>0</th>\n",
              "      <td>LogP</td>\n",
              "      <td>241130.5</td>\n",
              "      <td>0.916824</td>\n",
              "      <td>0.05</td>\n",
              "      <td>Same distribution (fail to reject H0)</td>\n",
              "    </tr>\n",
              "  </tbody>\n",
              "</table>\n",
              "</div>"
            ],
            "text/plain": [
              "  Descriptor  Statistics         p  alpha  \\\n",
              "0       LogP    241130.5  0.916824   0.05   \n",
              "\n",
              "                          Interpretation  \n",
              "0  Same distribution (fail to reject H0)  "
            ]
          },
          "execution_count": 49,
          "metadata": {},
          "output_type": "execute_result"
        }
      ],
      "source": [
        "mannwhitney('LogP')"
      ]
    },
    {
      "cell_type": "markdown",
      "metadata": {
        "id": "4db7LZLRym2k"
      },
      "source": [
        "#### **NumHDonors**"
      ]
    },
    {
      "cell_type": "code",
      "execution_count": 50,
      "metadata": {
        "id": "iru1JPM1yg5A"
      },
      "outputs": [
        {
          "data": {
            "image/png": "[encoded data removed]",
            "text/plain": [
              "<Figure size 396x396 with 1 Axes>"
            ]
          },
          "metadata": {
            "needs_background": "light"
          },
          "output_type": "display_data"
        }
      ],
      "source": [
        "plt.figure(figsize=(5.5, 5.5))\n",
        "\n",
        "sns.boxplot(x = 'class', y = 'NumHDonors', data = df_2class)\n",
        "\n",
        "plt.xlabel('Bioactivity class', fontsize=14, fontweight='bold')\n",
        "plt.ylabel('NumHDonors', fontsize=14, fontweight='bold')\n",
        "\n",
        "plt.savefig('plot_NumHDonors.pdf')"
      ]
    },
    {
      "cell_type": "markdown",
      "metadata": {
        "id": "vM5vZWanFe3c"
      },
      "source": [
        "**Statistical analysis | Mann-Whitney U Test**"
      ]
    },
    {
      "cell_type": "code",
      "execution_count": 51,
      "metadata": {
        "id": "mS-rOqq7Fd1E"
      },
      "outputs": [
        {
          "data": {
            "text/html": [
              "<div>\n",
              "<style scoped>\n",
              "    .dataframe tbody tr th:only-of-type {\n",
              "        vertical-align: middle;\n",
              "    }\n",
              "\n",
              "    .dataframe tbody tr th {\n",
              "        vertical-align: top;\n",
              "    }\n",
              "\n",
              "    .dataframe thead th {\n",
              "        text-align: right;\n",
              "    }\n",
              "</style>\n",
              "<table border=\"1\" class=\"dataframe\">\n",
              "  <thead>\n",
              "    <tr style=\"text-align: right;\">\n",
              "      <th></th>\n",
              "      <th>Descriptor</th>\n",
              "      <th>Statistics</th>\n",
              "      <th>p</th>\n",
              "      <th>alpha</th>\n",
              "      <th>Interpretation</th>\n",
              "    </tr>\n",
              "  </thead>\n",
              "  <tbody>\n",
              "    <tr>\n",
              "      <th>0</th>\n",
              "      <td>NumHDonors</td>\n",
              "      <td>224786.0</td>\n",
              "      <td>0.022564</td>\n",
              "      <td>0.05</td>\n",
              "      <td>Different distribution (reject H0)</td>\n",
              "    </tr>\n",
              "  </tbody>\n",
              "</table>\n",
              "</div>"
            ],
            "text/plain": [
              "   Descriptor  Statistics         p  alpha                      Interpretation\n",
              "0  NumHDonors    224786.0  0.022564   0.05  Different distribution (reject H0)"
            ]
          },
          "execution_count": 51,
          "metadata": {},
          "output_type": "execute_result"
        }
      ],
      "source": [
        "mannwhitney('NumHDonors')"
      ]
    },
    {
      "cell_type": "markdown",
      "metadata": {
        "id": "yOYQ3QiSyu7-"
      },
      "source": [
        "#### **NumHAcceptors**"
      ]
    },
    {
      "cell_type": "code",
      "execution_count": 52,
      "metadata": {
        "id": "yCw6tgNCyxHf"
      },
      "outputs": [
        {
          "data": {
            "image/png": "[encoded data removed]",
            "text/plain": [
              "<Figure size 396x396 with 1 Axes>"
            ]
          },
          "metadata": {
            "needs_background": "light"
          },
          "output_type": "display_data"
        }
      ],
      "source": [
        "plt.figure(figsize=(5.5, 5.5))\n",
        "\n",
        "sns.boxplot(x = 'class', y = 'NumHAcceptors', data = df_2class)\n",
        "\n",
        "plt.xlabel('Bioactivity class', fontsize=14, fontweight='bold')\n",
        "plt.ylabel('NumHAcceptors', fontsize=14, fontweight='bold')\n",
        "\n",
        "plt.savefig('plot_NumHAcceptors.pdf')"
      ]
    },
    {
      "cell_type": "code",
      "execution_count": 53,
      "metadata": {
        "id": "NEQoDZctFtGG"
      },
      "outputs": [
        {
          "data": {
            "text/html": [
              "<div>\n",
              "<style scoped>\n",
              "    .dataframe tbody tr th:only-of-type {\n",
              "        vertical-align: middle;\n",
              "    }\n",
              "\n",
              "    .dataframe tbody tr th {\n",
              "        vertical-align: top;\n",
              "    }\n",
              "\n",
              "    .dataframe thead th {\n",
              "        text-align: right;\n",
              "    }\n",
              "</style>\n",
              "<table border=\"1\" class=\"dataframe\">\n",
              "  <thead>\n",
              "    <tr style=\"text-align: right;\">\n",
              "      <th></th>\n",
              "      <th>Descriptor</th>\n",
              "      <th>Statistics</th>\n",
              "      <th>p</th>\n",
              "      <th>alpha</th>\n",
              "      <th>Interpretation</th>\n",
              "    </tr>\n",
              "  </thead>\n",
              "  <tbody>\n",
              "    <tr>\n",
              "      <th>0</th>\n",
              "      <td>NumHAcceptors</td>\n",
              "      <td>256962.5</td>\n",
              "      <td>0.027602</td>\n",
              "      <td>0.05</td>\n",
              "      <td>Different distribution (reject H0)</td>\n",
              "    </tr>\n",
              "  </tbody>\n",
              "</table>\n",
              "</div>"
            ],
            "text/plain": [
              "      Descriptor  Statistics         p  alpha  \\\n",
              "0  NumHAcceptors    256962.5  0.027602   0.05   \n",
              "\n",
              "                       Interpretation  \n",
              "0  Different distribution (reject H0)  "
            ]
          },
          "execution_count": 53,
          "metadata": {},
          "output_type": "execute_result"
        }
      ],
      "source": [
        "mannwhitney('NumHAcceptors')"
      ]
    },
    {
      "cell_type": "markdown",
      "metadata": {
        "id": "p4QjdHVjKYum"
      },
      "source": [
        "#### **Interpretation of Statistical Results**"
      ]
    },
    {
      "cell_type": "markdown",
      "metadata": {
        "id": "mSoOBIqfLbDs"
      },
      "source": [
        "##### **Box Plots**\n",
        "\n",
        "###### **pIC50 values**\n",
        "\n",
        "Taking a look at pIC50 values, the **actives** and **inactives** displayed ***statistically significant difference***, which is to be expected since threshold values (``IC50 < 1,000 nM = Actives while IC50 > 10,000 nM = Inactives``, corresponding to ``pIC50 > 6 = Actives and pIC50 < 5 = Inactives``) were used to define actives and inactives.\n"
      ]
    },
    {
      "cell_type": "markdown",
      "metadata": {
        "id": "U-rK8l0wWnKK"
      },
      "source": [
        "## **Zip files**"
      ]
    },
    {
      "cell_type": "code",
      "execution_count": 54,
      "metadata": {
        "id": "GW1ZSsfJWqbM"
      },
      "outputs": [
        {
          "name": "stdout",
          "output_type": "stream",
          "text": [
            "  adding: aromatase_02_bioactivity_data_preprocessed.csv (172 bytes security) (deflated 80%)\n",
            "  adding: aromatase_03_bioactivity_data_preprocessed.csv (172 bytes security) (deflated 81%)\n",
            "  adding: aromatase_04_bioactivity_data_3class_pIC50.csv (172 bytes security) (deflated 76%)\n",
            "  adding: aromatase_05_bioactivity_data_2class_pIC50.csv (172 bytes security) (deflated 76%)\n",
            "  adding: aromatase_0_bioactivity_data_raw.csv (172 bytes security) (deflated 90%)\n",
            "  adding: mannwhitneyu_LogP.csv (172 bytes security) (deflated 7%)\n",
            "  adding: mannwhitneyu_MW.csv (172 bytes security) (deflated 8%)\n",
            "  adding: mannwhitneyu_NumHAcceptors.csv (172 bytes security) (deflated 10%)\n",
            "  adding: mannwhitneyu_NumHDonors.csv (172 bytes security) (deflated 11%)\n",
            "  adding: mannwhitneyu_pIC50.csv (172 bytes security) (deflated 9%)\n",
            "  adding: plot_bioactivity_class.pdf (172 bytes security) (deflated 40%)\n",
            "  adding: plot_ic50.pdf (172 bytes security) (deflated 37%)\n",
            "  adding: plot_LogP.pdf (172 bytes security) (deflated 40%)\n",
            "  adding: plot_MW.pdf (172 bytes security) (deflated 39%)\n",
            "  adding: plot_MW_vs_LogP.pdf (172 bytes security) (deflated 12%)\n",
            "  adding: plot_NumHAcceptors.pdf (172 bytes security) (deflated 40%)\n",
            "  adding: plot_NumHDonors.pdf (172 bytes security) (deflated 40%)\n"
          ]
        }
      ],
      "source": [
        "! zip -r results.zip . -i *.csv *.pdf"
      ]
    },
    {
      "cell_type": "code",
      "execution_count": null,
      "metadata": {
        "id": "LMWOG2UIXEg-"
      },
      "outputs": [],
      "source": []
    }
  ],
  "metadata": {
    "colab": {
      "collapsed_sections": [],
      "name": "CDD_ML_Part_2_Exploratory_Data_Analysis.ipynb",
      "provenance": []
    },
    "interpreter": {
      "hash": "2b4c40b39fc44fc86fd6cb3b15ca6416e9236c9e47898a7b19bacdbb6102ad94"
    },
    "kernelspec": {
      "display_name": "Python 3.10.5 64-bit",
      "language": "python",
      "name": "python3"
    },
    "language_info": {
      "codemirror_mode": {
        "name": "ipython",
        "version": 3
      },
      "file_extension": ".py",
      "mimetype": "text/x-python",
      "name": "python",
      "nbconvert_exporter": "python",
      "pygments_lexer": "ipython3",
      "version": "3.10.5"
    },
    "vscode": {
      "interpreter": {
        "hash": "c347c8f9a7ef94e4c9e03b4513be7835ed18f45b99a2a817fb579f408b867b16"
      }
    }
  },
  "nbformat": 4,
  "nbformat_minor": 0
}
