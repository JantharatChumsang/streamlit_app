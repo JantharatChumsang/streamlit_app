{
 "cells": [
  {
   "cell_type": "markdown",
   "metadata": {
    "id": "wSFbIMb87cHu",
    "pycharm": {
     "name": "#%% md\n"
    }
   },
   "source": [
    "# **Download Bioactivity Data**\n",
    "\n",
    "we will be performing Data Collection and Pre-Processing from the ChEMBL Database.\n",
    "\n",
    "---"
   ]
  },
  {
   "cell_type": "markdown",
   "metadata": {
    "id": "3iQiERxumDor",
    "pycharm": {
     "name": "#%% md\n"
    }
   },
   "source": [
    "## **ChEMBL Database**\n",
    "\n",
    "The [*ChEMBL Database*](https://www.ebi.ac.uk/chembl/) is a database that contains curated bioactivity data of more than 2 million compounds. It is compiled from more than 76,000 documents, 1.2 million assays and the data spans 13,000 targets and 1,800 cells and 33,000 indications.\n",
    "[Data as of March 25, 2020; ChEMBL version 26]."
   ]
  },
  {
   "cell_type": "markdown",
   "metadata": {
    "id": "iryGAwAIQ4yf",
    "pycharm": {
     "name": "#%% md\n"
    }
   },
   "source": [
    "## **Installing libraries**"
   ]
  },
  {
   "cell_type": "code",
   "execution_count": 3,
   "metadata": {},
   "outputs": [
    {
     "name": "stderr",
     "output_type": "stream",
     "text": [
      "'pip' is not recognized as an internal or external command,\n",
      "operable program or batch file.\n"
     ]
    }
   ],
   "source": [
    "! pip install python3.10.5"
   ]
  },
  {
   "cell_type": "code",
   "execution_count": 4,
   "metadata": {
    "colab": {
     "base_uri": "https://localhost:8080/"
    },
    "id": "cJGExHQBfLh7",
    "outputId": "e845a7eb-ff40-409d-ab1b-4e1f969c3ed1",
    "pycharm": {
     "name": "#%%\n"
    }
   },
   "outputs": [
    {
     "name": "stderr",
     "output_type": "stream",
     "text": [
      "'pip' is not recognized as an internal or external command,\n",
      "operable program or batch file.\n"
     ]
    }
   ],
   "source": [
    "! pip install chembl_webresource_client"
   ]
  },
  {
   "cell_type": "markdown",
   "metadata": {
    "id": "J0kJjL8gb5nX",
    "pycharm": {
     "name": "#%% md\n"
    }
   },
   "source": [
    "## **Importing libraries**"
   ]
  },
  {
   "cell_type": "code",
   "execution_count": 5,
   "metadata": {},
   "outputs": [
    {
     "name": "stderr",
     "output_type": "stream",
     "text": [
      "'pip' is not recognized as an internal or external command,\n",
      "operable program or batch file.\n"
     ]
    }
   ],
   "source": [
    "! pip install pandas"
   ]
  },
  {
   "cell_type": "code",
   "execution_count": 7,
   "metadata": {},
   "outputs": [
    {
     "name": "stdout",
     "output_type": "stream",
     "text": [
      "Requirement already satisfied: chembl_webresource_client in c:\\users\\machenike\\appdata\\local\\programs\\python\\python310\\lib\\site-packages (0.10.5)\n",
      "Requirement already satisfied: easydict in c:\\users\\machenike\\appdata\\local\\programs\\python\\python310\\lib\\site-packages (from chembl_webresource_client) (1.9)\n",
      "Requirement already satisfied: requests>=2.18.4 in c:\\users\\machenike\\appdata\\local\\programs\\python\\python310\\lib\\site-packages (from chembl_webresource_client) (2.28.0)\n",
      "Requirement already satisfied: requests-cache>=0.7.0 in c:\\users\\machenike\\appdata\\local\\programs\\python\\python310\\lib\\site-packages (from chembl_webresource_client) (0.9.4)\n",
      "Requirement already satisfied: urllib3 in c:\\users\\machenike\\appdata\\local\\programs\\python\\python310\\lib\\site-packages (from chembl_webresource_client) (1.26.9)\n",
      "Requirement already satisfied: charset-normalizer~=2.0.0 in c:\\users\\machenike\\appdata\\local\\programs\\python\\python310\\lib\\site-packages (from requests>=2.18.4->chembl_webresource_client) (2.0.12)\n",
      "Requirement already satisfied: idna<4,>=2.5 in c:\\users\\machenike\\appdata\\local\\programs\\python\\python310\\lib\\site-packages (from requests>=2.18.4->chembl_webresource_client) (3.3)\n",
      "Requirement already satisfied: certifi>=2017.4.17 in c:\\users\\machenike\\appdata\\local\\programs\\python\\python310\\lib\\site-packages (from requests>=2.18.4->chembl_webresource_client) (2022.6.15)\n",
      "Requirement already satisfied: appdirs<2.0.0,>=1.4.4 in c:\\users\\machenike\\appdata\\local\\programs\\python\\python310\\lib\\site-packages (from requests-cache>=0.7.0->chembl_webresource_client) (1.4.4)\n",
      "Requirement already satisfied: url-normalize<2.0,>=1.4 in c:\\users\\machenike\\appdata\\local\\programs\\python\\python310\\lib\\site-packages (from requests-cache>=0.7.0->chembl_webresource_client) (1.4.3)\n",
      "Requirement already satisfied: attrs<22.0,>=21.2 in c:\\users\\machenike\\appdata\\local\\programs\\python\\python310\\lib\\site-packages (from requests-cache>=0.7.0->chembl_webresource_client) (21.4.0)\n",
      "Requirement already satisfied: cattrs<2.0,>=1.8 in c:\\users\\machenike\\appdata\\local\\programs\\python\\python310\\lib\\site-packages (from requests-cache>=0.7.0->chembl_webresource_client) (1.10.0)\n",
      "Requirement already satisfied: six in c:\\users\\machenike\\appdata\\local\\programs\\python\\python310\\lib\\site-packages (from url-normalize<2.0,>=1.4->requests-cache>=0.7.0->chembl_webresource_client) (1.16.0)\n",
      "Note: you may need to restart the kernel to use updated packages.\n"
     ]
    },
    {
     "name": "stderr",
     "output_type": "stream",
     "text": [
      "WARNING: You are using pip version 22.0.4; however, version 22.1.2 is available.\n",
      "You should consider upgrading via the 'c:\\Users\\MACHENIKE\\AppData\\Local\\Programs\\Python\\Python310\\python.exe -m pip install --upgrade pip' command.\n"
     ]
    }
   ],
   "source": [
    "pip install chembl_webresource_client"
   ]
  },
  {
   "cell_type": "code",
   "execution_count": 8,
   "metadata": {
    "id": "RXoCvMPPfNrv",
    "pycharm": {
     "name": "#%%\n"
    }
   },
   "outputs": [],
   "source": [
    "# Import necessary libraries\n",
    "import pandas as pd"
   ]
  },
  {
   "cell_type": "code",
   "execution_count": 9,
   "metadata": {},
   "outputs": [],
   "source": [
    "from chembl_webresource_client.new_client import new_client"
   ]
  },
  {
   "cell_type": "markdown",
   "metadata": {
    "id": "1FgUai1bfigC",
    "pycharm": {
     "name": "#%% md\n"
    }
   },
   "source": [
    "## **Search for Target protein**"
   ]
  },
  {
   "cell_type": "markdown",
   "metadata": {
    "id": "7lBsDrD0gAqH",
    "pycharm": {
     "name": "#%% md\n"
    }
   },
   "source": [
    "### **Target search for Acetylcholinesterase**"
   ]
  },
  {
   "cell_type": "code",
   "execution_count": 10,
   "metadata": {
    "colab": {
     "base_uri": "https://localhost:8080/"
    },
    "id": "XGDBHyVFBuoB",
    "outputId": "83f4a7df-10d6-4cd8-f800-03636a0549c9",
    "pycharm": {
     "name": "#%%\n"
    }
   },
   "outputs": [],
   "source": [
    "tg = input(\"target of interest : \")"
   ]
  },
  {
   "cell_type": "code",
   "execution_count": 11,
   "metadata": {
    "colab": {
     "base_uri": "https://localhost:8080/",
     "height": 629
    },
    "id": "Vxtp79so4ZjF",
    "outputId": "cf7e7773-35ff-47b3-d861-fe2ef11e857f",
    "pycharm": {
     "name": "#%%\n"
    }
   },
   "outputs": [
    {
     "data": {
      "text/html": [
       "<div>\n",
       "<style scoped>\n",
       "    .dataframe tbody tr th:only-of-type {\n",
       "        vertical-align: middle;\n",
       "    }\n",
       "\n",
       "    .dataframe tbody tr th {\n",
       "        vertical-align: top;\n",
       "    }\n",
       "\n",
       "    .dataframe thead th {\n",
       "        text-align: right;\n",
       "    }\n",
       "</style>\n",
       "<table border=\"1\" class=\"dataframe\">\n",
       "  <thead>\n",
       "    <tr style=\"text-align: right;\">\n",
       "      <th></th>\n",
       "      <th>cross_references</th>\n",
       "      <th>organism</th>\n",
       "      <th>pref_name</th>\n",
       "      <th>score</th>\n",
       "      <th>species_group_flag</th>\n",
       "      <th>target_chembl_id</th>\n",
       "      <th>target_components</th>\n",
       "      <th>target_type</th>\n",
       "      <th>tax_id</th>\n",
       "    </tr>\n",
       "  </thead>\n",
       "  <tbody>\n",
       "    <tr>\n",
       "      <th>0</th>\n",
       "      <td>[{'xref_id': 'P11511', 'xref_name': None, 'xre...</td>\n",
       "      <td>Homo sapiens</td>\n",
       "      <td>Cytochrome P450 19A1</td>\n",
       "      <td>20.0</td>\n",
       "      <td>False</td>\n",
       "      <td>CHEMBL1978</td>\n",
       "      <td>[{'accession': 'P11511', 'component_descriptio...</td>\n",
       "      <td>SINGLE PROTEIN</td>\n",
       "      <td>9606</td>\n",
       "    </tr>\n",
       "    <tr>\n",
       "      <th>1</th>\n",
       "      <td>[{'xref_id': 'P22443', 'xref_name': None, 'xre...</td>\n",
       "      <td>Rattus norvegicus</td>\n",
       "      <td>Cytochrome P450 19A1</td>\n",
       "      <td>20.0</td>\n",
       "      <td>False</td>\n",
       "      <td>CHEMBL3859</td>\n",
       "      <td>[{'accession': 'P22443', 'component_descriptio...</td>\n",
       "      <td>SINGLE PROTEIN</td>\n",
       "      <td>10116</td>\n",
       "    </tr>\n",
       "  </tbody>\n",
       "</table>\n",
       "</div>"
      ],
      "text/plain": [
       "                                    cross_references           organism  \\\n",
       "0  [{'xref_id': 'P11511', 'xref_name': None, 'xre...       Homo sapiens   \n",
       "1  [{'xref_id': 'P22443', 'xref_name': None, 'xre...  Rattus norvegicus   \n",
       "\n",
       "              pref_name  score  species_group_flag target_chembl_id  \\\n",
       "0  Cytochrome P450 19A1   20.0               False       CHEMBL1978   \n",
       "1  Cytochrome P450 19A1   20.0               False       CHEMBL3859   \n",
       "\n",
       "                                   target_components     target_type  tax_id  \n",
       "0  [{'accession': 'P11511', 'component_descriptio...  SINGLE PROTEIN    9606  \n",
       "1  [{'accession': 'P22443', 'component_descriptio...  SINGLE PROTEIN   10116  "
      ]
     },
     "execution_count": 11,
     "metadata": {},
     "output_type": "execute_result"
    }
   ],
   "source": [
    "# Target search for coronavirus\n",
    "target = new_client.target\n",
    "target_query = target.search(tg)\n",
    "targets = pd.DataFrame.from_dict(target_query)\n",
    "targets"
   ]
  },
  {
   "cell_type": "markdown",
   "metadata": {
    "id": "Y5OPfEALjAfZ",
    "pycharm": {
     "name": "#%% md\n"
    }
   },
   "source": [
    "### **Select and retrieve bioactivity data for *Human target* (first entry)**"
   ]
  },
  {
   "cell_type": "code",
   "execution_count": 12,
   "metadata": {
    "colab": {
     "base_uri": "https://localhost:8080/"
    },
    "id": "cN-Vkt9ctv76",
    "outputId": "7cb96029-1f7d-4082-89e4-6bf83b525033",
    "pycharm": {
     "name": "#%%\n"
    }
   },
   "outputs": [],
   "source": [
    "org = input(\"organism of interest : \")"
   ]
  },
  {
   "cell_type": "code",
   "execution_count": 13,
   "metadata": {
    "colab": {
     "base_uri": "https://localhost:8080/",
     "height": 532
    },
    "id": "i_hV2NGxtkxF",
    "outputId": "c20dbf06-1ff3-409b-9b07-c8f164cecaae",
    "pycharm": {
     "name": "#%%\n"
    }
   },
   "outputs": [
    {
     "data": {
      "text/html": [
       "<div>\n",
       "<style scoped>\n",
       "    .dataframe tbody tr th:only-of-type {\n",
       "        vertical-align: middle;\n",
       "    }\n",
       "\n",
       "    .dataframe tbody tr th {\n",
       "        vertical-align: top;\n",
       "    }\n",
       "\n",
       "    .dataframe thead th {\n",
       "        text-align: right;\n",
       "    }\n",
       "</style>\n",
       "<table border=\"1\" class=\"dataframe\">\n",
       "  <thead>\n",
       "    <tr style=\"text-align: right;\">\n",
       "      <th></th>\n",
       "      <th>cross_references</th>\n",
       "      <th>organism</th>\n",
       "      <th>pref_name</th>\n",
       "      <th>score</th>\n",
       "      <th>species_group_flag</th>\n",
       "      <th>target_chembl_id</th>\n",
       "      <th>target_components</th>\n",
       "      <th>target_type</th>\n",
       "      <th>tax_id</th>\n",
       "    </tr>\n",
       "  </thead>\n",
       "  <tbody>\n",
       "    <tr>\n",
       "      <th>0</th>\n",
       "      <td>[{'xref_id': 'P11511', 'xref_name': None, 'xre...</td>\n",
       "      <td>Homo sapiens</td>\n",
       "      <td>Cytochrome P450 19A1</td>\n",
       "      <td>20.0</td>\n",
       "      <td>False</td>\n",
       "      <td>CHEMBL1978</td>\n",
       "      <td>[{'accession': 'P11511', 'component_descriptio...</td>\n",
       "      <td>SINGLE PROTEIN</td>\n",
       "      <td>9606</td>\n",
       "    </tr>\n",
       "  </tbody>\n",
       "</table>\n",
       "</div>"
      ],
      "text/plain": [
       "                                    cross_references      organism  \\\n",
       "0  [{'xref_id': 'P11511', 'xref_name': None, 'xre...  Homo sapiens   \n",
       "\n",
       "              pref_name  score  species_group_flag target_chembl_id  \\\n",
       "0  Cytochrome P450 19A1   20.0               False       CHEMBL1978   \n",
       "\n",
       "                                   target_components     target_type  tax_id  \n",
       "0  [{'accession': 'P11511', 'component_descriptio...  SINGLE PROTEIN    9606  "
      ]
     },
     "execution_count": 13,
     "metadata": {},
     "output_type": "execute_result"
    }
   ],
   "source": [
    "org_df = targets.loc[targets['organism'] == org] \n",
    "org_df"
   ]
  },
  {
   "cell_type": "code",
   "execution_count": 14,
   "metadata": {
    "colab": {
     "base_uri": "https://localhost:8080/",
     "height": 36
    },
    "id": "StrcHMVLha7u",
    "outputId": "d4ba518c-4cb0-4d50-8baf-42e0321f2259",
    "pycharm": {
     "name": "#%%\n"
    }
   },
   "outputs": [
    {
     "data": {
      "text/plain": [
       "'CHEMBL1978'"
      ]
     },
     "execution_count": 14,
     "metadata": {},
     "output_type": "execute_result"
    }
   ],
   "source": [
    "selected_target = targets.target_chembl_id[0]\n",
    "selected_target"
   ]
  },
  {
   "cell_type": "markdown",
   "metadata": {
    "id": "GWd2DRalgjzB",
    "pycharm": {
     "name": "#%% md\n"
    }
   },
   "source": [
    "retrieve only bioactivity data for *Human aromatase* (CHEMBL1978) that are reported as pChEMBL values."
   ]
  },
  {
   "cell_type": "code",
   "execution_count": 15,
   "metadata": {
    "colab": {
     "base_uri": "https://localhost:8080/"
    },
    "id": "LwoifpPDPYzc",
    "outputId": "92cac096-1c5d-4137-b756-a33b6e466d25",
    "pycharm": {
     "name": "#%%\n"
    }
   },
   "outputs": [],
   "source": [
    "st = input(\"parameters standard type : \")"
   ]
  },
  {
   "cell_type": "code",
   "execution_count": 16,
   "metadata": {
    "id": "LeFbV_CsSP8D",
    "pycharm": {
     "name": "#%%\n"
    }
   },
   "outputs": [],
   "source": [
    "activity = new_client.activity\n",
    "res = activity.filter(target_chembl_id=selected_target).filter(standard_type=st)"
   ]
  },
  {
   "cell_type": "code",
   "execution_count": 17,
   "metadata": {
    "id": "LrzAcEFnYzBY",
    "pycharm": {
     "name": "#%%\n"
    }
   },
   "outputs": [],
   "source": [
    "df = pd.DataFrame.from_dict(res)"
   ]
  },
  {
   "cell_type": "code",
   "execution_count": 18,
   "metadata": {
    "colab": {
     "base_uri": "https://localhost:8080/",
     "height": 834
    },
    "id": "s9iUAXFdSkoM",
    "outputId": "fb0dbdf6-f141-4419-a48e-02887f05388a",
    "pycharm": {
     "name": "#%%\n"
    }
   },
   "outputs": [
    {
     "data": {
      "text/html": [
       "<div>\n",
       "<style scoped>\n",
       "    .dataframe tbody tr th:only-of-type {\n",
       "        vertical-align: middle;\n",
       "    }\n",
       "\n",
       "    .dataframe tbody tr th {\n",
       "        vertical-align: top;\n",
       "    }\n",
       "\n",
       "    .dataframe thead th {\n",
       "        text-align: right;\n",
       "    }\n",
       "</style>\n",
       "<table border=\"1\" class=\"dataframe\">\n",
       "  <thead>\n",
       "    <tr style=\"text-align: right;\">\n",
       "      <th></th>\n",
       "      <th>activity_comment</th>\n",
       "      <th>activity_id</th>\n",
       "      <th>activity_properties</th>\n",
       "      <th>assay_chembl_id</th>\n",
       "      <th>assay_description</th>\n",
       "      <th>assay_type</th>\n",
       "      <th>assay_variant_accession</th>\n",
       "      <th>assay_variant_mutation</th>\n",
       "      <th>bao_endpoint</th>\n",
       "      <th>bao_format</th>\n",
       "      <th>...</th>\n",
       "      <th>target_organism</th>\n",
       "      <th>target_pref_name</th>\n",
       "      <th>target_tax_id</th>\n",
       "      <th>text_value</th>\n",
       "      <th>toid</th>\n",
       "      <th>type</th>\n",
       "      <th>units</th>\n",
       "      <th>uo_units</th>\n",
       "      <th>upper_value</th>\n",
       "      <th>value</th>\n",
       "    </tr>\n",
       "  </thead>\n",
       "  <tbody>\n",
       "    <tr>\n",
       "      <th>0</th>\n",
       "      <td>None</td>\n",
       "      <td>82585</td>\n",
       "      <td>[]</td>\n",
       "      <td>CHEMBL666794</td>\n",
       "      <td>Inhibition of Cytochrome P450 19A1</td>\n",
       "      <td>B</td>\n",
       "      <td>None</td>\n",
       "      <td>None</td>\n",
       "      <td>BAO_0000190</td>\n",
       "      <td>BAO_0000357</td>\n",
       "      <td>...</td>\n",
       "      <td>Homo sapiens</td>\n",
       "      <td>Cytochrome P450 19A1</td>\n",
       "      <td>9606</td>\n",
       "      <td>None</td>\n",
       "      <td>None</td>\n",
       "      <td>IC50</td>\n",
       "      <td>uM</td>\n",
       "      <td>UO_0000065</td>\n",
       "      <td>None</td>\n",
       "      <td>7.1</td>\n",
       "    </tr>\n",
       "    <tr>\n",
       "      <th>1</th>\n",
       "      <td>None</td>\n",
       "      <td>94540</td>\n",
       "      <td>[]</td>\n",
       "      <td>CHEMBL666794</td>\n",
       "      <td>Inhibition of Cytochrome P450 19A1</td>\n",
       "      <td>B</td>\n",
       "      <td>None</td>\n",
       "      <td>None</td>\n",
       "      <td>BAO_0000190</td>\n",
       "      <td>BAO_0000357</td>\n",
       "      <td>...</td>\n",
       "      <td>Homo sapiens</td>\n",
       "      <td>Cytochrome P450 19A1</td>\n",
       "      <td>9606</td>\n",
       "      <td>None</td>\n",
       "      <td>None</td>\n",
       "      <td>IC50</td>\n",
       "      <td>uM</td>\n",
       "      <td>UO_0000065</td>\n",
       "      <td>None</td>\n",
       "      <td>50.0</td>\n",
       "    </tr>\n",
       "    <tr>\n",
       "      <th>2</th>\n",
       "      <td>None</td>\n",
       "      <td>112960</td>\n",
       "      <td>[]</td>\n",
       "      <td>CHEMBL661700</td>\n",
       "      <td>In vitro inhibition of human Cytochrome P450 19A1</td>\n",
       "      <td>B</td>\n",
       "      <td>None</td>\n",
       "      <td>None</td>\n",
       "      <td>BAO_0000190</td>\n",
       "      <td>BAO_0000357</td>\n",
       "      <td>...</td>\n",
       "      <td>Homo sapiens</td>\n",
       "      <td>Cytochrome P450 19A1</td>\n",
       "      <td>9606</td>\n",
       "      <td>None</td>\n",
       "      <td>None</td>\n",
       "      <td>IC50</td>\n",
       "      <td>uM</td>\n",
       "      <td>UO_0000065</td>\n",
       "      <td>None</td>\n",
       "      <td>0.238</td>\n",
       "    </tr>\n",
       "    <tr>\n",
       "      <th>3</th>\n",
       "      <td>None</td>\n",
       "      <td>116766</td>\n",
       "      <td>[]</td>\n",
       "      <td>CHEMBL661700</td>\n",
       "      <td>In vitro inhibition of human Cytochrome P450 19A1</td>\n",
       "      <td>B</td>\n",
       "      <td>None</td>\n",
       "      <td>None</td>\n",
       "      <td>BAO_0000190</td>\n",
       "      <td>BAO_0000357</td>\n",
       "      <td>...</td>\n",
       "      <td>Homo sapiens</td>\n",
       "      <td>Cytochrome P450 19A1</td>\n",
       "      <td>9606</td>\n",
       "      <td>None</td>\n",
       "      <td>None</td>\n",
       "      <td>IC50</td>\n",
       "      <td>uM</td>\n",
       "      <td>UO_0000065</td>\n",
       "      <td>None</td>\n",
       "      <td>0.057</td>\n",
       "    </tr>\n",
       "    <tr>\n",
       "      <th>4</th>\n",
       "      <td>None</td>\n",
       "      <td>118017</td>\n",
       "      <td>[]</td>\n",
       "      <td>CHEMBL661700</td>\n",
       "      <td>In vitro inhibition of human Cytochrome P450 19A1</td>\n",
       "      <td>B</td>\n",
       "      <td>None</td>\n",
       "      <td>None</td>\n",
       "      <td>BAO_0000190</td>\n",
       "      <td>BAO_0000357</td>\n",
       "      <td>...</td>\n",
       "      <td>Homo sapiens</td>\n",
       "      <td>Cytochrome P450 19A1</td>\n",
       "      <td>9606</td>\n",
       "      <td>None</td>\n",
       "      <td>None</td>\n",
       "      <td>IC50</td>\n",
       "      <td>uM</td>\n",
       "      <td>UO_0000065</td>\n",
       "      <td>None</td>\n",
       "      <td>0.054</td>\n",
       "    </tr>\n",
       "    <tr>\n",
       "      <th>...</th>\n",
       "      <td>...</td>\n",
       "      <td>...</td>\n",
       "      <td>...</td>\n",
       "      <td>...</td>\n",
       "      <td>...</td>\n",
       "      <td>...</td>\n",
       "      <td>...</td>\n",
       "      <td>...</td>\n",
       "      <td>...</td>\n",
       "      <td>...</td>\n",
       "      <td>...</td>\n",
       "      <td>...</td>\n",
       "      <td>...</td>\n",
       "      <td>...</td>\n",
       "      <td>...</td>\n",
       "      <td>...</td>\n",
       "      <td>...</td>\n",
       "      <td>...</td>\n",
       "      <td>...</td>\n",
       "      <td>...</td>\n",
       "      <td>...</td>\n",
       "    </tr>\n",
       "    <tr>\n",
       "      <th>2889</th>\n",
       "      <td>None</td>\n",
       "      <td>22819795</td>\n",
       "      <td>[{'comments': None, 'relation': '=', 'result_f...</td>\n",
       "      <td>CHEMBL4716146</td>\n",
       "      <td>Inhibition of recombinant human aromatase incu...</td>\n",
       "      <td>B</td>\n",
       "      <td>None</td>\n",
       "      <td>None</td>\n",
       "      <td>BAO_0000179</td>\n",
       "      <td>BAO_0000357</td>\n",
       "      <td>...</td>\n",
       "      <td>Homo sapiens</td>\n",
       "      <td>Cytochrome P450 19A1</td>\n",
       "      <td>9606</td>\n",
       "      <td>None</td>\n",
       "      <td>None</td>\n",
       "      <td>IC50</td>\n",
       "      <td>nM</td>\n",
       "      <td>None</td>\n",
       "      <td>None</td>\n",
       "      <td>5.24</td>\n",
       "    </tr>\n",
       "    <tr>\n",
       "      <th>2890</th>\n",
       "      <td>None</td>\n",
       "      <td>22819796</td>\n",
       "      <td>[{'comments': None, 'relation': '=', 'result_f...</td>\n",
       "      <td>CHEMBL4716146</td>\n",
       "      <td>Inhibition of recombinant human aromatase incu...</td>\n",
       "      <td>B</td>\n",
       "      <td>None</td>\n",
       "      <td>None</td>\n",
       "      <td>BAO_0000179</td>\n",
       "      <td>BAO_0000357</td>\n",
       "      <td>...</td>\n",
       "      <td>Homo sapiens</td>\n",
       "      <td>Cytochrome P450 19A1</td>\n",
       "      <td>9606</td>\n",
       "      <td>None</td>\n",
       "      <td>None</td>\n",
       "      <td>IC50</td>\n",
       "      <td>nM</td>\n",
       "      <td>None</td>\n",
       "      <td>None</td>\n",
       "      <td>104.0</td>\n",
       "    </tr>\n",
       "    <tr>\n",
       "      <th>2891</th>\n",
       "      <td>None</td>\n",
       "      <td>22819797</td>\n",
       "      <td>[{'comments': None, 'relation': '=', 'result_f...</td>\n",
       "      <td>CHEMBL4716146</td>\n",
       "      <td>Inhibition of recombinant human aromatase incu...</td>\n",
       "      <td>B</td>\n",
       "      <td>None</td>\n",
       "      <td>None</td>\n",
       "      <td>BAO_0000179</td>\n",
       "      <td>BAO_0000357</td>\n",
       "      <td>...</td>\n",
       "      <td>Homo sapiens</td>\n",
       "      <td>Cytochrome P450 19A1</td>\n",
       "      <td>9606</td>\n",
       "      <td>None</td>\n",
       "      <td>None</td>\n",
       "      <td>IC50</td>\n",
       "      <td>nM</td>\n",
       "      <td>None</td>\n",
       "      <td>None</td>\n",
       "      <td>17.7</td>\n",
       "    </tr>\n",
       "    <tr>\n",
       "      <th>2892</th>\n",
       "      <td>None</td>\n",
       "      <td>22819798</td>\n",
       "      <td>[{'comments': None, 'relation': '=', 'result_f...</td>\n",
       "      <td>CHEMBL4716146</td>\n",
       "      <td>Inhibition of recombinant human aromatase incu...</td>\n",
       "      <td>B</td>\n",
       "      <td>None</td>\n",
       "      <td>None</td>\n",
       "      <td>BAO_0000179</td>\n",
       "      <td>BAO_0000357</td>\n",
       "      <td>...</td>\n",
       "      <td>Homo sapiens</td>\n",
       "      <td>Cytochrome P450 19A1</td>\n",
       "      <td>9606</td>\n",
       "      <td>None</td>\n",
       "      <td>None</td>\n",
       "      <td>IC50</td>\n",
       "      <td>nM</td>\n",
       "      <td>None</td>\n",
       "      <td>None</td>\n",
       "      <td>60.4</td>\n",
       "    </tr>\n",
       "    <tr>\n",
       "      <th>2893</th>\n",
       "      <td>None</td>\n",
       "      <td>22819799</td>\n",
       "      <td>[{'comments': None, 'relation': '=', 'result_f...</td>\n",
       "      <td>CHEMBL4716146</td>\n",
       "      <td>Inhibition of recombinant human aromatase incu...</td>\n",
       "      <td>B</td>\n",
       "      <td>None</td>\n",
       "      <td>None</td>\n",
       "      <td>BAO_0000179</td>\n",
       "      <td>BAO_0000357</td>\n",
       "      <td>...</td>\n",
       "      <td>Homo sapiens</td>\n",
       "      <td>Cytochrome P450 19A1</td>\n",
       "      <td>9606</td>\n",
       "      <td>None</td>\n",
       "      <td>None</td>\n",
       "      <td>IC50</td>\n",
       "      <td>nM</td>\n",
       "      <td>None</td>\n",
       "      <td>None</td>\n",
       "      <td>439.0</td>\n",
       "    </tr>\n",
       "  </tbody>\n",
       "</table>\n",
       "<p>2894 rows × 45 columns</p>\n",
       "</div>"
      ],
      "text/plain": [
       "     activity_comment  activity_id  \\\n",
       "0                None        82585   \n",
       "1                None        94540   \n",
       "2                None       112960   \n",
       "3                None       116766   \n",
       "4                None       118017   \n",
       "...               ...          ...   \n",
       "2889             None     22819795   \n",
       "2890             None     22819796   \n",
       "2891             None     22819797   \n",
       "2892             None     22819798   \n",
       "2893             None     22819799   \n",
       "\n",
       "                                    activity_properties assay_chembl_id  \\\n",
       "0                                                    []    CHEMBL666794   \n",
       "1                                                    []    CHEMBL666794   \n",
       "2                                                    []    CHEMBL661700   \n",
       "3                                                    []    CHEMBL661700   \n",
       "4                                                    []    CHEMBL661700   \n",
       "...                                                 ...             ...   \n",
       "2889  [{'comments': None, 'relation': '=', 'result_f...   CHEMBL4716146   \n",
       "2890  [{'comments': None, 'relation': '=', 'result_f...   CHEMBL4716146   \n",
       "2891  [{'comments': None, 'relation': '=', 'result_f...   CHEMBL4716146   \n",
       "2892  [{'comments': None, 'relation': '=', 'result_f...   CHEMBL4716146   \n",
       "2893  [{'comments': None, 'relation': '=', 'result_f...   CHEMBL4716146   \n",
       "\n",
       "                                      assay_description assay_type  \\\n",
       "0                    Inhibition of Cytochrome P450 19A1          B   \n",
       "1                    Inhibition of Cytochrome P450 19A1          B   \n",
       "2     In vitro inhibition of human Cytochrome P450 19A1          B   \n",
       "3     In vitro inhibition of human Cytochrome P450 19A1          B   \n",
       "4     In vitro inhibition of human Cytochrome P450 19A1          B   \n",
       "...                                                 ...        ...   \n",
       "2889  Inhibition of recombinant human aromatase incu...          B   \n",
       "2890  Inhibition of recombinant human aromatase incu...          B   \n",
       "2891  Inhibition of recombinant human aromatase incu...          B   \n",
       "2892  Inhibition of recombinant human aromatase incu...          B   \n",
       "2893  Inhibition of recombinant human aromatase incu...          B   \n",
       "\n",
       "     assay_variant_accession assay_variant_mutation bao_endpoint   bao_format  \\\n",
       "0                       None                   None  BAO_0000190  BAO_0000357   \n",
       "1                       None                   None  BAO_0000190  BAO_0000357   \n",
       "2                       None                   None  BAO_0000190  BAO_0000357   \n",
       "3                       None                   None  BAO_0000190  BAO_0000357   \n",
       "4                       None                   None  BAO_0000190  BAO_0000357   \n",
       "...                      ...                    ...          ...          ...   \n",
       "2889                    None                   None  BAO_0000179  BAO_0000357   \n",
       "2890                    None                   None  BAO_0000179  BAO_0000357   \n",
       "2891                    None                   None  BAO_0000179  BAO_0000357   \n",
       "2892                    None                   None  BAO_0000179  BAO_0000357   \n",
       "2893                    None                   None  BAO_0000179  BAO_0000357   \n",
       "\n",
       "      ... target_organism      target_pref_name target_tax_id text_value  \\\n",
       "0     ...    Homo sapiens  Cytochrome P450 19A1          9606       None   \n",
       "1     ...    Homo sapiens  Cytochrome P450 19A1          9606       None   \n",
       "2     ...    Homo sapiens  Cytochrome P450 19A1          9606       None   \n",
       "3     ...    Homo sapiens  Cytochrome P450 19A1          9606       None   \n",
       "4     ...    Homo sapiens  Cytochrome P450 19A1          9606       None   \n",
       "...   ...             ...                   ...           ...        ...   \n",
       "2889  ...    Homo sapiens  Cytochrome P450 19A1          9606       None   \n",
       "2890  ...    Homo sapiens  Cytochrome P450 19A1          9606       None   \n",
       "2891  ...    Homo sapiens  Cytochrome P450 19A1          9606       None   \n",
       "2892  ...    Homo sapiens  Cytochrome P450 19A1          9606       None   \n",
       "2893  ...    Homo sapiens  Cytochrome P450 19A1          9606       None   \n",
       "\n",
       "      toid  type  units    uo_units upper_value  value  \n",
       "0     None  IC50     uM  UO_0000065        None    7.1  \n",
       "1     None  IC50     uM  UO_0000065        None   50.0  \n",
       "2     None  IC50     uM  UO_0000065        None  0.238  \n",
       "3     None  IC50     uM  UO_0000065        None  0.057  \n",
       "4     None  IC50     uM  UO_0000065        None  0.054  \n",
       "...    ...   ...    ...         ...         ...    ...  \n",
       "2889  None  IC50     nM        None        None   5.24  \n",
       "2890  None  IC50     nM        None        None  104.0  \n",
       "2891  None  IC50     nM        None        None   17.7  \n",
       "2892  None  IC50     nM        None        None   60.4  \n",
       "2893  None  IC50     nM        None        None  439.0  \n",
       "\n",
       "[2894 rows x 45 columns]"
      ]
     },
     "execution_count": 18,
     "metadata": {},
     "output_type": "execute_result"
    }
   ],
   "source": [
    "df"
   ]
  },
  {
   "cell_type": "code",
   "execution_count": 20,
   "metadata": {
    "colab": {
     "base_uri": "https://localhost:8080/"
    },
    "id": "zJNAaTCdH6sQ",
    "outputId": "3d88735c-9a7b-4cd4-d891-568f7068f3a8",
    "pycharm": {
     "name": "#%%\n"
    }
   },
   "outputs": [
    {
     "data": {
      "text/plain": [
       "array(['IC50'], dtype=object)"
      ]
     },
     "execution_count": 20,
     "metadata": {},
     "output_type": "execute_result"
    }
   ],
   "source": [
    "df.standard_type.unique()"
   ]
  },
  {
   "cell_type": "markdown",
   "metadata": {
    "id": "_GXMpFNUOn_8",
    "pycharm": {
     "name": "#%% md\n"
    }
   },
   "source": [
    "## **Handling missing data**\n",
    "If any compounds has missing value for the **standard_value** and **canonical_smiles** column then drop it."
   ]
  },
  {
   "cell_type": "code",
   "execution_count": 21,
   "metadata": {
    "colab": {
     "base_uri": "https://localhost:8080/",
     "height": 871
    },
    "id": "hkVOdk6ZR396",
    "outputId": "8604ba10-1507-4ac1-8fd7-1661d06a9c98",
    "pycharm": {
     "name": "#%%\n"
    }
   },
   "outputs": [
    {
     "name": "stderr",
     "output_type": "stream",
     "text": [
      "C:\\Users\\MACHENIKE\\AppData\\Local\\Temp\\ipykernel_2324\\3852201246.py:2: UserWarning: Boolean Series key will be reindexed to match DataFrame index.\n",
      "  df2 = df2[df.canonical_smiles.notna()]\n"
     ]
    },
    {
     "data": {
      "text/html": [
       "<div>\n",
       "<style scoped>\n",
       "    .dataframe tbody tr th:only-of-type {\n",
       "        vertical-align: middle;\n",
       "    }\n",
       "\n",
       "    .dataframe tbody tr th {\n",
       "        vertical-align: top;\n",
       "    }\n",
       "\n",
       "    .dataframe thead th {\n",
       "        text-align: right;\n",
       "    }\n",
       "</style>\n",
       "<table border=\"1\" class=\"dataframe\">\n",
       "  <thead>\n",
       "    <tr style=\"text-align: right;\">\n",
       "      <th></th>\n",
       "      <th>activity_comment</th>\n",
       "      <th>activity_id</th>\n",
       "      <th>activity_properties</th>\n",
       "      <th>assay_chembl_id</th>\n",
       "      <th>assay_description</th>\n",
       "      <th>assay_type</th>\n",
       "      <th>assay_variant_accession</th>\n",
       "      <th>assay_variant_mutation</th>\n",
       "      <th>bao_endpoint</th>\n",
       "      <th>bao_format</th>\n",
       "      <th>...</th>\n",
       "      <th>target_organism</th>\n",
       "      <th>target_pref_name</th>\n",
       "      <th>target_tax_id</th>\n",
       "      <th>text_value</th>\n",
       "      <th>toid</th>\n",
       "      <th>type</th>\n",
       "      <th>units</th>\n",
       "      <th>uo_units</th>\n",
       "      <th>upper_value</th>\n",
       "      <th>value</th>\n",
       "    </tr>\n",
       "  </thead>\n",
       "  <tbody>\n",
       "    <tr>\n",
       "      <th>0</th>\n",
       "      <td>None</td>\n",
       "      <td>82585</td>\n",
       "      <td>[]</td>\n",
       "      <td>CHEMBL666794</td>\n",
       "      <td>Inhibition of Cytochrome P450 19A1</td>\n",
       "      <td>B</td>\n",
       "      <td>None</td>\n",
       "      <td>None</td>\n",
       "      <td>BAO_0000190</td>\n",
       "      <td>BAO_0000357</td>\n",
       "      <td>...</td>\n",
       "      <td>Homo sapiens</td>\n",
       "      <td>Cytochrome P450 19A1</td>\n",
       "      <td>9606</td>\n",
       "      <td>None</td>\n",
       "      <td>None</td>\n",
       "      <td>IC50</td>\n",
       "      <td>uM</td>\n",
       "      <td>UO_0000065</td>\n",
       "      <td>None</td>\n",
       "      <td>7.1</td>\n",
       "    </tr>\n",
       "    <tr>\n",
       "      <th>1</th>\n",
       "      <td>None</td>\n",
       "      <td>94540</td>\n",
       "      <td>[]</td>\n",
       "      <td>CHEMBL666794</td>\n",
       "      <td>Inhibition of Cytochrome P450 19A1</td>\n",
       "      <td>B</td>\n",
       "      <td>None</td>\n",
       "      <td>None</td>\n",
       "      <td>BAO_0000190</td>\n",
       "      <td>BAO_0000357</td>\n",
       "      <td>...</td>\n",
       "      <td>Homo sapiens</td>\n",
       "      <td>Cytochrome P450 19A1</td>\n",
       "      <td>9606</td>\n",
       "      <td>None</td>\n",
       "      <td>None</td>\n",
       "      <td>IC50</td>\n",
       "      <td>uM</td>\n",
       "      <td>UO_0000065</td>\n",
       "      <td>None</td>\n",
       "      <td>50.0</td>\n",
       "    </tr>\n",
       "    <tr>\n",
       "      <th>2</th>\n",
       "      <td>None</td>\n",
       "      <td>112960</td>\n",
       "      <td>[]</td>\n",
       "      <td>CHEMBL661700</td>\n",
       "      <td>In vitro inhibition of human Cytochrome P450 19A1</td>\n",
       "      <td>B</td>\n",
       "      <td>None</td>\n",
       "      <td>None</td>\n",
       "      <td>BAO_0000190</td>\n",
       "      <td>BAO_0000357</td>\n",
       "      <td>...</td>\n",
       "      <td>Homo sapiens</td>\n",
       "      <td>Cytochrome P450 19A1</td>\n",
       "      <td>9606</td>\n",
       "      <td>None</td>\n",
       "      <td>None</td>\n",
       "      <td>IC50</td>\n",
       "      <td>uM</td>\n",
       "      <td>UO_0000065</td>\n",
       "      <td>None</td>\n",
       "      <td>0.238</td>\n",
       "    </tr>\n",
       "    <tr>\n",
       "      <th>3</th>\n",
       "      <td>None</td>\n",
       "      <td>116766</td>\n",
       "      <td>[]</td>\n",
       "      <td>CHEMBL661700</td>\n",
       "      <td>In vitro inhibition of human Cytochrome P450 19A1</td>\n",
       "      <td>B</td>\n",
       "      <td>None</td>\n",
       "      <td>None</td>\n",
       "      <td>BAO_0000190</td>\n",
       "      <td>BAO_0000357</td>\n",
       "      <td>...</td>\n",
       "      <td>Homo sapiens</td>\n",
       "      <td>Cytochrome P450 19A1</td>\n",
       "      <td>9606</td>\n",
       "      <td>None</td>\n",
       "      <td>None</td>\n",
       "      <td>IC50</td>\n",
       "      <td>uM</td>\n",
       "      <td>UO_0000065</td>\n",
       "      <td>None</td>\n",
       "      <td>0.057</td>\n",
       "    </tr>\n",
       "    <tr>\n",
       "      <th>4</th>\n",
       "      <td>None</td>\n",
       "      <td>118017</td>\n",
       "      <td>[]</td>\n",
       "      <td>CHEMBL661700</td>\n",
       "      <td>In vitro inhibition of human Cytochrome P450 19A1</td>\n",
       "      <td>B</td>\n",
       "      <td>None</td>\n",
       "      <td>None</td>\n",
       "      <td>BAO_0000190</td>\n",
       "      <td>BAO_0000357</td>\n",
       "      <td>...</td>\n",
       "      <td>Homo sapiens</td>\n",
       "      <td>Cytochrome P450 19A1</td>\n",
       "      <td>9606</td>\n",
       "      <td>None</td>\n",
       "      <td>None</td>\n",
       "      <td>IC50</td>\n",
       "      <td>uM</td>\n",
       "      <td>UO_0000065</td>\n",
       "      <td>None</td>\n",
       "      <td>0.054</td>\n",
       "    </tr>\n",
       "    <tr>\n",
       "      <th>...</th>\n",
       "      <td>...</td>\n",
       "      <td>...</td>\n",
       "      <td>...</td>\n",
       "      <td>...</td>\n",
       "      <td>...</td>\n",
       "      <td>...</td>\n",
       "      <td>...</td>\n",
       "      <td>...</td>\n",
       "      <td>...</td>\n",
       "      <td>...</td>\n",
       "      <td>...</td>\n",
       "      <td>...</td>\n",
       "      <td>...</td>\n",
       "      <td>...</td>\n",
       "      <td>...</td>\n",
       "      <td>...</td>\n",
       "      <td>...</td>\n",
       "      <td>...</td>\n",
       "      <td>...</td>\n",
       "      <td>...</td>\n",
       "      <td>...</td>\n",
       "    </tr>\n",
       "    <tr>\n",
       "      <th>2889</th>\n",
       "      <td>None</td>\n",
       "      <td>22819795</td>\n",
       "      <td>[{'comments': None, 'relation': '=', 'result_f...</td>\n",
       "      <td>CHEMBL4716146</td>\n",
       "      <td>Inhibition of recombinant human aromatase incu...</td>\n",
       "      <td>B</td>\n",
       "      <td>None</td>\n",
       "      <td>None</td>\n",
       "      <td>BAO_0000179</td>\n",
       "      <td>BAO_0000357</td>\n",
       "      <td>...</td>\n",
       "      <td>Homo sapiens</td>\n",
       "      <td>Cytochrome P450 19A1</td>\n",
       "      <td>9606</td>\n",
       "      <td>None</td>\n",
       "      <td>None</td>\n",
       "      <td>IC50</td>\n",
       "      <td>nM</td>\n",
       "      <td>None</td>\n",
       "      <td>None</td>\n",
       "      <td>5.24</td>\n",
       "    </tr>\n",
       "    <tr>\n",
       "      <th>2890</th>\n",
       "      <td>None</td>\n",
       "      <td>22819796</td>\n",
       "      <td>[{'comments': None, 'relation': '=', 'result_f...</td>\n",
       "      <td>CHEMBL4716146</td>\n",
       "      <td>Inhibition of recombinant human aromatase incu...</td>\n",
       "      <td>B</td>\n",
       "      <td>None</td>\n",
       "      <td>None</td>\n",
       "      <td>BAO_0000179</td>\n",
       "      <td>BAO_0000357</td>\n",
       "      <td>...</td>\n",
       "      <td>Homo sapiens</td>\n",
       "      <td>Cytochrome P450 19A1</td>\n",
       "      <td>9606</td>\n",
       "      <td>None</td>\n",
       "      <td>None</td>\n",
       "      <td>IC50</td>\n",
       "      <td>nM</td>\n",
       "      <td>None</td>\n",
       "      <td>None</td>\n",
       "      <td>104.0</td>\n",
       "    </tr>\n",
       "    <tr>\n",
       "      <th>2891</th>\n",
       "      <td>None</td>\n",
       "      <td>22819797</td>\n",
       "      <td>[{'comments': None, 'relation': '=', 'result_f...</td>\n",
       "      <td>CHEMBL4716146</td>\n",
       "      <td>Inhibition of recombinant human aromatase incu...</td>\n",
       "      <td>B</td>\n",
       "      <td>None</td>\n",
       "      <td>None</td>\n",
       "      <td>BAO_0000179</td>\n",
       "      <td>BAO_0000357</td>\n",
       "      <td>...</td>\n",
       "      <td>Homo sapiens</td>\n",
       "      <td>Cytochrome P450 19A1</td>\n",
       "      <td>9606</td>\n",
       "      <td>None</td>\n",
       "      <td>None</td>\n",
       "      <td>IC50</td>\n",
       "      <td>nM</td>\n",
       "      <td>None</td>\n",
       "      <td>None</td>\n",
       "      <td>17.7</td>\n",
       "    </tr>\n",
       "    <tr>\n",
       "      <th>2892</th>\n",
       "      <td>None</td>\n",
       "      <td>22819798</td>\n",
       "      <td>[{'comments': None, 'relation': '=', 'result_f...</td>\n",
       "      <td>CHEMBL4716146</td>\n",
       "      <td>Inhibition of recombinant human aromatase incu...</td>\n",
       "      <td>B</td>\n",
       "      <td>None</td>\n",
       "      <td>None</td>\n",
       "      <td>BAO_0000179</td>\n",
       "      <td>BAO_0000357</td>\n",
       "      <td>...</td>\n",
       "      <td>Homo sapiens</td>\n",
       "      <td>Cytochrome P450 19A1</td>\n",
       "      <td>9606</td>\n",
       "      <td>None</td>\n",
       "      <td>None</td>\n",
       "      <td>IC50</td>\n",
       "      <td>nM</td>\n",
       "      <td>None</td>\n",
       "      <td>None</td>\n",
       "      <td>60.4</td>\n",
       "    </tr>\n",
       "    <tr>\n",
       "      <th>2893</th>\n",
       "      <td>None</td>\n",
       "      <td>22819799</td>\n",
       "      <td>[{'comments': None, 'relation': '=', 'result_f...</td>\n",
       "      <td>CHEMBL4716146</td>\n",
       "      <td>Inhibition of recombinant human aromatase incu...</td>\n",
       "      <td>B</td>\n",
       "      <td>None</td>\n",
       "      <td>None</td>\n",
       "      <td>BAO_0000179</td>\n",
       "      <td>BAO_0000357</td>\n",
       "      <td>...</td>\n",
       "      <td>Homo sapiens</td>\n",
       "      <td>Cytochrome P450 19A1</td>\n",
       "      <td>9606</td>\n",
       "      <td>None</td>\n",
       "      <td>None</td>\n",
       "      <td>IC50</td>\n",
       "      <td>nM</td>\n",
       "      <td>None</td>\n",
       "      <td>None</td>\n",
       "      <td>439.0</td>\n",
       "    </tr>\n",
       "  </tbody>\n",
       "</table>\n",
       "<p>2818 rows × 45 columns</p>\n",
       "</div>"
      ],
      "text/plain": [
       "     activity_comment  activity_id  \\\n",
       "0                None        82585   \n",
       "1                None        94540   \n",
       "2                None       112960   \n",
       "3                None       116766   \n",
       "4                None       118017   \n",
       "...               ...          ...   \n",
       "2889             None     22819795   \n",
       "2890             None     22819796   \n",
       "2891             None     22819797   \n",
       "2892             None     22819798   \n",
       "2893             None     22819799   \n",
       "\n",
       "                                    activity_properties assay_chembl_id  \\\n",
       "0                                                    []    CHEMBL666794   \n",
       "1                                                    []    CHEMBL666794   \n",
       "2                                                    []    CHEMBL661700   \n",
       "3                                                    []    CHEMBL661700   \n",
       "4                                                    []    CHEMBL661700   \n",
       "...                                                 ...             ...   \n",
       "2889  [{'comments': None, 'relation': '=', 'result_f...   CHEMBL4716146   \n",
       "2890  [{'comments': None, 'relation': '=', 'result_f...   CHEMBL4716146   \n",
       "2891  [{'comments': None, 'relation': '=', 'result_f...   CHEMBL4716146   \n",
       "2892  [{'comments': None, 'relation': '=', 'result_f...   CHEMBL4716146   \n",
       "2893  [{'comments': None, 'relation': '=', 'result_f...   CHEMBL4716146   \n",
       "\n",
       "                                      assay_description assay_type  \\\n",
       "0                    Inhibition of Cytochrome P450 19A1          B   \n",
       "1                    Inhibition of Cytochrome P450 19A1          B   \n",
       "2     In vitro inhibition of human Cytochrome P450 19A1          B   \n",
       "3     In vitro inhibition of human Cytochrome P450 19A1          B   \n",
       "4     In vitro inhibition of human Cytochrome P450 19A1          B   \n",
       "...                                                 ...        ...   \n",
       "2889  Inhibition of recombinant human aromatase incu...          B   \n",
       "2890  Inhibition of recombinant human aromatase incu...          B   \n",
       "2891  Inhibition of recombinant human aromatase incu...          B   \n",
       "2892  Inhibition of recombinant human aromatase incu...          B   \n",
       "2893  Inhibition of recombinant human aromatase incu...          B   \n",
       "\n",
       "     assay_variant_accession assay_variant_mutation bao_endpoint   bao_format  \\\n",
       "0                       None                   None  BAO_0000190  BAO_0000357   \n",
       "1                       None                   None  BAO_0000190  BAO_0000357   \n",
       "2                       None                   None  BAO_0000190  BAO_0000357   \n",
       "3                       None                   None  BAO_0000190  BAO_0000357   \n",
       "4                       None                   None  BAO_0000190  BAO_0000357   \n",
       "...                      ...                    ...          ...          ...   \n",
       "2889                    None                   None  BAO_0000179  BAO_0000357   \n",
       "2890                    None                   None  BAO_0000179  BAO_0000357   \n",
       "2891                    None                   None  BAO_0000179  BAO_0000357   \n",
       "2892                    None                   None  BAO_0000179  BAO_0000357   \n",
       "2893                    None                   None  BAO_0000179  BAO_0000357   \n",
       "\n",
       "      ... target_organism      target_pref_name target_tax_id text_value  \\\n",
       "0     ...    Homo sapiens  Cytochrome P450 19A1          9606       None   \n",
       "1     ...    Homo sapiens  Cytochrome P450 19A1          9606       None   \n",
       "2     ...    Homo sapiens  Cytochrome P450 19A1          9606       None   \n",
       "3     ...    Homo sapiens  Cytochrome P450 19A1          9606       None   \n",
       "4     ...    Homo sapiens  Cytochrome P450 19A1          9606       None   \n",
       "...   ...             ...                   ...           ...        ...   \n",
       "2889  ...    Homo sapiens  Cytochrome P450 19A1          9606       None   \n",
       "2890  ...    Homo sapiens  Cytochrome P450 19A1          9606       None   \n",
       "2891  ...    Homo sapiens  Cytochrome P450 19A1          9606       None   \n",
       "2892  ...    Homo sapiens  Cytochrome P450 19A1          9606       None   \n",
       "2893  ...    Homo sapiens  Cytochrome P450 19A1          9606       None   \n",
       "\n",
       "      toid  type  units    uo_units upper_value  value  \n",
       "0     None  IC50     uM  UO_0000065        None    7.1  \n",
       "1     None  IC50     uM  UO_0000065        None   50.0  \n",
       "2     None  IC50     uM  UO_0000065        None  0.238  \n",
       "3     None  IC50     uM  UO_0000065        None  0.057  \n",
       "4     None  IC50     uM  UO_0000065        None  0.054  \n",
       "...    ...   ...    ...         ...         ...    ...  \n",
       "2889  None  IC50     nM        None        None   5.24  \n",
       "2890  None  IC50     nM        None        None  104.0  \n",
       "2891  None  IC50     nM        None        None   17.7  \n",
       "2892  None  IC50     nM        None        None   60.4  \n",
       "2893  None  IC50     nM        None        None  439.0  \n",
       "\n",
       "[2818 rows x 45 columns]"
      ]
     },
     "execution_count": 21,
     "metadata": {},
     "output_type": "execute_result"
    }
   ],
   "source": [
    "df2 = df[df.standard_value.notna()]\n",
    "df2 = df2[df.canonical_smiles.notna()]\n",
    "df2"
   ]
  },
  {
   "cell_type": "code",
   "execution_count": 22,
   "metadata": {
    "colab": {
     "base_uri": "https://localhost:8080/"
    },
    "id": "wCkuaeVNbdtM",
    "outputId": "9384a400-36b1-49b4-8d97-d095a0df54bb",
    "pycharm": {
     "name": "#%%\n"
    }
   },
   "outputs": [
    {
     "data": {
      "text/plain": [
       "2071"
      ]
     },
     "execution_count": 22,
     "metadata": {},
     "output_type": "execute_result"
    }
   ],
   "source": [
    "len(df2.canonical_smiles.unique())"
   ]
  },
  {
   "cell_type": "code",
   "execution_count": 23,
   "metadata": {
    "colab": {
     "base_uri": "https://localhost:8080/",
     "height": 834
    },
    "id": "JbAK3K7wclkS",
    "outputId": "2446ddfb-1934-49ef-d2e7-4db7a72899f7",
    "pycharm": {
     "name": "#%%\n"
    }
   },
   "outputs": [
    {
     "data": {
      "text/html": [
       "<div>\n",
       "<style scoped>\n",
       "    .dataframe tbody tr th:only-of-type {\n",
       "        vertical-align: middle;\n",
       "    }\n",
       "\n",
       "    .dataframe tbody tr th {\n",
       "        vertical-align: top;\n",
       "    }\n",
       "\n",
       "    .dataframe thead th {\n",
       "        text-align: right;\n",
       "    }\n",
       "</style>\n",
       "<table border=\"1\" class=\"dataframe\">\n",
       "  <thead>\n",
       "    <tr style=\"text-align: right;\">\n",
       "      <th></th>\n",
       "      <th>activity_comment</th>\n",
       "      <th>activity_id</th>\n",
       "      <th>activity_properties</th>\n",
       "      <th>assay_chembl_id</th>\n",
       "      <th>assay_description</th>\n",
       "      <th>assay_type</th>\n",
       "      <th>assay_variant_accession</th>\n",
       "      <th>assay_variant_mutation</th>\n",
       "      <th>bao_endpoint</th>\n",
       "      <th>bao_format</th>\n",
       "      <th>...</th>\n",
       "      <th>target_organism</th>\n",
       "      <th>target_pref_name</th>\n",
       "      <th>target_tax_id</th>\n",
       "      <th>text_value</th>\n",
       "      <th>toid</th>\n",
       "      <th>type</th>\n",
       "      <th>units</th>\n",
       "      <th>uo_units</th>\n",
       "      <th>upper_value</th>\n",
       "      <th>value</th>\n",
       "    </tr>\n",
       "  </thead>\n",
       "  <tbody>\n",
       "    <tr>\n",
       "      <th>0</th>\n",
       "      <td>None</td>\n",
       "      <td>82585</td>\n",
       "      <td>[]</td>\n",
       "      <td>CHEMBL666794</td>\n",
       "      <td>Inhibition of Cytochrome P450 19A1</td>\n",
       "      <td>B</td>\n",
       "      <td>None</td>\n",
       "      <td>None</td>\n",
       "      <td>BAO_0000190</td>\n",
       "      <td>BAO_0000357</td>\n",
       "      <td>...</td>\n",
       "      <td>Homo sapiens</td>\n",
       "      <td>Cytochrome P450 19A1</td>\n",
       "      <td>9606</td>\n",
       "      <td>None</td>\n",
       "      <td>None</td>\n",
       "      <td>IC50</td>\n",
       "      <td>uM</td>\n",
       "      <td>UO_0000065</td>\n",
       "      <td>None</td>\n",
       "      <td>7.1</td>\n",
       "    </tr>\n",
       "    <tr>\n",
       "      <th>1</th>\n",
       "      <td>None</td>\n",
       "      <td>94540</td>\n",
       "      <td>[]</td>\n",
       "      <td>CHEMBL666794</td>\n",
       "      <td>Inhibition of Cytochrome P450 19A1</td>\n",
       "      <td>B</td>\n",
       "      <td>None</td>\n",
       "      <td>None</td>\n",
       "      <td>BAO_0000190</td>\n",
       "      <td>BAO_0000357</td>\n",
       "      <td>...</td>\n",
       "      <td>Homo sapiens</td>\n",
       "      <td>Cytochrome P450 19A1</td>\n",
       "      <td>9606</td>\n",
       "      <td>None</td>\n",
       "      <td>None</td>\n",
       "      <td>IC50</td>\n",
       "      <td>uM</td>\n",
       "      <td>UO_0000065</td>\n",
       "      <td>None</td>\n",
       "      <td>50.0</td>\n",
       "    </tr>\n",
       "    <tr>\n",
       "      <th>2</th>\n",
       "      <td>None</td>\n",
       "      <td>112960</td>\n",
       "      <td>[]</td>\n",
       "      <td>CHEMBL661700</td>\n",
       "      <td>In vitro inhibition of human Cytochrome P450 19A1</td>\n",
       "      <td>B</td>\n",
       "      <td>None</td>\n",
       "      <td>None</td>\n",
       "      <td>BAO_0000190</td>\n",
       "      <td>BAO_0000357</td>\n",
       "      <td>...</td>\n",
       "      <td>Homo sapiens</td>\n",
       "      <td>Cytochrome P450 19A1</td>\n",
       "      <td>9606</td>\n",
       "      <td>None</td>\n",
       "      <td>None</td>\n",
       "      <td>IC50</td>\n",
       "      <td>uM</td>\n",
       "      <td>UO_0000065</td>\n",
       "      <td>None</td>\n",
       "      <td>0.238</td>\n",
       "    </tr>\n",
       "    <tr>\n",
       "      <th>3</th>\n",
       "      <td>None</td>\n",
       "      <td>116766</td>\n",
       "      <td>[]</td>\n",
       "      <td>CHEMBL661700</td>\n",
       "      <td>In vitro inhibition of human Cytochrome P450 19A1</td>\n",
       "      <td>B</td>\n",
       "      <td>None</td>\n",
       "      <td>None</td>\n",
       "      <td>BAO_0000190</td>\n",
       "      <td>BAO_0000357</td>\n",
       "      <td>...</td>\n",
       "      <td>Homo sapiens</td>\n",
       "      <td>Cytochrome P450 19A1</td>\n",
       "      <td>9606</td>\n",
       "      <td>None</td>\n",
       "      <td>None</td>\n",
       "      <td>IC50</td>\n",
       "      <td>uM</td>\n",
       "      <td>UO_0000065</td>\n",
       "      <td>None</td>\n",
       "      <td>0.057</td>\n",
       "    </tr>\n",
       "    <tr>\n",
       "      <th>4</th>\n",
       "      <td>None</td>\n",
       "      <td>118017</td>\n",
       "      <td>[]</td>\n",
       "      <td>CHEMBL661700</td>\n",
       "      <td>In vitro inhibition of human Cytochrome P450 19A1</td>\n",
       "      <td>B</td>\n",
       "      <td>None</td>\n",
       "      <td>None</td>\n",
       "      <td>BAO_0000190</td>\n",
       "      <td>BAO_0000357</td>\n",
       "      <td>...</td>\n",
       "      <td>Homo sapiens</td>\n",
       "      <td>Cytochrome P450 19A1</td>\n",
       "      <td>9606</td>\n",
       "      <td>None</td>\n",
       "      <td>None</td>\n",
       "      <td>IC50</td>\n",
       "      <td>uM</td>\n",
       "      <td>UO_0000065</td>\n",
       "      <td>None</td>\n",
       "      <td>0.054</td>\n",
       "    </tr>\n",
       "    <tr>\n",
       "      <th>...</th>\n",
       "      <td>...</td>\n",
       "      <td>...</td>\n",
       "      <td>...</td>\n",
       "      <td>...</td>\n",
       "      <td>...</td>\n",
       "      <td>...</td>\n",
       "      <td>...</td>\n",
       "      <td>...</td>\n",
       "      <td>...</td>\n",
       "      <td>...</td>\n",
       "      <td>...</td>\n",
       "      <td>...</td>\n",
       "      <td>...</td>\n",
       "      <td>...</td>\n",
       "      <td>...</td>\n",
       "      <td>...</td>\n",
       "      <td>...</td>\n",
       "      <td>...</td>\n",
       "      <td>...</td>\n",
       "      <td>...</td>\n",
       "      <td>...</td>\n",
       "    </tr>\n",
       "    <tr>\n",
       "      <th>2889</th>\n",
       "      <td>None</td>\n",
       "      <td>22819795</td>\n",
       "      <td>[{'comments': None, 'relation': '=', 'result_f...</td>\n",
       "      <td>CHEMBL4716146</td>\n",
       "      <td>Inhibition of recombinant human aromatase incu...</td>\n",
       "      <td>B</td>\n",
       "      <td>None</td>\n",
       "      <td>None</td>\n",
       "      <td>BAO_0000179</td>\n",
       "      <td>BAO_0000357</td>\n",
       "      <td>...</td>\n",
       "      <td>Homo sapiens</td>\n",
       "      <td>Cytochrome P450 19A1</td>\n",
       "      <td>9606</td>\n",
       "      <td>None</td>\n",
       "      <td>None</td>\n",
       "      <td>IC50</td>\n",
       "      <td>nM</td>\n",
       "      <td>None</td>\n",
       "      <td>None</td>\n",
       "      <td>5.24</td>\n",
       "    </tr>\n",
       "    <tr>\n",
       "      <th>2890</th>\n",
       "      <td>None</td>\n",
       "      <td>22819796</td>\n",
       "      <td>[{'comments': None, 'relation': '=', 'result_f...</td>\n",
       "      <td>CHEMBL4716146</td>\n",
       "      <td>Inhibition of recombinant human aromatase incu...</td>\n",
       "      <td>B</td>\n",
       "      <td>None</td>\n",
       "      <td>None</td>\n",
       "      <td>BAO_0000179</td>\n",
       "      <td>BAO_0000357</td>\n",
       "      <td>...</td>\n",
       "      <td>Homo sapiens</td>\n",
       "      <td>Cytochrome P450 19A1</td>\n",
       "      <td>9606</td>\n",
       "      <td>None</td>\n",
       "      <td>None</td>\n",
       "      <td>IC50</td>\n",
       "      <td>nM</td>\n",
       "      <td>None</td>\n",
       "      <td>None</td>\n",
       "      <td>104.0</td>\n",
       "    </tr>\n",
       "    <tr>\n",
       "      <th>2891</th>\n",
       "      <td>None</td>\n",
       "      <td>22819797</td>\n",
       "      <td>[{'comments': None, 'relation': '=', 'result_f...</td>\n",
       "      <td>CHEMBL4716146</td>\n",
       "      <td>Inhibition of recombinant human aromatase incu...</td>\n",
       "      <td>B</td>\n",
       "      <td>None</td>\n",
       "      <td>None</td>\n",
       "      <td>BAO_0000179</td>\n",
       "      <td>BAO_0000357</td>\n",
       "      <td>...</td>\n",
       "      <td>Homo sapiens</td>\n",
       "      <td>Cytochrome P450 19A1</td>\n",
       "      <td>9606</td>\n",
       "      <td>None</td>\n",
       "      <td>None</td>\n",
       "      <td>IC50</td>\n",
       "      <td>nM</td>\n",
       "      <td>None</td>\n",
       "      <td>None</td>\n",
       "      <td>17.7</td>\n",
       "    </tr>\n",
       "    <tr>\n",
       "      <th>2892</th>\n",
       "      <td>None</td>\n",
       "      <td>22819798</td>\n",
       "      <td>[{'comments': None, 'relation': '=', 'result_f...</td>\n",
       "      <td>CHEMBL4716146</td>\n",
       "      <td>Inhibition of recombinant human aromatase incu...</td>\n",
       "      <td>B</td>\n",
       "      <td>None</td>\n",
       "      <td>None</td>\n",
       "      <td>BAO_0000179</td>\n",
       "      <td>BAO_0000357</td>\n",
       "      <td>...</td>\n",
       "      <td>Homo sapiens</td>\n",
       "      <td>Cytochrome P450 19A1</td>\n",
       "      <td>9606</td>\n",
       "      <td>None</td>\n",
       "      <td>None</td>\n",
       "      <td>IC50</td>\n",
       "      <td>nM</td>\n",
       "      <td>None</td>\n",
       "      <td>None</td>\n",
       "      <td>60.4</td>\n",
       "    </tr>\n",
       "    <tr>\n",
       "      <th>2893</th>\n",
       "      <td>None</td>\n",
       "      <td>22819799</td>\n",
       "      <td>[{'comments': None, 'relation': '=', 'result_f...</td>\n",
       "      <td>CHEMBL4716146</td>\n",
       "      <td>Inhibition of recombinant human aromatase incu...</td>\n",
       "      <td>B</td>\n",
       "      <td>None</td>\n",
       "      <td>None</td>\n",
       "      <td>BAO_0000179</td>\n",
       "      <td>BAO_0000357</td>\n",
       "      <td>...</td>\n",
       "      <td>Homo sapiens</td>\n",
       "      <td>Cytochrome P450 19A1</td>\n",
       "      <td>9606</td>\n",
       "      <td>None</td>\n",
       "      <td>None</td>\n",
       "      <td>IC50</td>\n",
       "      <td>nM</td>\n",
       "      <td>None</td>\n",
       "      <td>None</td>\n",
       "      <td>439.0</td>\n",
       "    </tr>\n",
       "  </tbody>\n",
       "</table>\n",
       "<p>2071 rows × 45 columns</p>\n",
       "</div>"
      ],
      "text/plain": [
       "     activity_comment  activity_id  \\\n",
       "0                None        82585   \n",
       "1                None        94540   \n",
       "2                None       112960   \n",
       "3                None       116766   \n",
       "4                None       118017   \n",
       "...               ...          ...   \n",
       "2889             None     22819795   \n",
       "2890             None     22819796   \n",
       "2891             None     22819797   \n",
       "2892             None     22819798   \n",
       "2893             None     22819799   \n",
       "\n",
       "                                    activity_properties assay_chembl_id  \\\n",
       "0                                                    []    CHEMBL666794   \n",
       "1                                                    []    CHEMBL666794   \n",
       "2                                                    []    CHEMBL661700   \n",
       "3                                                    []    CHEMBL661700   \n",
       "4                                                    []    CHEMBL661700   \n",
       "...                                                 ...             ...   \n",
       "2889  [{'comments': None, 'relation': '=', 'result_f...   CHEMBL4716146   \n",
       "2890  [{'comments': None, 'relation': '=', 'result_f...   CHEMBL4716146   \n",
       "2891  [{'comments': None, 'relation': '=', 'result_f...   CHEMBL4716146   \n",
       "2892  [{'comments': None, 'relation': '=', 'result_f...   CHEMBL4716146   \n",
       "2893  [{'comments': None, 'relation': '=', 'result_f...   CHEMBL4716146   \n",
       "\n",
       "                                      assay_description assay_type  \\\n",
       "0                    Inhibition of Cytochrome P450 19A1          B   \n",
       "1                    Inhibition of Cytochrome P450 19A1          B   \n",
       "2     In vitro inhibition of human Cytochrome P450 19A1          B   \n",
       "3     In vitro inhibition of human Cytochrome P450 19A1          B   \n",
       "4     In vitro inhibition of human Cytochrome P450 19A1          B   \n",
       "...                                                 ...        ...   \n",
       "2889  Inhibition of recombinant human aromatase incu...          B   \n",
       "2890  Inhibition of recombinant human aromatase incu...          B   \n",
       "2891  Inhibition of recombinant human aromatase incu...          B   \n",
       "2892  Inhibition of recombinant human aromatase incu...          B   \n",
       "2893  Inhibition of recombinant human aromatase incu...          B   \n",
       "\n",
       "     assay_variant_accession assay_variant_mutation bao_endpoint   bao_format  \\\n",
       "0                       None                   None  BAO_0000190  BAO_0000357   \n",
       "1                       None                   None  BAO_0000190  BAO_0000357   \n",
       "2                       None                   None  BAO_0000190  BAO_0000357   \n",
       "3                       None                   None  BAO_0000190  BAO_0000357   \n",
       "4                       None                   None  BAO_0000190  BAO_0000357   \n",
       "...                      ...                    ...          ...          ...   \n",
       "2889                    None                   None  BAO_0000179  BAO_0000357   \n",
       "2890                    None                   None  BAO_0000179  BAO_0000357   \n",
       "2891                    None                   None  BAO_0000179  BAO_0000357   \n",
       "2892                    None                   None  BAO_0000179  BAO_0000357   \n",
       "2893                    None                   None  BAO_0000179  BAO_0000357   \n",
       "\n",
       "      ... target_organism      target_pref_name target_tax_id text_value  \\\n",
       "0     ...    Homo sapiens  Cytochrome P450 19A1          9606       None   \n",
       "1     ...    Homo sapiens  Cytochrome P450 19A1          9606       None   \n",
       "2     ...    Homo sapiens  Cytochrome P450 19A1          9606       None   \n",
       "3     ...    Homo sapiens  Cytochrome P450 19A1          9606       None   \n",
       "4     ...    Homo sapiens  Cytochrome P450 19A1          9606       None   \n",
       "...   ...             ...                   ...           ...        ...   \n",
       "2889  ...    Homo sapiens  Cytochrome P450 19A1          9606       None   \n",
       "2890  ...    Homo sapiens  Cytochrome P450 19A1          9606       None   \n",
       "2891  ...    Homo sapiens  Cytochrome P450 19A1          9606       None   \n",
       "2892  ...    Homo sapiens  Cytochrome P450 19A1          9606       None   \n",
       "2893  ...    Homo sapiens  Cytochrome P450 19A1          9606       None   \n",
       "\n",
       "      toid  type  units    uo_units upper_value  value  \n",
       "0     None  IC50     uM  UO_0000065        None    7.1  \n",
       "1     None  IC50     uM  UO_0000065        None   50.0  \n",
       "2     None  IC50     uM  UO_0000065        None  0.238  \n",
       "3     None  IC50     uM  UO_0000065        None  0.057  \n",
       "4     None  IC50     uM  UO_0000065        None  0.054  \n",
       "...    ...   ...    ...         ...         ...    ...  \n",
       "2889  None  IC50     nM        None        None   5.24  \n",
       "2890  None  IC50     nM        None        None  104.0  \n",
       "2891  None  IC50     nM        None        None   17.7  \n",
       "2892  None  IC50     nM        None        None   60.4  \n",
       "2893  None  IC50     nM        None        None  439.0  \n",
       "\n",
       "[2071 rows x 45 columns]"
      ]
     },
     "execution_count": 23,
     "metadata": {},
     "output_type": "execute_result"
    }
   ],
   "source": [
    "df2_nr = df2.drop_duplicates(['canonical_smiles']) #drop smiles ที่ซ้ำกันทิ้ง\n",
    "df2_nr"
   ]
  },
  {
   "cell_type": "code",
   "execution_count": 24,
   "metadata": {
    "id": "4ugsk1PK6fTx",
    "pycharm": {
     "name": "#%%\n"
    }
   },
   "outputs": [],
   "source": [
    "df2.to_csv(tg+'_0_bioactivity_data_raw.csv', index=False)"
   ]
  },
  {
   "cell_type": "markdown",
   "metadata": {
    "id": "5H4sSFAWhV9B",
    "pycharm": {
     "name": "#%% md\n"
    }
   },
   "source": [
    "## **Data pre-processing of the bioactivity data**"
   ]
  },
  {
   "cell_type": "markdown",
   "metadata": {
    "id": "Nv2dzid_hzKd",
    "pycharm": {
     "name": "#%% md\n"
    }
   },
   "source": [
    " Combine the 3 columns (molecule_chembl_id,canonical_smiles,standard_value) and bioactivity_class into a DataFrame"
   ]
  },
  {
   "cell_type": "code",
   "execution_count": 43,
   "metadata": {
    "colab": {
     "base_uri": "https://localhost:8080/",
     "height": 424
    },
    "id": "0NCLYmrASgha",
    "outputId": "71b212ba-e337-464b-9052-5ad8d60d404d",
    "pycharm": {
     "name": "#%%\n"
    }
   },
   "outputs": [
    {
     "data": {
      "text/html": [
       "<div>\n",
       "<style scoped>\n",
       "    .dataframe tbody tr th:only-of-type {\n",
       "        vertical-align: middle;\n",
       "    }\n",
       "\n",
       "    .dataframe tbody tr th {\n",
       "        vertical-align: top;\n",
       "    }\n",
       "\n",
       "    .dataframe thead th {\n",
       "        text-align: right;\n",
       "    }\n",
       "</style>\n",
       "<table border=\"1\" class=\"dataframe\">\n",
       "  <thead>\n",
       "    <tr style=\"text-align: right;\">\n",
       "      <th></th>\n",
       "      <th>molecule_chembl_id</th>\n",
       "      <th>canonical_smiles</th>\n",
       "      <th>standard_value</th>\n",
       "    </tr>\n",
       "  </thead>\n",
       "  <tbody>\n",
       "    <tr>\n",
       "      <th>0</th>\n",
       "      <td>CHEMBL341591</td>\n",
       "      <td>CC12CCC(O)CC1=CCC1C2CCC2(C)C(CC3CN3)CCC12</td>\n",
       "      <td>7100.0</td>\n",
       "    </tr>\n",
       "    <tr>\n",
       "      <th>1</th>\n",
       "      <td>CHEMBL2111947</td>\n",
       "      <td>C[C@]12CC[C@H]3[C@@H](CC=C4C[C@@H](O)CC[C@@]43...</td>\n",
       "      <td>50000.0</td>\n",
       "    </tr>\n",
       "    <tr>\n",
       "      <th>2</th>\n",
       "      <td>CHEMBL431859</td>\n",
       "      <td>CCn1c(C(c2ccc(F)cc2)n2ccnc2)c(C)c2cc(Br)ccc21</td>\n",
       "      <td>238.0</td>\n",
       "    </tr>\n",
       "    <tr>\n",
       "      <th>3</th>\n",
       "      <td>CHEMBL113637</td>\n",
       "      <td>CCn1cc(C(c2ccc(F)cc2)n2ccnc2)c2ccccc21</td>\n",
       "      <td>57.0</td>\n",
       "    </tr>\n",
       "    <tr>\n",
       "      <th>4</th>\n",
       "      <td>CHEMBL112021</td>\n",
       "      <td>Clc1ccccc1Cn1cc(Cn2ccnc2)c2ccccc21</td>\n",
       "      <td>54.0</td>\n",
       "    </tr>\n",
       "    <tr>\n",
       "      <th>...</th>\n",
       "      <td>...</td>\n",
       "      <td>...</td>\n",
       "      <td>...</td>\n",
       "    </tr>\n",
       "    <tr>\n",
       "      <th>2889</th>\n",
       "      <td>CHEMBL4755831</td>\n",
       "      <td>Nc1ccc(C(Cn2ccnc2)=C(c2ccc(O)cc2)c2ccc(O)cc2)cc1</td>\n",
       "      <td>5.24</td>\n",
       "    </tr>\n",
       "    <tr>\n",
       "      <th>2890</th>\n",
       "      <td>CHEMBL4750835</td>\n",
       "      <td>Nc1ccc(C(Cn2cncn2)=C(c2ccc(O)cc2)c2ccc(O)cc2)cc1</td>\n",
       "      <td>104.0</td>\n",
       "    </tr>\n",
       "    <tr>\n",
       "      <th>2891</th>\n",
       "      <td>CHEMBL4745681</td>\n",
       "      <td>Nc1ccc(C(Cn2cnnc2)=C(c2ccc(O)cc2)c2ccc(O)cc2)cc1</td>\n",
       "      <td>17.7</td>\n",
       "    </tr>\n",
       "    <tr>\n",
       "      <th>2892</th>\n",
       "      <td>CHEMBL4778401</td>\n",
       "      <td>Oc1ccc(C(=C(Cn2ccnc2)c2cccc(O)c2)c2ccc(O)cc2)cc1</td>\n",
       "      <td>60.4</td>\n",
       "    </tr>\n",
       "    <tr>\n",
       "      <th>2893</th>\n",
       "      <td>CHEMBL4761359</td>\n",
       "      <td>Nc1cccc(C(Cn2ccnc2)=C(c2ccc(O)cc2)c2ccc(O)cc2)c1</td>\n",
       "      <td>439.0</td>\n",
       "    </tr>\n",
       "  </tbody>\n",
       "</table>\n",
       "<p>2071 rows × 3 columns</p>\n",
       "</div>"
      ],
      "text/plain": [
       "     molecule_chembl_id                                   canonical_smiles  \\\n",
       "0          CHEMBL341591          CC12CCC(O)CC1=CCC1C2CCC2(C)C(CC3CN3)CCC12   \n",
       "1         CHEMBL2111947  C[C@]12CC[C@H]3[C@@H](CC=C4C[C@@H](O)CC[C@@]43...   \n",
       "2          CHEMBL431859      CCn1c(C(c2ccc(F)cc2)n2ccnc2)c(C)c2cc(Br)ccc21   \n",
       "3          CHEMBL113637             CCn1cc(C(c2ccc(F)cc2)n2ccnc2)c2ccccc21   \n",
       "4          CHEMBL112021                 Clc1ccccc1Cn1cc(Cn2ccnc2)c2ccccc21   \n",
       "...                 ...                                                ...   \n",
       "2889      CHEMBL4755831   Nc1ccc(C(Cn2ccnc2)=C(c2ccc(O)cc2)c2ccc(O)cc2)cc1   \n",
       "2890      CHEMBL4750835   Nc1ccc(C(Cn2cncn2)=C(c2ccc(O)cc2)c2ccc(O)cc2)cc1   \n",
       "2891      CHEMBL4745681   Nc1ccc(C(Cn2cnnc2)=C(c2ccc(O)cc2)c2ccc(O)cc2)cc1   \n",
       "2892      CHEMBL4778401   Oc1ccc(C(=C(Cn2ccnc2)c2cccc(O)c2)c2ccc(O)cc2)cc1   \n",
       "2893      CHEMBL4761359   Nc1cccc(C(Cn2ccnc2)=C(c2ccc(O)cc2)c2ccc(O)cc2)c1   \n",
       "\n",
       "     standard_value  \n",
       "0            7100.0  \n",
       "1           50000.0  \n",
       "2             238.0  \n",
       "3              57.0  \n",
       "4              54.0  \n",
       "...             ...  \n",
       "2889           5.24  \n",
       "2890          104.0  \n",
       "2891           17.7  \n",
       "2892           60.4  \n",
       "2893          439.0  \n",
       "\n",
       "[2071 rows x 3 columns]"
      ]
     },
     "execution_count": 43,
     "metadata": {},
     "output_type": "execute_result"
    }
   ],
   "source": [
    "selection = ['molecule_chembl_id','canonical_smiles','standard_value']\n",
    "df3 = df2_nr[selection]\n",
    "df3"
   ]
  },
  {
   "cell_type": "markdown",
   "metadata": {
    "id": "d0ObVWGmkj_L",
    "pycharm": {
     "name": "#%% md\n"
    }
   },
   "source": [
    "Saves dataframe to CSV file"
   ]
  },
  {
   "cell_type": "code",
   "execution_count": 44,
   "metadata": {
    "id": "pAzJTVu4kMd_",
    "pycharm": {
     "name": "#%%\n"
    }
   },
   "outputs": [],
   "source": [
    "df3.to_csv(tg+'_02_bioactivity_data_preprocessed.csv', index=False)"
   ]
  },
  {
   "cell_type": "markdown",
   "metadata": {
    "id": "tO22XVlzhkXR",
    "pycharm": {
     "name": "#%% md\n"
    }
   },
   "source": [
    "### **Labeling compounds as either being active, inactive or intermediate**\n",
    "The bioactivity data is in the IC50 unit. Values of less than 1000 nM will be considered to be **active** while those greater than 10,000 nM will be considered to be **inactive**. If values in between 1,000 and 10,000 nM will be referred to as **intermediate**. "
   ]
  },
  {
   "cell_type": "code",
   "execution_count": 45,
   "metadata": {
    "id": "Ck9Z2M9CkRy_",
    "pycharm": {
     "name": "#%%\n"
    }
   },
   "outputs": [],
   "source": [
    "df4 = pd.read_csv(tg+'_02_bioactivity_data_preprocessed.csv')"
   ]
  },
  {
   "cell_type": "code",
   "execution_count": 46,
   "metadata": {
    "id": "1E8rz7oMOd-5",
    "pycharm": {
     "name": "#%%\n"
    }
   },
   "outputs": [],
   "source": [
    "bioactivity_threshold = []\n",
    "for i in df4.standard_value:\n",
    "  if float(i) >= 10000:\n",
    "    bioactivity_threshold.append(\"inactive\")\n",
    "  elif float(i) <= 1000:\n",
    "    bioactivity_threshold.append(\"active\")\n",
    "  else:\n",
    "    bioactivity_threshold.append(\"intermediate\")"
   ]
  },
  {
   "cell_type": "code",
   "execution_count": null,
   "metadata": {},
   "outputs": [],
   "source": []
  },
  {
   "cell_type": "markdown",
   "metadata": {
    "id": "wWnoNTWAN4To",
    "pycharm": {
     "name": "#%% md\n"
    }
   },
   "source": [
    "###lterate the molecule_cembl_id to a list"
   ]
  },
  {
   "cell_type": "code",
   "execution_count": 47,
   "metadata": {
    "id": "cEY6w9IdOXNm",
    "pycharm": {
     "name": "#%%\n"
    }
   },
   "outputs": [],
   "source": [
    "mol_cid = []\n",
    "for i in df4.molecule_chembl_id:\n",
    "  mol_cid.append(i)"
   ]
  },
  {
   "cell_type": "markdown",
   "metadata": {
    "id": "703HRMuXOI7A",
    "pycharm": {
     "name": "#%% md\n"
    }
   },
   "source": [
    "###lterate canonical_smiles to a list"
   ]
  },
  {
   "cell_type": "code",
   "execution_count": 48,
   "metadata": {
    "id": "KULFWjjfNZLS",
    "pycharm": {
     "name": "#%%\n"
    }
   },
   "outputs": [],
   "source": [
    "canonical_smiles = []\n",
    "for i in df4.canonical_smiles:\n",
    "  canonical_smiles.append(i)"
   ]
  },
  {
   "cell_type": "markdown",
   "metadata": {
    "id": "0TIyXHzXOy2K",
    "pycharm": {
     "name": "#%% md\n"
    }
   },
   "source": [
    "###lterate standard_value to a list"
   ]
  },
  {
   "cell_type": "code",
   "execution_count": 49,
   "metadata": {
    "id": "WYikOwKoPRrA",
    "pycharm": {
     "name": "#%%\n"
    }
   },
   "outputs": [],
   "source": [
    "standard_value = []\n",
    "for i in df4.standard_value:\n",
    "  standard_value.append(i)"
   ]
  },
  {
   "cell_type": "markdown",
   "metadata": {
    "id": "GBo8yzcQTSLN",
    "pycharm": {
     "name": "#%% md\n"
    }
   },
   "source": [
    "###Alternative method"
   ]
  },
  {
   "cell_type": "code",
   "execution_count": 50,
   "metadata": {
    "colab": {
     "base_uri": "https://localhost:8080/",
     "height": 424
    },
    "id": "XKB60LXTTSfB",
    "outputId": "aa31c8c2-f609-41ef-b964-8793cb34a5d8",
    "pycharm": {
     "name": "#%%\n"
    }
   },
   "outputs": [
    {
     "data": {
      "text/html": [
       "<div>\n",
       "<style scoped>\n",
       "    .dataframe tbody tr th:only-of-type {\n",
       "        vertical-align: middle;\n",
       "    }\n",
       "\n",
       "    .dataframe tbody tr th {\n",
       "        vertical-align: top;\n",
       "    }\n",
       "\n",
       "    .dataframe thead th {\n",
       "        text-align: right;\n",
       "    }\n",
       "</style>\n",
       "<table border=\"1\" class=\"dataframe\">\n",
       "  <thead>\n",
       "    <tr style=\"text-align: right;\">\n",
       "      <th></th>\n",
       "      <th>molecule_chembl_id</th>\n",
       "      <th>canonical_smiles</th>\n",
       "      <th>standard_value</th>\n",
       "    </tr>\n",
       "  </thead>\n",
       "  <tbody>\n",
       "    <tr>\n",
       "      <th>0</th>\n",
       "      <td>CHEMBL341591</td>\n",
       "      <td>CC12CCC(O)CC1=CCC1C2CCC2(C)C(CC3CN3)CCC12</td>\n",
       "      <td>7100.00</td>\n",
       "    </tr>\n",
       "    <tr>\n",
       "      <th>1</th>\n",
       "      <td>CHEMBL2111947</td>\n",
       "      <td>C[C@]12CC[C@H]3[C@@H](CC=C4C[C@@H](O)CC[C@@]43...</td>\n",
       "      <td>50000.00</td>\n",
       "    </tr>\n",
       "    <tr>\n",
       "      <th>2</th>\n",
       "      <td>CHEMBL431859</td>\n",
       "      <td>CCn1c(C(c2ccc(F)cc2)n2ccnc2)c(C)c2cc(Br)ccc21</td>\n",
       "      <td>238.00</td>\n",
       "    </tr>\n",
       "    <tr>\n",
       "      <th>3</th>\n",
       "      <td>CHEMBL113637</td>\n",
       "      <td>CCn1cc(C(c2ccc(F)cc2)n2ccnc2)c2ccccc21</td>\n",
       "      <td>57.00</td>\n",
       "    </tr>\n",
       "    <tr>\n",
       "      <th>4</th>\n",
       "      <td>CHEMBL112021</td>\n",
       "      <td>Clc1ccccc1Cn1cc(Cn2ccnc2)c2ccccc21</td>\n",
       "      <td>54.00</td>\n",
       "    </tr>\n",
       "    <tr>\n",
       "      <th>...</th>\n",
       "      <td>...</td>\n",
       "      <td>...</td>\n",
       "      <td>...</td>\n",
       "    </tr>\n",
       "    <tr>\n",
       "      <th>2066</th>\n",
       "      <td>CHEMBL4755831</td>\n",
       "      <td>Nc1ccc(C(Cn2ccnc2)=C(c2ccc(O)cc2)c2ccc(O)cc2)cc1</td>\n",
       "      <td>5.24</td>\n",
       "    </tr>\n",
       "    <tr>\n",
       "      <th>2067</th>\n",
       "      <td>CHEMBL4750835</td>\n",
       "      <td>Nc1ccc(C(Cn2cncn2)=C(c2ccc(O)cc2)c2ccc(O)cc2)cc1</td>\n",
       "      <td>104.00</td>\n",
       "    </tr>\n",
       "    <tr>\n",
       "      <th>2068</th>\n",
       "      <td>CHEMBL4745681</td>\n",
       "      <td>Nc1ccc(C(Cn2cnnc2)=C(c2ccc(O)cc2)c2ccc(O)cc2)cc1</td>\n",
       "      <td>17.70</td>\n",
       "    </tr>\n",
       "    <tr>\n",
       "      <th>2069</th>\n",
       "      <td>CHEMBL4778401</td>\n",
       "      <td>Oc1ccc(C(=C(Cn2ccnc2)c2cccc(O)c2)c2ccc(O)cc2)cc1</td>\n",
       "      <td>60.40</td>\n",
       "    </tr>\n",
       "    <tr>\n",
       "      <th>2070</th>\n",
       "      <td>CHEMBL4761359</td>\n",
       "      <td>Nc1cccc(C(Cn2ccnc2)=C(c2ccc(O)cc2)c2ccc(O)cc2)c1</td>\n",
       "      <td>439.00</td>\n",
       "    </tr>\n",
       "  </tbody>\n",
       "</table>\n",
       "<p>2071 rows × 3 columns</p>\n",
       "</div>"
      ],
      "text/plain": [
       "     molecule_chembl_id                                   canonical_smiles  \\\n",
       "0          CHEMBL341591          CC12CCC(O)CC1=CCC1C2CCC2(C)C(CC3CN3)CCC12   \n",
       "1         CHEMBL2111947  C[C@]12CC[C@H]3[C@@H](CC=C4C[C@@H](O)CC[C@@]43...   \n",
       "2          CHEMBL431859      CCn1c(C(c2ccc(F)cc2)n2ccnc2)c(C)c2cc(Br)ccc21   \n",
       "3          CHEMBL113637             CCn1cc(C(c2ccc(F)cc2)n2ccnc2)c2ccccc21   \n",
       "4          CHEMBL112021                 Clc1ccccc1Cn1cc(Cn2ccnc2)c2ccccc21   \n",
       "...                 ...                                                ...   \n",
       "2066      CHEMBL4755831   Nc1ccc(C(Cn2ccnc2)=C(c2ccc(O)cc2)c2ccc(O)cc2)cc1   \n",
       "2067      CHEMBL4750835   Nc1ccc(C(Cn2cncn2)=C(c2ccc(O)cc2)c2ccc(O)cc2)cc1   \n",
       "2068      CHEMBL4745681   Nc1ccc(C(Cn2cnnc2)=C(c2ccc(O)cc2)c2ccc(O)cc2)cc1   \n",
       "2069      CHEMBL4778401   Oc1ccc(C(=C(Cn2ccnc2)c2cccc(O)c2)c2ccc(O)cc2)cc1   \n",
       "2070      CHEMBL4761359   Nc1cccc(C(Cn2ccnc2)=C(c2ccc(O)cc2)c2ccc(O)cc2)c1   \n",
       "\n",
       "      standard_value  \n",
       "0            7100.00  \n",
       "1           50000.00  \n",
       "2             238.00  \n",
       "3              57.00  \n",
       "4              54.00  \n",
       "...              ...  \n",
       "2066            5.24  \n",
       "2067          104.00  \n",
       "2068           17.70  \n",
       "2069           60.40  \n",
       "2070          439.00  \n",
       "\n",
       "[2071 rows x 3 columns]"
      ]
     },
     "execution_count": 50,
     "metadata": {},
     "output_type": "execute_result"
    }
   ],
   "source": [
    "selection = ['molecule_chembl_id', 'canonical_smiles', 'standard_value']\n",
    "df4[selection]"
   ]
  },
  {
   "cell_type": "code",
   "execution_count": 51,
   "metadata": {
    "colab": {
     "base_uri": "https://localhost:8080/",
     "height": 424
    },
    "id": "Li64nUiZQ-y2",
    "outputId": "d68565d1-2964-4ce4-bc79-5c9346d1b621",
    "pycharm": {
     "name": "#%%\n"
    }
   },
   "outputs": [
    {
     "data": {
      "text/html": [
       "<div>\n",
       "<style scoped>\n",
       "    .dataframe tbody tr th:only-of-type {\n",
       "        vertical-align: middle;\n",
       "    }\n",
       "\n",
       "    .dataframe tbody tr th {\n",
       "        vertical-align: top;\n",
       "    }\n",
       "\n",
       "    .dataframe thead th {\n",
       "        text-align: right;\n",
       "    }\n",
       "</style>\n",
       "<table border=\"1\" class=\"dataframe\">\n",
       "  <thead>\n",
       "    <tr style=\"text-align: right;\">\n",
       "      <th></th>\n",
       "      <th>molecule_chembl_id</th>\n",
       "      <th>canonical_smiles</th>\n",
       "      <th>standard_value</th>\n",
       "      <th>class</th>\n",
       "    </tr>\n",
       "  </thead>\n",
       "  <tbody>\n",
       "    <tr>\n",
       "      <th>0</th>\n",
       "      <td>CHEMBL341591</td>\n",
       "      <td>CC12CCC(O)CC1=CCC1C2CCC2(C)C(CC3CN3)CCC12</td>\n",
       "      <td>7100.00</td>\n",
       "      <td>intermediate</td>\n",
       "    </tr>\n",
       "    <tr>\n",
       "      <th>1</th>\n",
       "      <td>CHEMBL2111947</td>\n",
       "      <td>C[C@]12CC[C@H]3[C@@H](CC=C4C[C@@H](O)CC[C@@]43...</td>\n",
       "      <td>50000.00</td>\n",
       "      <td>inactive</td>\n",
       "    </tr>\n",
       "    <tr>\n",
       "      <th>2</th>\n",
       "      <td>CHEMBL431859</td>\n",
       "      <td>CCn1c(C(c2ccc(F)cc2)n2ccnc2)c(C)c2cc(Br)ccc21</td>\n",
       "      <td>238.00</td>\n",
       "      <td>active</td>\n",
       "    </tr>\n",
       "    <tr>\n",
       "      <th>3</th>\n",
       "      <td>CHEMBL113637</td>\n",
       "      <td>CCn1cc(C(c2ccc(F)cc2)n2ccnc2)c2ccccc21</td>\n",
       "      <td>57.00</td>\n",
       "      <td>active</td>\n",
       "    </tr>\n",
       "    <tr>\n",
       "      <th>4</th>\n",
       "      <td>CHEMBL112021</td>\n",
       "      <td>Clc1ccccc1Cn1cc(Cn2ccnc2)c2ccccc21</td>\n",
       "      <td>54.00</td>\n",
       "      <td>active</td>\n",
       "    </tr>\n",
       "    <tr>\n",
       "      <th>...</th>\n",
       "      <td>...</td>\n",
       "      <td>...</td>\n",
       "      <td>...</td>\n",
       "      <td>...</td>\n",
       "    </tr>\n",
       "    <tr>\n",
       "      <th>2066</th>\n",
       "      <td>CHEMBL4755831</td>\n",
       "      <td>Nc1ccc(C(Cn2ccnc2)=C(c2ccc(O)cc2)c2ccc(O)cc2)cc1</td>\n",
       "      <td>5.24</td>\n",
       "      <td>active</td>\n",
       "    </tr>\n",
       "    <tr>\n",
       "      <th>2067</th>\n",
       "      <td>CHEMBL4750835</td>\n",
       "      <td>Nc1ccc(C(Cn2cncn2)=C(c2ccc(O)cc2)c2ccc(O)cc2)cc1</td>\n",
       "      <td>104.00</td>\n",
       "      <td>active</td>\n",
       "    </tr>\n",
       "    <tr>\n",
       "      <th>2068</th>\n",
       "      <td>CHEMBL4745681</td>\n",
       "      <td>Nc1ccc(C(Cn2cnnc2)=C(c2ccc(O)cc2)c2ccc(O)cc2)cc1</td>\n",
       "      <td>17.70</td>\n",
       "      <td>active</td>\n",
       "    </tr>\n",
       "    <tr>\n",
       "      <th>2069</th>\n",
       "      <td>CHEMBL4778401</td>\n",
       "      <td>Oc1ccc(C(=C(Cn2ccnc2)c2cccc(O)c2)c2ccc(O)cc2)cc1</td>\n",
       "      <td>60.40</td>\n",
       "      <td>active</td>\n",
       "    </tr>\n",
       "    <tr>\n",
       "      <th>2070</th>\n",
       "      <td>CHEMBL4761359</td>\n",
       "      <td>Nc1cccc(C(Cn2ccnc2)=C(c2ccc(O)cc2)c2ccc(O)cc2)c1</td>\n",
       "      <td>439.00</td>\n",
       "      <td>active</td>\n",
       "    </tr>\n",
       "  </tbody>\n",
       "</table>\n",
       "<p>2071 rows × 4 columns</p>\n",
       "</div>"
      ],
      "text/plain": [
       "     molecule_chembl_id                                   canonical_smiles  \\\n",
       "0          CHEMBL341591          CC12CCC(O)CC1=CCC1C2CCC2(C)C(CC3CN3)CCC12   \n",
       "1         CHEMBL2111947  C[C@]12CC[C@H]3[C@@H](CC=C4C[C@@H](O)CC[C@@]43...   \n",
       "2          CHEMBL431859      CCn1c(C(c2ccc(F)cc2)n2ccnc2)c(C)c2cc(Br)ccc21   \n",
       "3          CHEMBL113637             CCn1cc(C(c2ccc(F)cc2)n2ccnc2)c2ccccc21   \n",
       "4          CHEMBL112021                 Clc1ccccc1Cn1cc(Cn2ccnc2)c2ccccc21   \n",
       "...                 ...                                                ...   \n",
       "2066      CHEMBL4755831   Nc1ccc(C(Cn2ccnc2)=C(c2ccc(O)cc2)c2ccc(O)cc2)cc1   \n",
       "2067      CHEMBL4750835   Nc1ccc(C(Cn2cncn2)=C(c2ccc(O)cc2)c2ccc(O)cc2)cc1   \n",
       "2068      CHEMBL4745681   Nc1ccc(C(Cn2cnnc2)=C(c2ccc(O)cc2)c2ccc(O)cc2)cc1   \n",
       "2069      CHEMBL4778401   Oc1ccc(C(=C(Cn2ccnc2)c2cccc(O)c2)c2ccc(O)cc2)cc1   \n",
       "2070      CHEMBL4761359   Nc1cccc(C(Cn2ccnc2)=C(c2ccc(O)cc2)c2ccc(O)cc2)c1   \n",
       "\n",
       "      standard_value         class  \n",
       "0            7100.00  intermediate  \n",
       "1           50000.00      inactive  \n",
       "2             238.00        active  \n",
       "3              57.00        active  \n",
       "4              54.00        active  \n",
       "...              ...           ...  \n",
       "2066            5.24        active  \n",
       "2067          104.00        active  \n",
       "2068           17.70        active  \n",
       "2069           60.40        active  \n",
       "2070          439.00        active  \n",
       "\n",
       "[2071 rows x 4 columns]"
      ]
     },
     "execution_count": 51,
     "metadata": {},
     "output_type": "execute_result"
    }
   ],
   "source": [
    "bioactivity_class = pd.Series(bioactivity_threshold, name='class')\n",
    "df5 = pd.concat([df4, bioactivity_class], axis=1)\n",
    "df5"
   ]
  },
  {
   "cell_type": "code",
   "execution_count": 52,
   "metadata": {
    "colab": {
     "base_uri": "https://localhost:8080/"
    },
    "id": "cMudJOtz4Y8m",
    "outputId": "15969353-e6cc-4124-d017-7e34e5cd0e6d",
    "pycharm": {
     "name": "#%%\n"
    }
   },
   "outputs": [
    {
     "name": "stdout",
     "output_type": "stream",
     "text": [
      "<class 'pandas.core.frame.DataFrame'>\n",
      "RangeIndex: 2071 entries, 0 to 2070\n",
      "Data columns (total 4 columns):\n",
      " #   Column              Non-Null Count  Dtype  \n",
      "---  ------              --------------  -----  \n",
      " 0   molecule_chembl_id  2071 non-null   object \n",
      " 1   canonical_smiles    2071 non-null   object \n",
      " 2   standard_value      2071 non-null   float64\n",
      " 3   class               2071 non-null   object \n",
      "dtypes: float64(1), object(3)\n",
      "memory usage: 64.8+ KB\n"
     ]
    }
   ],
   "source": [
    "df5.info()"
   ]
  },
  {
   "cell_type": "markdown",
   "metadata": {
    "id": "9tlgyexWh7YJ",
    "pycharm": {
     "name": "#%% md\n"
    }
   },
   "source": [
    "Saves dataframe to CSV file"
   ]
  },
  {
   "cell_type": "code",
   "execution_count": 53,
   "metadata": {
    "id": "V6CxLVAWK7Ud",
    "pycharm": {
     "name": "#%%\n"
    }
   },
   "outputs": [],
   "source": [
    "namef = tg + '_03_bioactivity_data_preprocessed.csv'"
   ]
  },
  {
   "cell_type": "code",
   "execution_count": 54,
   "metadata": {
    "id": "nSNia7suXstR",
    "pycharm": {
     "name": "#%%\n"
    }
   },
   "outputs": [],
   "source": [
    "df5.to_csv(namef, index=False)"
   ]
  },
  {
   "cell_type": "code",
   "execution_count": 55,
   "metadata": {
    "colab": {
     "base_uri": "https://localhost:8080/"
    },
    "id": "nAwKMNbRZg8p",
    "outputId": "7486c3f7-1978-4197-d898-b3c3a1be4d63",
    "pycharm": {
     "name": "#%%\n"
    }
   },
   "outputs": [
    {
     "name": "stderr",
     "output_type": "stream",
     "text": [
      "'ls' is not recognized as an internal or external command,\n",
      "operable program or batch file.\n"
     ]
    }
   ],
   "source": [
    "! ls -l"
   ]
  },
  {
   "cell_type": "code",
   "execution_count": 56,
   "metadata": {
    "colab": {
     "base_uri": "https://localhost:8080/"
    },
    "id": "0eCQTu9MnzyH",
    "outputId": "fa63107e-51f6-4f51-a33d-c2fe81264caa",
    "pycharm": {
     "name": "#%%\n"
    }
   },
   "outputs": [
    {
     "name": "stdout",
     "output_type": "stream",
     "text": [
      "  adding: aromatase_02_bioactivity_data_preprocessed.csv (172 bytes security) (deflated 80%)\n",
      "  adding: aromatase_03_bioactivity_data_preprocessed.csv (172 bytes security) (deflated 81%)\n",
      "  adding: aromatase_0_bioactivity_data_raw.csv (172 bytes security) (deflated 90%)\n"
     ]
    }
   ],
   "source": [
    "! zip acetylcholinesterase.zip *.csv"
   ]
  }
 ],
 "metadata": {
  "colab": {
   "collapsed_sections": [],
   "name": "CDD_ML_Part_1_Target_Bioactivity_Data_Concised.ipynb",
   "provenance": []
  },
  "interpreter": {
   "hash": "2b4c40b39fc44fc86fd6cb3b15ca6416e9236c9e47898a7b19bacdbb6102ad94"
  },
  "kernelspec": {
   "display_name": "Python 3.10.5 64-bit",
   "language": "python",
   "name": "python3"
  },
  "language_info": {
   "codemirror_mode": {
    "name": "ipython",
    "version": 3
   },
   "file_extension": ".py",
   "mimetype": "text/x-python",
   "name": "python",
   "nbconvert_exporter": "python",
   "pygments_lexer": "ipython3",
   "version": "3.10.5"
  },
  "vscode": {
   "interpreter": {
    "hash": "c347c8f9a7ef94e4c9e03b4513be7835ed18f45b99a2a817fb579f408b867b16"
   }
  }
 },
 "nbformat": 4,
 "nbformat_minor": 0
}
